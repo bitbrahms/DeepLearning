{
 "cells": [
  {
   "cell_type": "code",
   "execution_count": 47,
   "metadata": {
    "collapsed": true
   },
   "outputs": [],
   "source": [
    "import numpy as np\n",
    "import math"
   ]
  },
  {
   "cell_type": "code",
   "execution_count": 12,
   "metadata": {
    "collapsed": true
   },
   "outputs": [],
   "source": [
    "a=np.mat([1,2]).transpose()"
   ]
  },
  {
   "cell_type": "code",
   "execution_count": 13,
   "metadata": {
    "collapsed": true
   },
   "outputs": [],
   "source": [
    "m,n=np.shape(a)"
   ]
  },
  {
   "cell_type": "code",
   "execution_count": 14,
   "metadata": {},
   "outputs": [
    {
     "data": {
      "text/plain": [
       "2"
      ]
     },
     "execution_count": 14,
     "metadata": {},
     "output_type": "execute_result"
    }
   ],
   "source": [
    "m"
   ]
  },
  {
   "cell_type": "code",
   "execution_count": 15,
   "metadata": {},
   "outputs": [
    {
     "data": {
      "text/plain": [
       "1"
      ]
     },
     "execution_count": 15,
     "metadata": {},
     "output_type": "execute_result"
    }
   ],
   "source": [
    "n"
   ]
  },
  {
   "cell_type": "code",
   "execution_count": 16,
   "metadata": {},
   "outputs": [
    {
     "data": {
      "text/plain": [
       "matrix([[1],\n",
       "        [2]])"
      ]
     },
     "execution_count": 16,
     "metadata": {},
     "output_type": "execute_result"
    }
   ],
   "source": [
    "a"
   ]
  },
  {
   "cell_type": "code",
   "execution_count": 18,
   "metadata": {
    "collapsed": true
   },
   "outputs": [],
   "source": [
    "a = np.ones((2,1))"
   ]
  },
  {
   "cell_type": "code",
   "execution_count": 19,
   "metadata": {},
   "outputs": [
    {
     "data": {
      "text/plain": [
       "array([[ 1.],\n",
       "       [ 1.]])"
      ]
     },
     "execution_count": 19,
     "metadata": {},
     "output_type": "execute_result"
    }
   ],
   "source": [
    "a"
   ]
  },
  {
   "cell_type": "code",
   "execution_count": 7,
   "metadata": {
    "collapsed": true
   },
   "outputs": [],
   "source": [
    "import logRegres"
   ]
  },
  {
   "cell_type": "code",
   "execution_count": 8,
   "metadata": {
    "collapsed": true
   },
   "outputs": [],
   "source": [
    "from imp import reload"
   ]
  },
  {
   "cell_type": "code",
   "execution_count": 86,
   "metadata": {},
   "outputs": [
    {
     "data": {
      "text/plain": [
       "<module 'logRegres' from 'D:\\\\CPU_Manny\\\\workspace\\\\DeepLearning\\\\MachineLearningInAction\\\\Ch05\\\\logRegres.py'>"
      ]
     },
     "execution_count": 86,
     "metadata": {},
     "output_type": "execute_result"
    }
   ],
   "source": [
    "reload(logRegres)"
   ]
  },
  {
   "cell_type": "code",
   "execution_count": 83,
   "metadata": {
    "collapsed": true
   },
   "outputs": [],
   "source": [
    "dataArr,labelArr = logRegres.loadDataSet()"
   ]
  },
  {
   "cell_type": "code",
   "execution_count": 84,
   "metadata": {},
   "outputs": [
    {
     "data": {
      "text/plain": [
       "matrix([[ 12.78439352],\n",
       "        [  1.11820764],\n",
       "        [ -1.74082686]])"
      ]
     },
     "execution_count": 84,
     "metadata": {},
     "output_type": "execute_result"
    }
   ],
   "source": [
    "logRegres.gradAscent(dataArr,labelArr)"
   ]
  },
  {
   "cell_type": "code",
   "execution_count": 41,
   "metadata": {
    "collapsed": true
   },
   "outputs": [],
   "source": [
    "def sigmoid(x):\n",
    "    return 1.0/(1.0 + math.exp(-x))"
   ]
  },
  {
   "cell_type": "code",
   "execution_count": 55,
   "metadata": {
    "collapsed": true
   },
   "outputs": [],
   "source": [
    "h=[sigmoid(k) for k in (np.mat([[1,2,3],[4,5,6]])*np.mat([3,2,1]).transpose())]"
   ]
  },
  {
   "cell_type": "code",
   "execution_count": 56,
   "metadata": {},
   "outputs": [
    {
     "data": {
      "text/plain": [
       "[0.9999546021312976, 0.9999999999993086]"
      ]
     },
     "execution_count": 56,
     "metadata": {},
     "output_type": "execute_result"
    }
   ],
   "source": [
    "h"
   ]
  },
  {
   "cell_type": "code",
   "execution_count": 36,
   "metadata": {},
   "outputs": [
    {
     "ename": "NameError",
     "evalue": "name 'np' is not defined",
     "output_type": "error",
     "traceback": [
      "\u001b[1;31m---------------------------------------------------------------------------\u001b[0m",
      "\u001b[1;31mNameError\u001b[0m                                 Traceback (most recent call last)",
      "\u001b[1;32m<ipython-input-36-1148a90e7b66>\u001b[0m in \u001b[0;36m<module>\u001b[1;34m()\u001b[0m\n\u001b[1;32m----> 1\u001b[1;33m \u001b[0ma\u001b[0m\u001b[1;33m=\u001b[0m \u001b[0mnp\u001b[0m\u001b[1;33m.\u001b[0m\u001b[0mmat\u001b[0m\u001b[1;33m(\u001b[0m\u001b[1;33m[\u001b[0m\u001b[1;33m[\u001b[0m\u001b[1;36m1\u001b[0m\u001b[1;33m,\u001b[0m\u001b[1;36m2\u001b[0m\u001b[1;33m,\u001b[0m\u001b[1;36m3\u001b[0m\u001b[1;33m]\u001b[0m\u001b[1;33m,\u001b[0m\u001b[1;33m[\u001b[0m\u001b[1;36m4\u001b[0m\u001b[1;33m,\u001b[0m\u001b[1;36m5\u001b[0m\u001b[1;33m,\u001b[0m\u001b[1;36m6\u001b[0m\u001b[1;33m]\u001b[0m\u001b[1;33m]\u001b[0m\u001b[1;33m)\u001b[0m\u001b[1;33m;\u001b[0m\u001b[0mb\u001b[0m\u001b[1;33m=\u001b[0m\u001b[0mnp\u001b[0m\u001b[1;33m.\u001b[0m\u001b[0mones\u001b[0m\u001b[1;33m(\u001b[0m\u001b[1;33m(\u001b[0m\u001b[1;36m3\u001b[0m\u001b[1;33m,\u001b[0m\u001b[1;36m1\u001b[0m\u001b[1;33m)\u001b[0m\u001b[1;33m)\u001b[0m\u001b[1;33m\u001b[0m\u001b[0m\n\u001b[0m",
      "\u001b[1;31mNameError\u001b[0m: name 'np' is not defined"
     ]
    }
   ],
   "source": [
    "a= np.mat([[1,2,3],[4,5,6]]);b=np.ones((3,1))"
   ]
  },
  {
   "cell_type": "code",
   "execution_count": 95,
   "metadata": {
    "collapsed": true
   },
   "outputs": [],
   "source": [
    "h=[sigmoid(k) for k in a*b ]"
   ]
  },
  {
   "cell_type": "code",
   "execution_count": 96,
   "metadata": {},
   "outputs": [
    {
     "data": {
      "text/plain": [
       "[0.9975273768433653, 0.999999694097773]"
      ]
     },
     "execution_count": 96,
     "metadata": {},
     "output_type": "execute_result"
    }
   ],
   "source": [
    "h"
   ]
  },
  {
   "cell_type": "code",
   "execution_count": 1,
   "metadata": {
    "collapsed": true
   },
   "outputs": [],
   "source": [
    "import logRegres"
   ]
  },
  {
   "cell_type": "code",
   "execution_count": 116,
   "metadata": {
    "collapsed": true
   },
   "outputs": [],
   "source": [
    "dataArr,labelArr = logRegres.loadDataSet()"
   ]
  },
  {
   "cell_type": "code",
   "execution_count": 38,
   "metadata": {},
   "outputs": [],
   "source": [
    "import numpy as np"
   ]
  },
  {
   "cell_type": "code",
   "execution_count": 44,
   "metadata": {},
   "outputs": [],
   "source": [
    "from imp import reload\n",
    "import math"
   ]
  },
  {
   "cell_type": "raw",
   "metadata": {},
   "source": [
    "reload(logRegres)"
   ]
  },
  {
   "cell_type": "code",
   "execution_count": 75,
   "metadata": {
    "collapsed": true
   },
   "outputs": [],
   "source": [
    "def gradAscent(dataMatIn, labelMatIn):\n",
    "    dataMatrix = np.mat(dataMatIn)\n",
    "    labelMatrix = np.mat(labelMatIn).transpose()\n",
    "    row,col = np.shape(dataMatrix)\n",
    "    alpha = 0.01\n",
    "    maxCycles = 500\n",
    "    weights = np.ones((col,1))\n",
    "    for k in range(maxCycles):\n",
    "        h = np.mat([sigmoid(i) for i in dataMatrix * weights]).transpose()\n",
    "        error = labelMatrix - h\n",
    "        weights = weights + dataMatrix.transpose() * error * alpha\n",
    "    return h,labelMatrix,error"
   ]
  },
  {
   "cell_type": "code",
   "execution_count": 76,
   "metadata": {},
   "outputs": [
    {
     "data": {
      "text/plain": [
       "(matrix([[  8.30881086e-06],\n",
       "         [  9.57170612e-01],\n",
       "         [  6.36596175e-01],\n",
       "         [  2.41198361e-01],\n",
       "         [  2.50754693e-03],\n",
       "         [  7.18301833e-01],\n",
       "         [  1.75237924e-04],\n",
       "         [  1.27818873e-01],\n",
       "         [  3.91154425e-02],\n",
       "         [  4.50609631e-03],\n",
       "         [  8.43970967e-01],\n",
       "         [  1.76037886e-04],\n",
       "         [  9.99813383e-01],\n",
       "         [  6.39602524e-03],\n",
       "         [  8.94970248e-01],\n",
       "         [  9.99984240e-01],\n",
       "         [  8.85729500e-01],\n",
       "         [  9.99683635e-01],\n",
       "         [  9.99992419e-01],\n",
       "         [  9.80178692e-01],\n",
       "         [  9.99915574e-01],\n",
       "         [  9.99992934e-01],\n",
       "         [  2.32915268e-04],\n",
       "         [  9.99999777e-01],\n",
       "         [  9.96845784e-01],\n",
       "         [  7.17419707e-02],\n",
       "         [  2.03281359e-02],\n",
       "         [  9.99990145e-01],\n",
       "         [  9.99091180e-01],\n",
       "         [  8.49638607e-02],\n",
       "         [  9.95535840e-01],\n",
       "         [  2.62520515e-01],\n",
       "         [  2.43107713e-03],\n",
       "         [  9.99999808e-01],\n",
       "         [  9.95936357e-01],\n",
       "         [  2.87098250e-02],\n",
       "         [  5.04311224e-02],\n",
       "         [  2.62468077e-03],\n",
       "         [  4.21060143e-05],\n",
       "         [  2.67050493e-04],\n",
       "         [  9.98565271e-01],\n",
       "         [  9.65158114e-01],\n",
       "         [  2.80349450e-03],\n",
       "         [  9.99997989e-01],\n",
       "         [  9.99882795e-01],\n",
       "         [  9.45278133e-04],\n",
       "         [  9.99999861e-01],\n",
       "         [  9.38866852e-01],\n",
       "         [  2.23906498e-04],\n",
       "         [  3.01426160e-03],\n",
       "         [  1.00546158e-01],\n",
       "         [  3.72624683e-03],\n",
       "         [  1.55958774e-01],\n",
       "         [  3.73748809e-05],\n",
       "         [  9.96720104e-01],\n",
       "         [  7.30214282e-01],\n",
       "         [  1.91328963e-03],\n",
       "         [  7.93226137e-01],\n",
       "         [  2.32446650e-04],\n",
       "         [  9.83899963e-01],\n",
       "         [  9.90733829e-01],\n",
       "         [  9.99950766e-01],\n",
       "         [  4.64071982e-02],\n",
       "         [  2.06251530e-04],\n",
       "         [  2.71530481e-04],\n",
       "         [  9.99999458e-01],\n",
       "         [  9.87117850e-01],\n",
       "         [  2.54305474e-03],\n",
       "         [  4.79237354e-04],\n",
       "         [  7.04819491e-04],\n",
       "         [  1.79371660e-03],\n",
       "         [  9.99971696e-01],\n",
       "         [  1.25015621e-05],\n",
       "         [  9.99506895e-01],\n",
       "         [  2.08931925e-02],\n",
       "         [  6.76646393e-01],\n",
       "         [  9.99982904e-01],\n",
       "         [  9.99971898e-01],\n",
       "         [  9.98246109e-01],\n",
       "         [  9.85433048e-01],\n",
       "         [  6.32476644e-01],\n",
       "         [  9.99999963e-01],\n",
       "         [  4.38727618e-02],\n",
       "         [  8.21160255e-01],\n",
       "         [  9.99818689e-01],\n",
       "         [  9.99999651e-01],\n",
       "         [  9.94156549e-01],\n",
       "         [  4.83579249e-04],\n",
       "         [  9.94647447e-01],\n",
       "         [  9.99997147e-01],\n",
       "         [  9.99999269e-01],\n",
       "         [  6.94812224e-04],\n",
       "         [  1.87394596e-02],\n",
       "         [  9.99987857e-01],\n",
       "         [  9.99949754e-01],\n",
       "         [  9.99887330e-01],\n",
       "         [  6.82731768e-03],\n",
       "         [  9.99959256e-01],\n",
       "         [  1.27252094e-01],\n",
       "         [  3.66000076e-06]]), matrix([[0],\n",
       "         [1],\n",
       "         [0],\n",
       "         [0],\n",
       "         [0],\n",
       "         [1],\n",
       "         [0],\n",
       "         [1],\n",
       "         [0],\n",
       "         [0],\n",
       "         [1],\n",
       "         [0],\n",
       "         [1],\n",
       "         [0],\n",
       "         [1],\n",
       "         [1],\n",
       "         [1],\n",
       "         [1],\n",
       "         [1],\n",
       "         [1],\n",
       "         [1],\n",
       "         [1],\n",
       "         [0],\n",
       "         [1],\n",
       "         [1],\n",
       "         [0],\n",
       "         [0],\n",
       "         [1],\n",
       "         [1],\n",
       "         [0],\n",
       "         [1],\n",
       "         [1],\n",
       "         [0],\n",
       "         [1],\n",
       "         [1],\n",
       "         [0],\n",
       "         [0],\n",
       "         [0],\n",
       "         [0],\n",
       "         [0],\n",
       "         [1],\n",
       "         [1],\n",
       "         [0],\n",
       "         [1],\n",
       "         [1],\n",
       "         [0],\n",
       "         [1],\n",
       "         [1],\n",
       "         [0],\n",
       "         [0],\n",
       "         [0],\n",
       "         [0],\n",
       "         [0],\n",
       "         [0],\n",
       "         [1],\n",
       "         [1],\n",
       "         [0],\n",
       "         [1],\n",
       "         [0],\n",
       "         [1],\n",
       "         [1],\n",
       "         [1],\n",
       "         [0],\n",
       "         [0],\n",
       "         [0],\n",
       "         [1],\n",
       "         [1],\n",
       "         [0],\n",
       "         [0],\n",
       "         [0],\n",
       "         [0],\n",
       "         [1],\n",
       "         [0],\n",
       "         [1],\n",
       "         [0],\n",
       "         [0],\n",
       "         [1],\n",
       "         [1],\n",
       "         [1],\n",
       "         [1],\n",
       "         [0],\n",
       "         [1],\n",
       "         [0],\n",
       "         [1],\n",
       "         [1],\n",
       "         [1],\n",
       "         [1],\n",
       "         [0],\n",
       "         [1],\n",
       "         [1],\n",
       "         [1],\n",
       "         [0],\n",
       "         [0],\n",
       "         [1],\n",
       "         [1],\n",
       "         [1],\n",
       "         [0],\n",
       "         [1],\n",
       "         [0],\n",
       "         [0]]), matrix([[ -8.30881086e-06],\n",
       "         [  4.28293875e-02],\n",
       "         [ -6.36596175e-01],\n",
       "         [ -2.41198361e-01],\n",
       "         [ -2.50754693e-03],\n",
       "         [  2.81698167e-01],\n",
       "         [ -1.75237924e-04],\n",
       "         [  8.72181127e-01],\n",
       "         [ -3.91154425e-02],\n",
       "         [ -4.50609631e-03],\n",
       "         [  1.56029033e-01],\n",
       "         [ -1.76037886e-04],\n",
       "         [  1.86617152e-04],\n",
       "         [ -6.39602524e-03],\n",
       "         [  1.05029752e-01],\n",
       "         [  1.57595476e-05],\n",
       "         [  1.14270500e-01],\n",
       "         [  3.16365146e-04],\n",
       "         [  7.58139719e-06],\n",
       "         [  1.98213081e-02],\n",
       "         [  8.44264878e-05],\n",
       "         [  7.06632481e-06],\n",
       "         [ -2.32915268e-04],\n",
       "         [  2.22689533e-07],\n",
       "         [  3.15421619e-03],\n",
       "         [ -7.17419707e-02],\n",
       "         [ -2.03281359e-02],\n",
       "         [  9.85517142e-06],\n",
       "         [  9.08820233e-04],\n",
       "         [ -8.49638607e-02],\n",
       "         [  4.46416000e-03],\n",
       "         [  7.37479485e-01],\n",
       "         [ -2.43107713e-03],\n",
       "         [  1.92286899e-07],\n",
       "         [  4.06364278e-03],\n",
       "         [ -2.87098250e-02],\n",
       "         [ -5.04311224e-02],\n",
       "         [ -2.62468077e-03],\n",
       "         [ -4.21060143e-05],\n",
       "         [ -2.67050493e-04],\n",
       "         [  1.43472921e-03],\n",
       "         [  3.48418856e-02],\n",
       "         [ -2.80349450e-03],\n",
       "         [  2.01148996e-06],\n",
       "         [  1.17205026e-04],\n",
       "         [ -9.45278133e-04],\n",
       "         [  1.38923026e-07],\n",
       "         [  6.11331478e-02],\n",
       "         [ -2.23906498e-04],\n",
       "         [ -3.01426160e-03],\n",
       "         [ -1.00546158e-01],\n",
       "         [ -3.72624683e-03],\n",
       "         [ -1.55958774e-01],\n",
       "         [ -3.73748809e-05],\n",
       "         [  3.27989566e-03],\n",
       "         [  2.69785718e-01],\n",
       "         [ -1.91328963e-03],\n",
       "         [  2.06773863e-01],\n",
       "         [ -2.32446650e-04],\n",
       "         [  1.61000374e-02],\n",
       "         [  9.26617120e-03],\n",
       "         [  4.92339571e-05],\n",
       "         [ -4.64071982e-02],\n",
       "         [ -2.06251530e-04],\n",
       "         [ -2.71530481e-04],\n",
       "         [  5.41780073e-07],\n",
       "         [  1.28821498e-02],\n",
       "         [ -2.54305474e-03],\n",
       "         [ -4.79237354e-04],\n",
       "         [ -7.04819491e-04],\n",
       "         [ -1.79371660e-03],\n",
       "         [  2.83038874e-05],\n",
       "         [ -1.25015621e-05],\n",
       "         [  4.93105142e-04],\n",
       "         [ -2.08931925e-02],\n",
       "         [ -6.76646393e-01],\n",
       "         [  1.70958123e-05],\n",
       "         [  2.81020128e-05],\n",
       "         [  1.75389112e-03],\n",
       "         [  1.45669518e-02],\n",
       "         [ -6.32476644e-01],\n",
       "         [  3.67934940e-08],\n",
       "         [ -4.38727618e-02],\n",
       "         [  1.78839745e-01],\n",
       "         [  1.81310976e-04],\n",
       "         [  3.49153492e-07],\n",
       "         [  5.84345118e-03],\n",
       "         [ -4.83579249e-04],\n",
       "         [  5.35255273e-03],\n",
       "         [  2.85334363e-06],\n",
       "         [  7.31470797e-07],\n",
       "         [ -6.94812224e-04],\n",
       "         [ -1.87394596e-02],\n",
       "         [  1.21430507e-05],\n",
       "         [  5.02458423e-05],\n",
       "         [  1.12670203e-04],\n",
       "         [ -6.82731768e-03],\n",
       "         [  4.07435279e-05],\n",
       "         [ -1.27252094e-01],\n",
       "         [ -3.66000076e-06]]))"
      ]
     },
     "execution_count": 76,
     "metadata": {},
     "output_type": "execute_result"
    }
   ],
   "source": [
    "gradAscent(dataArr,labelArr)"
   ]
  },
  {
   "cell_type": "code",
   "execution_count": 118,
   "metadata": {},
   "outputs": [
    {
     "ename": "NameError",
     "evalue": "name 'shape' is not defined",
     "output_type": "error",
     "traceback": [
      "\u001b[1;31m---------------------------------------------------------------------------\u001b[0m",
      "\u001b[1;31mNameError\u001b[0m                                 Traceback (most recent call last)",
      "\u001b[1;32m<ipython-input-118-43448ce3db70>\u001b[0m in \u001b[0;36m<module>\u001b[1;34m()\u001b[0m\n\u001b[1;32m----> 1\u001b[1;33m \u001b[0mlogRegres\u001b[0m\u001b[1;33m.\u001b[0m\u001b[0mplotBestFig\u001b[0m\u001b[1;33m(\u001b[0m\u001b[0mweights\u001b[0m\u001b[1;33m)\u001b[0m\u001b[1;33m\u001b[0m\u001b[0m\n\u001b[0m",
      "\u001b[1;32mD:\\CPU_Manny\\workspace\\DeepLearning\\MachineLearningInAction\\Ch05\\logRegres.py\u001b[0m in \u001b[0;36mplotBestFig\u001b[1;34m(weightIn)\u001b[0m\n\u001b[0;32m     44\u001b[0m     \u001b[0mdataMatrix\u001b[0m\u001b[1;33m,\u001b[0m\u001b[0mlabelMatrix\u001b[0m \u001b[1;33m=\u001b[0m \u001b[0mloadDataSet\u001b[0m\u001b[1;33m(\u001b[0m\u001b[1;33m)\u001b[0m\u001b[1;33m\u001b[0m\u001b[0m\n\u001b[0;32m     45\u001b[0m     \u001b[0mdataArr\u001b[0m \u001b[1;33m=\u001b[0m \u001b[0mnp\u001b[0m\u001b[1;33m.\u001b[0m\u001b[0marray\u001b[0m\u001b[1;33m(\u001b[0m\u001b[0mdataMatrix\u001b[0m\u001b[1;33m)\u001b[0m\u001b[1;33m\u001b[0m\u001b[0m\n\u001b[1;32m---> 46\u001b[1;33m     \u001b[0mcol\u001b[0m \u001b[1;33m=\u001b[0m \u001b[0mnp\u001b[0m\u001b[1;33m.\u001b[0m\u001b[0mshape\u001b[0m\u001b[1;33m(\u001b[0m\u001b[0mdataArr\u001b[0m\u001b[1;33m)\u001b[0m\u001b[1;33m[\u001b[0m\u001b[1;36m0\u001b[0m\u001b[1;33m]\u001b[0m\u001b[1;33m\u001b[0m\u001b[0m\n\u001b[0m\u001b[0;32m     47\u001b[0m     \u001b[0mxcord1\u001b[0m \u001b[1;33m=\u001b[0m \u001b[1;33m[\u001b[0m\u001b[1;33m]\u001b[0m\u001b[1;33m\u001b[0m\u001b[0m\n\u001b[0;32m     48\u001b[0m     \u001b[0mycord1\u001b[0m \u001b[1;33m=\u001b[0m \u001b[1;33m[\u001b[0m\u001b[1;33m]\u001b[0m\u001b[1;33m\u001b[0m\u001b[0m\n",
      "\u001b[1;31mNameError\u001b[0m: name 'shape' is not defined"
     ]
    }
   ],
   "source": [
    "logRegres.plotBestFig(weights)"
   ]
  },
  {
   "cell_type": "code",
   "execution_count": 117,
   "metadata": {},
   "outputs": [],
   "source": [
    "weights = logRegres.gradAscent(dataArr, labelArr)"
   ]
  },
  {
   "cell_type": "code",
   "execution_count": 103,
   "metadata": {},
   "outputs": [
    {
     "data": {
      "text/plain": [
       "array([[ 12.78439365],\n",
       "       [  1.11820765],\n",
       "       [ -1.74082688]])"
      ]
     },
     "execution_count": 103,
     "metadata": {},
     "output_type": "execute_result"
    }
   ],
   "source": [
    "weights.getA()"
   ]
  },
  {
   "cell_type": "code",
   "execution_count": 104,
   "metadata": {},
   "outputs": [
    {
     "data": {
      "text/plain": [
       "matrix([[ 12.78439365],\n",
       "        [  1.11820765],\n",
       "        [ -1.74082688]])"
      ]
     },
     "execution_count": 104,
     "metadata": {},
     "output_type": "execute_result"
    }
   ],
   "source": [
    "weights"
   ]
  },
  {
   "cell_type": "code",
   "execution_count": 137,
   "metadata": {},
   "outputs": [],
   "source": [
    "a = np.array(dataArr)"
   ]
  },
  {
   "cell_type": "code",
   "execution_count": 138,
   "metadata": {},
   "outputs": [],
   "source": [
    "b=np.shape(a)[0]"
   ]
  },
  {
   "cell_type": "code",
   "execution_count": 141,
   "metadata": {},
   "outputs": [
    {
     "data": {
      "text/plain": [
       "100"
      ]
     },
     "execution_count": 141,
     "metadata": {},
     "output_type": "execute_result"
    }
   ],
   "source": [
    "b"
   ]
  },
  {
   "cell_type": "code",
   "execution_count": 132,
   "metadata": {},
   "outputs": [
    {
     "data": {
      "text/plain": [
       "<module 'logRegres' from 'D:\\\\CPU_Manny\\\\workspace\\\\DeepLearning\\\\MachineLearningInAction\\\\Ch05\\\\logRegres.py'>"
      ]
     },
     "execution_count": 132,
     "metadata": {},
     "output_type": "execute_result"
    }
   ],
   "source": [
    "reload(logRegres)"
   ]
  },
  {
   "cell_type": "code",
   "execution_count": 133,
   "metadata": {
    "collapsed": true
   },
   "outputs": [],
   "source": [
    "dataArr,labelArr = logRegres.loadDataSet()"
   ]
  },
  {
   "cell_type": "code",
   "execution_count": 134,
   "metadata": {
    "collapsed": true
   },
   "outputs": [],
   "source": [
    "weights = logRegres.gradAscent(dataArr, labelArr)"
   ]
  },
  {
   "cell_type": "code",
   "execution_count": 135,
   "metadata": {},
   "outputs": [
    {
     "data": {
      "image/png": "[encoded data removed]",
      "text/plain": [
       "<matplotlib.figure.Figure at 0x6e00450>"
      ]
     },
     "metadata": {},
     "output_type": "display_data"
    },
    {
     "data": {
      "image/png": "[encoded data removed]",
      "text/plain": [
       "<matplotlib.figure.Figure at 0x6eed430>"
      ]
     },
     "metadata": {},
     "output_type": "display_data"
    },
    {
     "data": {
      "image/png": "[encoded data removed]",
      "text/plain": [
       "<matplotlib.figure.Figure at 0x6f4a2d0>"
      ]
     },
     "metadata": {},
     "output_type": "display_data"
    },
    {
     "data": {
      "image/png": "[encoded data removed]",
      "text/plain": [
       "<matplotlib.figure.Figure at 0x83d3e10>"
      ]
     },
     "metadata": {},
     "output_type": "display_data"
    },
    {
     "data": {
      "image/png": "[encoded data removed]",
      "text/plain": [
       "<matplotlib.figure.Figure at 0x6f17e70>"
      ]
     },
     "metadata": {},
     "output_type": "display_data"
    }
   ],
   "source": [
    "logRegres.plotBestFig(weights)"
   ]
  },
  {
   "cell_type": "code",
   "execution_count": 136,
   "metadata": {},
   "outputs": [
    {
     "ename": "NameError",
     "evalue": "name 'getA' is not defined",
     "output_type": "error",
     "traceback": [
      "\u001b[1;31m---------------------------------------------------------------------------\u001b[0m",
      "\u001b[1;31mNameError\u001b[0m                                 Traceback (most recent call last)",
      "\u001b[1;32m<ipython-input-136-42518fb27903>\u001b[0m in \u001b[0;36m<module>\u001b[1;34m()\u001b[0m\n\u001b[1;32m----> 1\u001b[1;33m \u001b[0mgetA\u001b[0m\u001b[1;33m(\u001b[0m\u001b[1;33m)\u001b[0m\u001b[1;33m\u001b[0m\u001b[0m\n\u001b[0m",
      "\u001b[1;31mNameError\u001b[0m: name 'getA' is not defined"
     ]
    }
   ],
   "source": [
    "getA()"
   ]
  },
  {
   "cell_type": "code",
   "execution_count": 142,
   "metadata": {
    "collapsed": true
   },
   "outputs": [],
   "source": [
    "import matplotlib.pyplot as plt"
   ]
  },
  {
   "cell_type": "code",
   "execution_count": 143,
   "metadata": {
    "collapsed": true
   },
   "outputs": [],
   "source": [
    "fig = plt.figure()"
   ]
  },
  {
   "cell_type": "code",
   "execution_count": 144,
   "metadata": {
    "collapsed": true
   },
   "outputs": [],
   "source": [
    "ax1 = fig.add_subplot(2,2,1)"
   ]
  },
  {
   "cell_type": "code",
   "execution_count": 149,
   "metadata": {},
   "outputs": [],
   "source": [
    "ax2 = fig.add_subplot(2,2,2)"
   ]
  },
  {
   "cell_type": "code",
   "execution_count": 150,
   "metadata": {},
   "outputs": [
    {
     "data": {
      "image/png": "[encoded data removed]",
      "text/plain": [
       "<matplotlib.figure.Figure at 0x871dd70>"
      ]
     },
     "execution_count": 150,
     "metadata": {},
     "output_type": "execute_result"
    }
   ],
   "source": [
    "fig"
   ]
  },
  {
   "cell_type": "code",
   "execution_count": null,
   "metadata": {
    "collapsed": true
   },
   "outputs": [],
   "source": []
  }
 ],
 "metadata": {
  "kernelspec": {
   "display_name": "Python 3",
   "language": "python",
   "name": "python3"
  },
  "language_info": {
   "codemirror_mode": {
    "name": "ipython",
    "version": 3
   },
   "file_extension": ".py",
   "mimetype": "text/x-python",
   "name": "python",
   "nbconvert_exporter": "python",
   "pygments_lexer": "ipython3",
   "version": "3.6.1"
  }
 },
 "nbformat": 4,
 "nbformat_minor": 2
}
