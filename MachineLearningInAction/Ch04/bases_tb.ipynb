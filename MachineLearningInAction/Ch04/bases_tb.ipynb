{
 "cells": [
  {
   "cell_type": "code",
   "execution_count": 9,
   "metadata": {
    "collapsed": true
   },
   "outputs": [],
   "source": [
    "import bayes"
   ]
  },
  {
   "cell_type": "code",
   "execution_count": 74,
   "metadata": {
    "collapsed": true
   },
   "outputs": [],
   "source": [
    "from imp import reload"
   ]
  },
  {
   "cell_type": "code",
   "execution_count": 92,
   "metadata": {},
   "outputs": [
    {
     "data": {
      "text/plain": [
       "<module 'bayes' from 'D:\\\\CPU_Manny\\\\workspace\\\\DeepLearning\\\\MachineLearningInAction\\\\Ch04\\\\bayes.py'>"
      ]
     },
     "execution_count": 92,
     "metadata": {},
     "output_type": "execute_result"
    }
   ],
   "source": [
    "reload(bayes)"
   ]
  },
  {
   "cell_type": "code",
   "execution_count": 93,
   "metadata": {
    "collapsed": true
   },
   "outputs": [],
   "source": [
    "listPosts,listClasses = bayes.loadDataSet()"
   ]
  },
  {
   "cell_type": "code",
   "execution_count": 94,
   "metadata": {
    "collapsed": true
   },
   "outputs": [],
   "source": [
    "myVocabList = bayes.createVocabList(listPosts)"
   ]
  },
  {
   "cell_type": "code",
   "execution_count": 95,
   "metadata": {},
   "outputs": [
    {
     "data": {
      "text/plain": [
       "['I',\n",
       " 'ate',\n",
       " 'buying',\n",
       " 'cute',\n",
       " 'dalmation',\n",
       " 'dog',\n",
       " 'flea',\n",
       " 'food',\n",
       " 'garbage',\n",
       " 'has',\n",
       " 'help',\n",
       " 'him',\n",
       " 'how',\n",
       " 'is',\n",
       " 'licks',\n",
       " 'love',\n",
       " 'maybe',\n",
       " 'mr',\n",
       " 'my',\n",
       " 'not',\n",
       " 'park',\n",
       " 'please',\n",
       " 'posting',\n",
       " 'problems',\n",
       " 'quit',\n",
       " 'so',\n",
       " 'steak',\n",
       " 'stop',\n",
       " 'stupid',\n",
       " 'take',\n",
       " 'to',\n",
       " 'worthless']"
      ]
     },
     "execution_count": 95,
     "metadata": {},
     "output_type": "execute_result"
    }
   ],
   "source": [
    "myVocabList"
   ]
  },
  {
   "cell_type": "code",
   "execution_count": 96,
   "metadata": {
    "collapsed": true
   },
   "outputs": [],
   "source": [
    "trainMatrix = []"
   ]
  },
  {
   "cell_type": "code",
   "execution_count": 97,
   "metadata": {
    "collapsed": true
   },
   "outputs": [],
   "source": [
    "for doc in listPosts:\n",
    "    trainMatrix.append(bayes.setWords2Vec(myVocabList,doc))"
   ]
  },
  {
   "cell_type": "code",
   "execution_count": 98,
   "metadata": {
    "scrolled": true
   },
   "outputs": [
    {
     "data": {
      "text/plain": [
       "[[0,\n",
       "  0,\n",
       "  0,\n",
       "  0,\n",
       "  0,\n",
       "  1,\n",
       "  1,\n",
       "  0,\n",
       "  0,\n",
       "  1,\n",
       "  1,\n",
       "  0,\n",
       "  0,\n",
       "  0,\n",
       "  0,\n",
       "  0,\n",
       "  0,\n",
       "  0,\n",
       "  1,\n",
       "  0,\n",
       "  0,\n",
       "  1,\n",
       "  0,\n",
       "  1,\n",
       "  0,\n",
       "  0,\n",
       "  0,\n",
       "  0,\n",
       "  0,\n",
       "  0,\n",
       "  0,\n",
       "  0],\n",
       " [0,\n",
       "  0,\n",
       "  0,\n",
       "  0,\n",
       "  0,\n",
       "  1,\n",
       "  0,\n",
       "  0,\n",
       "  0,\n",
       "  0,\n",
       "  0,\n",
       "  1,\n",
       "  0,\n",
       "  0,\n",
       "  0,\n",
       "  0,\n",
       "  1,\n",
       "  0,\n",
       "  0,\n",
       "  1,\n",
       "  1,\n",
       "  0,\n",
       "  0,\n",
       "  0,\n",
       "  0,\n",
       "  0,\n",
       "  0,\n",
       "  0,\n",
       "  1,\n",
       "  1,\n",
       "  1,\n",
       "  0],\n",
       " [1,\n",
       "  0,\n",
       "  0,\n",
       "  1,\n",
       "  1,\n",
       "  0,\n",
       "  0,\n",
       "  0,\n",
       "  0,\n",
       "  0,\n",
       "  0,\n",
       "  1,\n",
       "  0,\n",
       "  1,\n",
       "  0,\n",
       "  1,\n",
       "  0,\n",
       "  0,\n",
       "  1,\n",
       "  0,\n",
       "  0,\n",
       "  0,\n",
       "  0,\n",
       "  0,\n",
       "  0,\n",
       "  1,\n",
       "  0,\n",
       "  0,\n",
       "  0,\n",
       "  0,\n",
       "  0,\n",
       "  0],\n",
       " [0,\n",
       "  0,\n",
       "  0,\n",
       "  0,\n",
       "  0,\n",
       "  0,\n",
       "  0,\n",
       "  0,\n",
       "  1,\n",
       "  0,\n",
       "  0,\n",
       "  0,\n",
       "  0,\n",
       "  0,\n",
       "  0,\n",
       "  0,\n",
       "  0,\n",
       "  0,\n",
       "  0,\n",
       "  0,\n",
       "  0,\n",
       "  0,\n",
       "  1,\n",
       "  0,\n",
       "  0,\n",
       "  0,\n",
       "  0,\n",
       "  1,\n",
       "  1,\n",
       "  0,\n",
       "  0,\n",
       "  1],\n",
       " [0,\n",
       "  1,\n",
       "  0,\n",
       "  0,\n",
       "  0,\n",
       "  0,\n",
       "  0,\n",
       "  0,\n",
       "  0,\n",
       "  0,\n",
       "  0,\n",
       "  1,\n",
       "  1,\n",
       "  0,\n",
       "  1,\n",
       "  0,\n",
       "  0,\n",
       "  1,\n",
       "  1,\n",
       "  0,\n",
       "  0,\n",
       "  0,\n",
       "  0,\n",
       "  0,\n",
       "  0,\n",
       "  0,\n",
       "  1,\n",
       "  1,\n",
       "  0,\n",
       "  0,\n",
       "  1,\n",
       "  0],\n",
       " [0,\n",
       "  0,\n",
       "  1,\n",
       "  0,\n",
       "  0,\n",
       "  1,\n",
       "  0,\n",
       "  1,\n",
       "  0,\n",
       "  0,\n",
       "  0,\n",
       "  0,\n",
       "  0,\n",
       "  0,\n",
       "  0,\n",
       "  0,\n",
       "  0,\n",
       "  0,\n",
       "  0,\n",
       "  0,\n",
       "  0,\n",
       "  0,\n",
       "  0,\n",
       "  0,\n",
       "  1,\n",
       "  0,\n",
       "  0,\n",
       "  0,\n",
       "  1,\n",
       "  0,\n",
       "  0,\n",
       "  1]]"
      ]
     },
     "execution_count": 98,
     "metadata": {},
     "output_type": "execute_result"
    }
   ],
   "source": [
    "trainMatrix"
   ]
  },
  {
   "cell_type": "code",
   "execution_count": 99,
   "metadata": {},
   "outputs": [
    {
     "ename": "TypeError",
     "evalue": "only length-1 arrays can be converted to Python scalars",
     "output_type": "error",
     "traceback": [
      "\u001b[1;31m---------------------------------------------------------------------------\u001b[0m",
      "\u001b[1;31mTypeError\u001b[0m                                 Traceback (most recent call last)",
      "\u001b[1;32m<ipython-input-99-3db1dbe1a1b3>\u001b[0m in \u001b[0;36m<module>\u001b[1;34m()\u001b[0m\n\u001b[1;32m----> 1\u001b[1;33m \u001b[0mpo_vec\u001b[0m\u001b[1;33m,\u001b[0m\u001b[0mp1_vec\u001b[0m\u001b[1;33m,\u001b[0m\u001b[0mp_abusive\u001b[0m \u001b[1;33m=\u001b[0m \u001b[0mbayes\u001b[0m\u001b[1;33m.\u001b[0m\u001b[0mtrainBayes\u001b[0m\u001b[1;33m(\u001b[0m\u001b[0mtrainMatrix\u001b[0m\u001b[1;33m,\u001b[0m\u001b[0mlistClasses\u001b[0m\u001b[1;33m)\u001b[0m\u001b[1;33m\u001b[0m\u001b[0m\n\u001b[0m",
      "\u001b[1;32mD:\\CPU_Manny\\workspace\\DeepLearning\\MachineLearningInAction\\Ch04\\bayes.py\u001b[0m in \u001b[0;36mtrainBayes\u001b[1;34m(trainMatrix, trainCategory)\u001b[0m\n\u001b[0;32m     52\u001b[0m             \u001b[0mp0_num\u001b[0m \u001b[1;33m+=\u001b[0m \u001b[0mtrainMatrix\u001b[0m\u001b[1;33m[\u001b[0m\u001b[0mi\u001b[0m\u001b[1;33m]\u001b[0m\u001b[1;33m\u001b[0m\u001b[0m\n\u001b[0;32m     53\u001b[0m             \u001b[0mp0_sum\u001b[0m \u001b[1;33m+=\u001b[0m \u001b[0mnp\u001b[0m\u001b[1;33m.\u001b[0m\u001b[0msum\u001b[0m\u001b[1;33m(\u001b[0m\u001b[0mtrainMatrix\u001b[0m\u001b[1;33m[\u001b[0m\u001b[0mi\u001b[0m\u001b[1;33m]\u001b[0m\u001b[1;33m)\u001b[0m\u001b[1;33m\u001b[0m\u001b[0m\n\u001b[1;32m---> 54\u001b[1;33m     \u001b[0mp1_vec\u001b[0m \u001b[1;33m=\u001b[0m \u001b[0mlog\u001b[0m\u001b[1;33m(\u001b[0m\u001b[0mnp\u001b[0m\u001b[1;33m.\u001b[0m\u001b[0marray\u001b[0m\u001b[1;33m(\u001b[0m\u001b[0mp1_num\u001b[0m\u001b[1;33m)\u001b[0m\u001b[1;33m/\u001b[0m\u001b[0mp1_sum\u001b[0m\u001b[1;33m)\u001b[0m\u001b[1;33m\u001b[0m\u001b[0m\n\u001b[0m\u001b[0;32m     55\u001b[0m     \u001b[0mp0_vec\u001b[0m \u001b[1;33m=\u001b[0m \u001b[0mlog\u001b[0m\u001b[1;33m(\u001b[0m\u001b[0mnp\u001b[0m\u001b[1;33m.\u001b[0m\u001b[0marray\u001b[0m\u001b[1;33m(\u001b[0m\u001b[0mp0_num\u001b[0m\u001b[1;33m)\u001b[0m\u001b[1;33m/\u001b[0m\u001b[0mp0_sum\u001b[0m\u001b[1;33m)\u001b[0m\u001b[1;33m\u001b[0m\u001b[0m\n\u001b[0;32m     56\u001b[0m     \u001b[1;32mreturn\u001b[0m \u001b[0mp0_vec\u001b[0m\u001b[1;33m,\u001b[0m\u001b[0mp1_vec\u001b[0m\u001b[1;33m,\u001b[0m\u001b[0mp_abusive\u001b[0m\u001b[1;33m\u001b[0m\u001b[0m\n",
      "\u001b[1;31mTypeError\u001b[0m: only length-1 arrays can be converted to Python scalars"
     ]
    }
   ],
   "source": [
    "po_vec,p1_vec,p_abusive = bayes.trainBayes(trainMatrix,listClasses)"
   ]
  },
  {
   "cell_type": "code",
   "execution_count": 100,
   "metadata": {},
   "outputs": [
    {
     "data": {
      "text/plain": [
       "0.5"
      ]
     },
     "execution_count": 100,
     "metadata": {},
     "output_type": "execute_result"
    }
   ],
   "source": [
    "p_abusive"
   ]
  },
  {
   "cell_type": "code",
   "execution_count": 101,
   "metadata": {},
   "outputs": [
    {
     "data": {
      "text/plain": [
       "array([ 0.        ,  0.        ,  0.05263158,  0.        ,  0.        ,\n",
       "        0.10526316,  0.        ,  0.05263158,  0.05263158,  0.        ,\n",
       "        0.        ,  0.05263158,  0.        ,  0.        ,  0.        ,\n",
       "        0.        ,  0.05263158,  0.        ,  0.        ,  0.05263158,\n",
       "        0.05263158,  0.        ,  0.05263158,  0.        ,  0.05263158,\n",
       "        0.        ,  0.        ,  0.05263158,  0.15789474,  0.05263158,\n",
       "        0.05263158,  0.10526316])"
      ]
     },
     "execution_count": 101,
     "metadata": {},
     "output_type": "execute_result"
    }
   ],
   "source": [
    "p1_vec"
   ]
  },
  {
   "cell_type": "code",
   "execution_count": 128,
   "metadata": {
    "collapsed": true
   },
   "outputs": [],
   "source": [
    "import numpy as np\n",
    "from math import log"
   ]
  },
  {
   "cell_type": "code",
   "execution_count": 160,
   "metadata": {},
   "outputs": [
    {
     "data": {
      "text/plain": [
       "<module 'bayes' from 'D:\\\\CPU_Manny\\\\workspace\\\\DeepLearning\\\\MachineLearningInAction\\\\Ch04\\\\bayes.py'>"
      ]
     },
     "execution_count": 160,
     "metadata": {},
     "output_type": "execute_result"
    }
   ],
   "source": [
    "reload(bayes)"
   ]
  },
  {
   "cell_type": "code",
   "execution_count": 161,
   "metadata": {},
   "outputs": [
    {
     "name": "stdout",
     "output_type": "stream",
     "text": [
      "[0, 0, 0, 0, 0, 1, 0, 0, 0, 0, 0, 0, 0, 0, 0, 1, 0, 0, 1, 0, 0, 0, 0, 0, 0, 0, 0, 0, 0, 0, 0, 0] classfied as:  0\n"
     ]
    }
   ],
   "source": [
    "bayes.testingBayes()"
   ]
  },
  {
   "cell_type": "code",
   "execution_count": 115,
   "metadata": {
    "collapsed": true
   },
   "outputs": [],
   "source": [
    "import numpy as np"
   ]
  },
  {
   "cell_type": "code",
   "execution_count": 117,
   "metadata": {},
   "outputs": [
    {
     "data": {
      "text/plain": [
       "array(2)"
      ]
     },
     "execution_count": 117,
     "metadata": {},
     "output_type": "execute_result"
    }
   ],
   "source": [
    "np.array(2)"
   ]
  },
  {
   "cell_type": "code",
   "execution_count": 118,
   "metadata": {},
   "outputs": [
    {
     "data": {
      "text/plain": [
       "[2, 2, 2, 2, 2]"
      ]
     },
     "execution_count": 118,
     "metadata": {},
     "output_type": "execute_result"
    }
   ],
   "source": [
    "[2]*5"
   ]
  },
  {
   "cell_type": "code",
   "execution_count": 127,
   "metadata": {},
   "outputs": [
    {
     "ename": "TypeError",
     "evalue": "Required argument 'object' (pos 1) not found",
     "output_type": "error",
     "traceback": [
      "\u001b[1;31m---------------------------------------------------------------------------\u001b[0m",
      "\u001b[1;31mTypeError\u001b[0m                                 Traceback (most recent call last)",
      "\u001b[1;32m<ipython-input-127-fbb0ddf8f7fb>\u001b[0m in \u001b[0;36m<module>\u001b[1;34m()\u001b[0m\n\u001b[1;32m----> 1\u001b[1;33m \u001b[0mnp\u001b[0m\u001b[1;33m.\u001b[0m\u001b[0marray\u001b[0m\u001b[1;33m(\u001b[0m\u001b[1;33m)\u001b[0m\u001b[1;33m\u001b[0m\u001b[0m\n\u001b[0m",
      "\u001b[1;31mTypeError\u001b[0m: Required argument 'object' (pos 1) not found"
     ]
    }
   ],
   "source": [
    "np.array()"
   ]
  },
  {
   "cell_type": "code",
   "execution_count": 142,
   "metadata": {},
   "outputs": [
    {
     "ename": "TypeError",
     "evalue": "unsupported operand type(s) for /: 'list' and 'list'",
     "output_type": "error",
     "traceback": [
      "\u001b[1;31m---------------------------------------------------------------------------\u001b[0m",
      "\u001b[1;31mTypeError\u001b[0m                                 Traceback (most recent call last)",
      "\u001b[1;32m<ipython-input-142-6223a22c6fe0>\u001b[0m in \u001b[0;36m<module>\u001b[1;34m()\u001b[0m\n\u001b[1;32m----> 1\u001b[1;33m \u001b[1;33m[\u001b[0m\u001b[1;36m1\u001b[0m\u001b[1;33m,\u001b[0m\u001b[1;36m2\u001b[0m\u001b[1;33m,\u001b[0m\u001b[1;36m3\u001b[0m\u001b[1;33m]\u001b[0m\u001b[1;33m/\u001b[0m\u001b[1;33m[\u001b[0m\u001b[1;36m2\u001b[0m\u001b[1;33m,\u001b[0m\u001b[1;36m2\u001b[0m\u001b[1;33m,\u001b[0m\u001b[1;36m2\u001b[0m\u001b[1;33m]\u001b[0m\u001b[1;33m\u001b[0m\u001b[0m\n\u001b[0m",
      "\u001b[1;31mTypeError\u001b[0m: unsupported operand type(s) for /: 'list' and 'list'"
     ]
    }
   ],
   "source": [
    "[1,2,3]/[2,2,2]"
   ]
  },
  {
   "cell_type": "code",
   "execution_count": 145,
   "metadata": {},
   "outputs": [
    {
     "ename": "TypeError",
     "evalue": "unsupported operand type(s) for /: 'list' and 'int'",
     "output_type": "error",
     "traceback": [
      "\u001b[1;31m---------------------------------------------------------------------------\u001b[0m",
      "\u001b[1;31mTypeError\u001b[0m                                 Traceback (most recent call last)",
      "\u001b[1;32m<ipython-input-145-896419e47c0b>\u001b[0m in \u001b[0;36m<module>\u001b[1;34m()\u001b[0m\n\u001b[1;32m----> 1\u001b[1;33m \u001b[1;33m[\u001b[0m\u001b[1;36m1\u001b[0m\u001b[1;33m,\u001b[0m\u001b[1;36m2\u001b[0m\u001b[1;33m,\u001b[0m\u001b[1;36m3\u001b[0m\u001b[1;33m]\u001b[0m\u001b[1;33m/\u001b[0m\u001b[1;36m2\u001b[0m\u001b[1;33m\u001b[0m\u001b[0m\n\u001b[0m",
      "\u001b[1;31mTypeError\u001b[0m: unsupported operand type(s) for /: 'list' and 'int'"
     ]
    }
   ],
   "source": [
    "[1,2,3]/2"
   ]
  },
  {
   "cell_type": "code",
   "execution_count": 146,
   "metadata": {},
   "outputs": [
    {
     "ename": "TypeError",
     "evalue": "must be real number, not list",
     "output_type": "error",
     "traceback": [
      "\u001b[1;31m---------------------------------------------------------------------------\u001b[0m",
      "\u001b[1;31mTypeError\u001b[0m                                 Traceback (most recent call last)",
      "\u001b[1;32m<ipython-input-146-052e0e566d6d>\u001b[0m in \u001b[0;36m<module>\u001b[1;34m()\u001b[0m\n\u001b[1;32m----> 1\u001b[1;33m \u001b[0mlog\u001b[0m\u001b[1;33m(\u001b[0m\u001b[1;33m[\u001b[0m\u001b[1;36m1\u001b[0m\u001b[1;33m,\u001b[0m\u001b[1;36m2\u001b[0m\u001b[1;33m,\u001b[0m\u001b[1;36m3\u001b[0m\u001b[1;33m]\u001b[0m\u001b[1;33m)\u001b[0m\u001b[1;33m\u001b[0m\u001b[0m\n\u001b[0m",
      "\u001b[1;31mTypeError\u001b[0m: must be real number, not list"
     ]
    }
   ],
   "source": [
    "log([1,2,3])"
   ]
  },
  {
   "cell_type": "code",
   "execution_count": 148,
   "metadata": {},
   "outputs": [
    {
     "data": {
      "text/plain": [
       "[0.0, 0.6931471805599453, 1.0986122886681098]"
      ]
     },
     "execution_count": 148,
     "metadata": {},
     "output_type": "execute_result"
    }
   ],
   "source": [
    "[log(i) for i in [1,2,3]]"
   ]
  },
  {
   "cell_type": "code",
   "execution_count": 153,
   "metadata": {
    "scrolled": true
   },
   "outputs": [
    {
     "ename": "TypeError",
     "evalue": "trainBayes() missing 2 required positional arguments: 'trainMatrix' and 'trainCategory'",
     "output_type": "error",
     "traceback": [
      "\u001b[1;31m---------------------------------------------------------------------------\u001b[0m",
      "\u001b[1;31mTypeError\u001b[0m                                 Traceback (most recent call last)",
      "\u001b[1;32m<ipython-input-153-43a3f4fd48ba>\u001b[0m in \u001b[0;36m<module>\u001b[1;34m()\u001b[0m\n\u001b[1;32m----> 1\u001b[1;33m \u001b[0mbayes\u001b[0m\u001b[1;33m.\u001b[0m\u001b[0mtrainBayes\u001b[0m\u001b[1;33m(\u001b[0m\u001b[1;33m)\u001b[0m\u001b[1;33m\u001b[0m\u001b[0m\n\u001b[0m",
      "\u001b[1;31mTypeError\u001b[0m: trainBayes() missing 2 required positional arguments: 'trainMatrix' and 'trainCategory'"
     ]
    }
   ],
   "source": [
    "bayes.trainBayes()"
   ]
  },
  {
   "cell_type": "code",
   "execution_count": 283,
   "metadata": {
    "scrolled": true
   },
   "outputs": [
    {
     "data": {
      "text/plain": [
       "<module 'bayes' from 'D:\\\\CPU_Manny\\\\workspace\\\\DeepLearning\\\\MachineLearningInAction\\\\Ch04\\\\bayes.py'>"
      ]
     },
     "execution_count": 283,
     "metadata": {},
     "output_type": "execute_result"
    }
   ],
   "source": [
    "reload(bayes)"
   ]
  },
  {
   "cell_type": "code",
   "execution_count": 284,
   "metadata": {},
   "outputs": [
    {
     "ename": "TypeError",
     "evalue": "a bytes-like object is required, not 'str'",
     "output_type": "error",
     "traceback": [
      "\u001b[1;31m---------------------------------------------------------------------------\u001b[0m",
      "\u001b[1;31mTypeError\u001b[0m                                 Traceback (most recent call last)",
      "\u001b[1;32m<ipython-input-284-cd56b8e8917e>\u001b[0m in \u001b[0;36m<module>\u001b[1;34m()\u001b[0m\n\u001b[1;32m----> 1\u001b[1;33m \u001b[0mbayes\u001b[0m\u001b[1;33m.\u001b[0m\u001b[0mspamTest\u001b[0m\u001b[1;33m(\u001b[0m\u001b[1;33m)\u001b[0m\u001b[1;33m\u001b[0m\u001b[0m\n\u001b[0m",
      "\u001b[1;32mD:\\CPU_Manny\\workspace\\DeepLearning\\MachineLearningInAction\\Ch04\\bayes.py\u001b[0m in \u001b[0;36mspamTest\u001b[1;34m()\u001b[0m\n\u001b[0;32m    100\u001b[0m     \u001b[0mfullText\u001b[0m \u001b[1;33m=\u001b[0m \u001b[1;33m[\u001b[0m\u001b[1;33m]\u001b[0m\u001b[1;33m\u001b[0m\u001b[0m\n\u001b[0;32m    101\u001b[0m     \u001b[1;32mfor\u001b[0m \u001b[0mi\u001b[0m \u001b[1;32min\u001b[0m \u001b[0mrange\u001b[0m\u001b[1;33m(\u001b[0m\u001b[1;36m1\u001b[0m\u001b[1;33m,\u001b[0m\u001b[1;36m26\u001b[0m\u001b[1;33m)\u001b[0m\u001b[1;33m:\u001b[0m\u001b[1;33m\u001b[0m\u001b[0m\n\u001b[1;32m--> 102\u001b[1;33m         \u001b[0mwordList\u001b[0m \u001b[1;33m=\u001b[0m \u001b[0mtextParse\u001b[0m\u001b[1;33m(\u001b[0m\u001b[0mopen\u001b[0m\u001b[1;33m(\u001b[0m\u001b[1;34m'email/spam/%d.txt'\u001b[0m \u001b[1;33m%\u001b[0m \u001b[0mi\u001b[0m\u001b[1;33m,\u001b[0m\u001b[1;34m'rb'\u001b[0m\u001b[1;33m)\u001b[0m\u001b[1;33m.\u001b[0m\u001b[0mread\u001b[0m\u001b[1;33m(\u001b[0m\u001b[1;33m)\u001b[0m\u001b[1;33m)\u001b[0m\u001b[1;33m\u001b[0m\u001b[0m\n\u001b[0m\u001b[0;32m    103\u001b[0m         \u001b[0mdocList\u001b[0m\u001b[1;33m.\u001b[0m\u001b[0mappend\u001b[0m\u001b[1;33m(\u001b[0m\u001b[0mwordList\u001b[0m\u001b[1;33m)\u001b[0m\u001b[1;33m\u001b[0m\u001b[0m\n\u001b[0;32m    104\u001b[0m         \u001b[0mfullText\u001b[0m\u001b[1;33m.\u001b[0m\u001b[0mappend\u001b[0m\u001b[1;33m(\u001b[0m\u001b[0mwordList\u001b[0m\u001b[1;33m)\u001b[0m\u001b[1;33m\u001b[0m\u001b[0m\n",
      "\u001b[1;32mD:\\CPU_Manny\\workspace\\DeepLearning\\MachineLearningInAction\\Ch04\\bayes.py\u001b[0m in \u001b[0;36mtextParse\u001b[1;34m(bigString)\u001b[0m\n\u001b[0;32m     91\u001b[0m \u001b[1;31m#切割文件\u001b[0m\u001b[1;33m\u001b[0m\u001b[1;33m\u001b[0m\u001b[0m\n\u001b[0;32m     92\u001b[0m \u001b[1;32mdef\u001b[0m \u001b[0mtextParse\u001b[0m\u001b[1;33m(\u001b[0m\u001b[0mbigString\u001b[0m\u001b[1;33m)\u001b[0m\u001b[1;33m:\u001b[0m\u001b[1;33m\u001b[0m\u001b[0m\n\u001b[1;32m---> 93\u001b[1;33m     \u001b[0mlistofToken\u001b[0m \u001b[1;33m=\u001b[0m \u001b[0mbigString\u001b[0m\u001b[1;33m.\u001b[0m\u001b[0msplit\u001b[0m\u001b[1;33m(\u001b[0m\u001b[1;34m'\\W*'\u001b[0m\u001b[1;33m)\u001b[0m\u001b[1;33m\u001b[0m\u001b[0m\n\u001b[0m\u001b[0;32m     94\u001b[0m     \u001b[1;32mreturn\u001b[0m \u001b[1;33m[\u001b[0m\u001b[0mtoken\u001b[0m\u001b[1;33m.\u001b[0m\u001b[0mlower\u001b[0m\u001b[1;33m(\u001b[0m\u001b[1;33m)\u001b[0m \u001b[1;32mfor\u001b[0m \u001b[0mtoken\u001b[0m \u001b[1;32min\u001b[0m \u001b[0mlistofToken\u001b[0m \u001b[1;32mif\u001b[0m \u001b[0mlen\u001b[0m\u001b[1;33m(\u001b[0m\u001b[0mtoken\u001b[0m\u001b[1;33m)\u001b[0m \u001b[1;33m>\u001b[0m \u001b[1;36m2\u001b[0m\u001b[1;33m]\u001b[0m\u001b[1;33m\u001b[0m\u001b[0m\n\u001b[0;32m     95\u001b[0m \u001b[1;33m\u001b[0m\u001b[0m\n",
      "\u001b[1;31mTypeError\u001b[0m: a bytes-like object is required, not 'str'"
     ]
    }
   ],
   "source": [
    "bayes.spamTest()"
   ]
  },
  {
   "cell_type": "code",
   "execution_count": 272,
   "metadata": {},
   "outputs": [
    {
     "data": {
      "text/plain": [
       "'Hi Peter,\\n\\nWith Jose out of town, do you want to\\nmeet once in a while to keep things\\ngoing and do some interesting stuff?\\n\\nLet me know\\nEugene'"
      ]
     },
     "execution_count": 272,
     "metadata": {},
     "output_type": "execute_result"
    }
   ],
   "source": [
    "open('email/ham/1.txt').read()"
   ]
  },
  {
   "cell_type": "raw",
   "metadata": {},
   "source": []
  },
  {
   "cell_type": "code",
   "execution_count": null,
   "metadata": {
    "collapsed": true
   },
   "outputs": [],
   "source": []
  },
  {
   "cell_type": "code",
   "execution_count": 200,
   "metadata": {},
   "outputs": [
    {
     "data": {
      "text/plain": [
       "list"
      ]
     },
     "execution_count": 200,
     "metadata": {},
     "output_type": "execute_result"
    }
   ],
   "source": [
    "list"
   ]
  },
  {
   "cell_type": "code",
   "execution_count": 221,
   "metadata": {},
   "outputs": [
    {
     "ename": "NameError",
     "evalue": "name 'i' is not defined",
     "output_type": "error",
     "traceback": [
      "\u001b[1;31m---------------------------------------------------------------------------\u001b[0m",
      "\u001b[1;31mNameError\u001b[0m                                 Traceback (most recent call last)",
      "\u001b[1;32m<ipython-input-221-4bb5b92064c0>\u001b[0m in \u001b[0;36m<module>\u001b[1;34m()\u001b[0m\n\u001b[1;32m----> 1\u001b[1;33m \u001b[0mtemp\u001b[0m \u001b[1;33m=\u001b[0m \u001b[0mopen\u001b[0m\u001b[1;33m(\u001b[0m\u001b[1;34m'email/spam/%d.txt'\u001b[0m \u001b[1;33m%\u001b[0m \u001b[0mi\u001b[0m\u001b[1;33m,\u001b[0m \u001b[1;34m'rb'\u001b[0m\u001b[1;33m)\u001b[0m\u001b[1;33m\u001b[0m\u001b[0m\n\u001b[0m",
      "\u001b[1;31mNameError\u001b[0m: name 'i' is not defined"
     ]
    }
   ],
   "source": []
  },
  {
   "cell_type": "code",
   "execution_count": 266,
   "metadata": {
    "collapsed": true
   },
   "outputs": [],
   "source": [
    "temp = open('email/spam/1.txt', 'rb')"
   ]
  },
  {
   "cell_type": "code",
   "execution_count": 267,
   "metadata": {},
   "outputs": [
    {
     "name": "stdout",
     "output_type": "stream",
     "text": [
      "<_io.BufferedReader name='email/spam/1.txt'>\n"
     ]
    }
   ],
   "source": [
    "print(temp)"
   ]
  },
  {
   "cell_type": "code",
   "execution_count": 265,
   "metadata": {},
   "outputs": [
    {
     "data": {
      "text/plain": [
       "b'Hydrocodone/Vicodin ES/Brand Watson\\r\\n\\r\\nVicodin ES - 7.5/750 mg: 30 - $195 / 120 $570\\r\\nBrand Watson - 7.5/750 mg: 30 - $195 / 120 $570\\r\\nBrand Watson - 10/325 mg: 30 - $199 / 120 - $588\\r\\nNoPrescription Required\\r\\nFREE Express FedEx (3-5 days Delivery) for over $200 order\\r\\nMajor Credit Cards + E-CHECK'"
      ]
     },
     "execution_count": 265,
     "metadata": {},
     "output_type": "execute_result"
    }
   ],
   "source": [
    "temp.read()"
   ]
  },
  {
   "cell_type": "code",
   "execution_count": 261,
   "metadata": {
    "collapsed": true
   },
   "outputs": [],
   "source": [
    "temp = open('email/spam/1.txt').read()"
   ]
  },
  {
   "cell_type": "code",
   "execution_count": 250,
   "metadata": {},
   "outputs": [
    {
     "data": {
      "text/plain": [
       "'--- Codeine 15mg -- 30 for $203.70 -- VISA Only!!! --\\n\\n-- Codeine (Methylmorphine) is a narcotic (opioid) pain reliever\\n-- We have 15mg & 30mg pills -- 30/15mg for $203.70 - 60/15mg for $385.80 - 90/15mg for $562.50 -- VISA Only!!! ---'"
      ]
     },
     "execution_count": 250,
     "metadata": {},
     "output_type": "execute_result"
    }
   ],
   "source": [
    "temp"
   ]
  },
  {
   "cell_type": "code",
   "execution_count": 251,
   "metadata": {},
   "outputs": [
    {
     "name": "stdout",
     "output_type": "stream",
     "text": [
      "--- Codeine 15mg -- 30 for $203.70 -- VISA Only!!! --\n",
      "\n",
      "-- Codeine (Methylmorphine) is a narcotic (opioid) pain reliever\n",
      "-- We have 15mg & 30mg pills -- 30/15mg for $203.70 - 60/15mg for $385.80 - 90/15mg for $562.50 -- VISA Only!!! ---\n"
     ]
    }
   ],
   "source": [
    "print(temp)"
   ]
  },
  {
   "cell_type": "code",
   "execution_count": 1,
   "metadata": {},
   "outputs": [
    {
     "ename": "NameError",
     "evalue": "name 'i' is not defined",
     "output_type": "error",
     "traceback": [
      "\u001b[1;31m---------------------------------------------------------------------------\u001b[0m",
      "\u001b[1;31mNameError\u001b[0m                                 Traceback (most recent call last)",
      "\u001b[1;32m<ipython-input-1-92e5e27b769b>\u001b[0m in \u001b[0;36m<module>\u001b[1;34m()\u001b[0m\n\u001b[1;32m----> 1\u001b[1;33m \u001b[0mopen\u001b[0m\u001b[1;33m(\u001b[0m\u001b[1;34m'email/ham/%d.txt'\u001b[0m \u001b[1;33m%\u001b[0m \u001b[0mi\u001b[0m\u001b[1;33m,\u001b[0m\u001b[1;34m'rb'\u001b[0m\u001b[1;33m)\u001b[0m\u001b[1;33m.\u001b[0m\u001b[0mread\u001b[0m\u001b[1;33m(\u001b[0m\u001b[1;33m)\u001b[0m\u001b[1;33m\u001b[0m\u001b[0m\n\u001b[0m",
      "\u001b[1;31mNameError\u001b[0m: name 'i' is not defined"
     ]
    }
   ],
   "source": [
    "open('email/ham/%d.txt' % i,'rb').read()"
   ]
  },
  {
   "cell_type": "code",
   "execution_count": 53,
   "metadata": {},
   "outputs": [
    {
     "data": {
      "text/plain": [
       "'Hi Peter,\\n\\nWith Jose out of town, do you want to\\nmeet once in a while to keep things\\ngoing and do some interesting stuff?\\n\\nLet me know\\nEugene'"
      ]
     },
     "execution_count": 53,
     "metadata": {},
     "output_type": "execute_result"
    }
   ],
   "source": [
    "open('email/ham/1.txt','r').read()"
   ]
  },
  {
   "cell_type": "code",
   "execution_count": 54,
   "metadata": {},
   "outputs": [
    {
     "data": {
      "text/plain": [
       "'--- Codeine 15mg -- 30 for $203.70 -- VISA Only!!! --\\n\\n-- Codeine (Methylmorphine) is a narcotic (opioid) pain reliever\\n-- We have 15mg & 30mg pills -- 30/15mg for $203.70 - 60/15mg for $385.80 - 90/15mg for $562.50 -- VISA Only!!! ---'"
      ]
     },
     "execution_count": 54,
     "metadata": {},
     "output_type": "execute_result"
    }
   ],
   "source": [
    "open('email/spam/1.txt','r').read()"
   ]
  },
  {
   "cell_type": "code",
   "execution_count": 9,
   "metadata": {},
   "outputs": [],
   "source": [
    "import bayes"
   ]
  },
  {
   "cell_type": "code",
   "execution_count": 10,
   "metadata": {
    "collapsed": true
   },
   "outputs": [],
   "source": [
    "from imp import reload"
   ]
  },
  {
   "cell_type": "code",
   "execution_count": 11,
   "metadata": {},
   "outputs": [
    {
     "data": {
      "text/plain": [
       "<module 'bayes' from 'D:\\\\CPU_Manny\\\\workspace\\\\DeepLearning\\\\MachineLearningInAction\\\\Ch04\\\\bayes.py'>"
      ]
     },
     "execution_count": 11,
     "metadata": {},
     "output_type": "execute_result"
    }
   ],
   "source": [
    "reload(bayes)"
   ]
  },
  {
   "cell_type": "code",
   "execution_count": 12,
   "metadata": {},
   "outputs": [
    {
     "name": "stdout",
     "output_type": "stream",
     "text": [
      "the error rate is :  0.2\n"
     ]
    }
   ],
   "source": [
    "bayes.spamTest()"
   ]
  },
  {
   "cell_type": "code",
   "execution_count": 80,
   "metadata": {
    "collapsed": true
   },
   "outputs": [],
   "source": [
    "randIndex = int(np.random.uniform(0,10))"
   ]
  },
  {
   "cell_type": "code",
   "execution_count": 61,
   "metadata": {
    "collapsed": true
   },
   "outputs": [],
   "source": [
    "import numpy as np"
   ]
  },
  {
   "cell_type": "code",
   "execution_count": 62,
   "metadata": {},
   "outputs": [
    {
     "data": {
      "text/plain": [
       "4"
      ]
     },
     "execution_count": 62,
     "metadata": {},
     "output_type": "execute_result"
    }
   ],
   "source": [
    "randIndex"
   ]
  },
  {
   "cell_type": "raw",
   "metadata": {},
   "source": [
    "b= np.range(50)"
   ]
  },
  {
   "cell_type": "code",
   "execution_count": 66,
   "metadata": {},
   "outputs": [
    {
     "ename": "NameError",
     "evalue": "name 'b' is not defined",
     "output_type": "error",
     "traceback": [
      "\u001b[1;31m---------------------------------------------------------------------------\u001b[0m",
      "\u001b[1;31mNameError\u001b[0m                                 Traceback (most recent call last)",
      "\u001b[1;32m<ipython-input-66-3b5d5c371295>\u001b[0m in \u001b[0;36m<module>\u001b[1;34m()\u001b[0m\n\u001b[1;32m----> 1\u001b[1;33m \u001b[0mb\u001b[0m\u001b[1;33m\u001b[0m\u001b[0m\n\u001b[0m",
      "\u001b[1;31mNameError\u001b[0m: name 'b' is not defined"
     ]
    }
   ],
   "source": [
    "b"
   ]
  },
  {
   "cell_type": "code",
   "execution_count": 73,
   "metadata": {
    "collapsed": true
   },
   "outputs": [],
   "source": [
    "num =range(50)"
   ]
  },
  {
   "cell_type": "code",
   "execution_count": 74,
   "metadata": {},
   "outputs": [
    {
     "data": {
      "text/plain": [
       "range(0, 50)"
      ]
     },
     "execution_count": 74,
     "metadata": {},
     "output_type": "execute_result"
    }
   ],
   "source": [
    "num"
   ]
  },
  {
   "cell_type": "code",
   "execution_count": 75,
   "metadata": {
    "collapsed": true
   },
   "outputs": [],
   "source": [
    "num=list(range(50))"
   ]
  },
  {
   "cell_type": "code",
   "execution_count": 78,
   "metadata": {},
   "outputs": [
    {
     "data": {
      "text/plain": [
       "[0,\n",
       " 1,\n",
       " 2,\n",
       " 3,\n",
       " 4,\n",
       " 5,\n",
       " 6,\n",
       " 7,\n",
       " 8,\n",
       " 9,\n",
       " 10,\n",
       " 11,\n",
       " 12,\n",
       " 13,\n",
       " 14,\n",
       " 15,\n",
       " 16,\n",
       " 17,\n",
       " 18,\n",
       " 19,\n",
       " 20,\n",
       " 21,\n",
       " 22,\n",
       " 23,\n",
       " 24,\n",
       " 25,\n",
       " 26,\n",
       " 27,\n",
       " 28,\n",
       " 29,\n",
       " 30,\n",
       " 31,\n",
       " 32,\n",
       " 33,\n",
       " 34,\n",
       " 35,\n",
       " 36,\n",
       " 37,\n",
       " 38,\n",
       " 39,\n",
       " 40,\n",
       " 41,\n",
       " 42,\n",
       " 43,\n",
       " 44,\n",
       " 45,\n",
       " 46,\n",
       " 47,\n",
       " 48,\n",
       " 49]"
      ]
     },
     "execution_count": 78,
     "metadata": {},
     "output_type": "execute_result"
    }
   ],
   "source": [
    "num"
   ]
  },
  {
   "cell_type": "code",
   "execution_count": 1,
   "metadata": {
    "collapsed": true
   },
   "outputs": [],
   "source": [
    "import feedparser"
   ]
  },
  {
   "cell_type": "code",
   "execution_count": 2,
   "metadata": {
    "collapsed": true
   },
   "outputs": [],
   "source": [
    "ny = feedparser.parse('http://newyork.craigslist.org/stp/index.rss')"
   ]
  },
  {
   "cell_type": "code",
   "execution_count": 3,
   "metadata": {},
   "outputs": [
    {
     "data": {
      "text/plain": [
       "[{'dc_source': 'http://newyork.craigslist.org/brk/stp/6269071916.html',\n",
       "  'dc_type': 'text',\n",
       "  'id': 'http://newyork.craigslist.org/brk/stp/6269071916.html',\n",
       "  'language': 'en-us',\n",
       "  'link': 'http://newyork.craigslist.org/brk/stp/6269071916.html',\n",
       "  'links': [{'href': 'http://newyork.craigslist.org/brk/stp/6269071916.html',\n",
       "    'rel': 'alternate',\n",
       "    'type': 'text/html'}],\n",
       "  'published': '2017-08-21T20:54:58-04:00',\n",
       "  'published_parsed': time.struct_time(tm_year=2017, tm_mon=8, tm_mday=22, tm_hour=0, tm_min=54, tm_sec=58, tm_wday=1, tm_yday=234, tm_isdst=0),\n",
       "  'rights': 'copyright 2017 craiglist',\n",
       "  'rights_detail': {'base': 'https://newyork.craigslist.org/search/stp?format=rss',\n",
       "   'language': None,\n",
       "   'type': 'text/plain',\n",
       "   'value': 'copyright 2017 craiglist'},\n",
       "  'summary': 'Hi I have a extra ticket to the black light wars at aviator its a glow in the dark water balloon fight should b fun please b over 40 years old brooklyngayle14 is my kik',\n",
       "  'summary_detail': {'base': 'https://newyork.craigslist.org/search/stp?format=rss',\n",
       "   'language': None,\n",
       "   'type': 'text/html',\n",
       "   'value': 'Hi I have a extra ticket to the black light wars at aviator its a glow in the dark water balloon fight should b fun please b over 40 years old brooklyngayle14 is my kik'},\n",
       "  'title': 'Aug 26 - w4m (Brooklyn)',\n",
       "  'title_detail': {'base': 'https://newyork.craigslist.org/search/stp?format=rss',\n",
       "   'language': None,\n",
       "   'type': 'text/plain',\n",
       "   'value': 'Aug 26 - w4m (Brooklyn)'},\n",
       "  'updated': '2017-08-21T20:54:58-04:00',\n",
       "  'updated_parsed': time.struct_time(tm_year=2017, tm_mon=8, tm_mday=22, tm_hour=0, tm_min=54, tm_sec=58, tm_wday=1, tm_yday=234, tm_isdst=0)},\n",
       " {'dc_source': 'http://newyork.craigslist.org/brx/stp/6274389407.html',\n",
       "  'dc_type': 'text',\n",
       "  'enc_enclosure': {'resource': 'https://images.craigslist.org/00r0r_5f3Nj2AuYWa_300x300.jpg',\n",
       "   'type': 'image/jpeg'},\n",
       "  'id': 'http://newyork.craigslist.org/brx/stp/6274389407.html',\n",
       "  'language': 'en-us',\n",
       "  'link': 'http://newyork.craigslist.org/brx/stp/6274389407.html',\n",
       "  'links': [{'href': 'http://newyork.craigslist.org/brx/stp/6274389407.html',\n",
       "    'rel': 'alternate',\n",
       "    'type': 'text/html'}],\n",
       "  'published': '2017-08-21T20:44:37-04:00',\n",
       "  'published_parsed': time.struct_time(tm_year=2017, tm_mon=8, tm_mday=22, tm_hour=0, tm_min=44, tm_sec=37, tm_wday=1, tm_yday=234, tm_isdst=0),\n",
       "  'rights': 'copyright 2017 craiglist',\n",
       "  'rights_detail': {'base': 'https://newyork.craigslist.org/search/stp?format=rss',\n",
       "   'language': None,\n",
       "   'type': 'text/plain',\n",
       "   'value': 'copyright 2017 craiglist'},\n",
       "  'summary': 'Hey 30 white male who is a huge horror movie fan and looking for a female friend who is a big fan as well. I have a huge movie collection and owns lots off horror movie masks and posters. I also do special male up effects work and have done work on a ...',\n",
       "  'summary_detail': {'base': 'https://newyork.craigslist.org/search/stp?format=rss',\n",
       "   'language': None,\n",
       "   'type': 'text/html',\n",
       "   'value': 'Hey 30 white male who is a huge horror movie fan and looking for a female friend who is a big fan as well. I have a huge movie collection and owns lots off horror movie masks and posters. I also do special male up effects work and have done work on a ...'},\n",
       "  'title': 'Looking for a horror movie friend - m4w (Bronx)',\n",
       "  'title_detail': {'base': 'https://newyork.craigslist.org/search/stp?format=rss',\n",
       "   'language': None,\n",
       "   'type': 'text/plain',\n",
       "   'value': 'Looking for a horror movie friend - m4w (Bronx)'},\n",
       "  'updated': '2017-08-21T20:44:37-04:00',\n",
       "  'updated_parsed': time.struct_time(tm_year=2017, tm_mon=8, tm_mday=22, tm_hour=0, tm_min=44, tm_sec=37, tm_wday=1, tm_yday=234, tm_isdst=0)},\n",
       " {'dc_source': 'http://newyork.craigslist.org/brk/stp/6231799980.html',\n",
       "  'dc_type': 'text',\n",
       "  'id': 'http://newyork.craigslist.org/brk/stp/6231799980.html',\n",
       "  'language': 'en-us',\n",
       "  'link': 'http://newyork.craigslist.org/brk/stp/6231799980.html',\n",
       "  'links': [{'href': 'http://newyork.craigslist.org/brk/stp/6231799980.html',\n",
       "    'rel': 'alternate',\n",
       "    'type': 'text/html'}],\n",
       "  'published': '2017-08-21T20:44:22-04:00',\n",
       "  'published_parsed': time.struct_time(tm_year=2017, tm_mon=8, tm_mday=22, tm_hour=0, tm_min=44, tm_sec=22, tm_wday=1, tm_yday=234, tm_isdst=0),\n",
       "  'rights': 'copyright 2017 craiglist',\n",
       "  'rights_detail': {'base': 'https://newyork.craigslist.org/search/stp?format=rss',\n",
       "   'language': None,\n",
       "   'type': 'text/plain',\n",
       "   'value': 'copyright 2017 craiglist'},\n",
       "  'summary': \"Well, as the title says I'm looking for a bestie. all my friends are guys,but it gets boring being around them. I'm African American 39. down to earth,funny. small bbw if it matters. But weight shouldn't matter when it comes to being friends. I'm jus ...\",\n",
       "  'summary_detail': {'base': 'https://newyork.craigslist.org/search/stp?format=rss',\n",
       "   'language': None,\n",
       "   'type': 'text/html',\n",
       "   'value': \"Well, as the title says I'm looking for a bestie. all my friends are guys,but it gets boring being around them. I'm African American 39. down to earth,funny. small bbw if it matters. But weight shouldn't matter when it comes to being friends. I'm jus ...\"},\n",
       "  'title': 'looking for a bestie/partner in crime - w4w (brooklyn)',\n",
       "  'title_detail': {'base': 'https://newyork.craigslist.org/search/stp?format=rss',\n",
       "   'language': None,\n",
       "   'type': 'text/plain',\n",
       "   'value': 'looking for a bestie/partner in crime - w4w (brooklyn)'},\n",
       "  'updated': '2017-08-21T20:44:22-04:00',\n",
       "  'updated_parsed': time.struct_time(tm_year=2017, tm_mon=8, tm_mday=22, tm_hour=0, tm_min=44, tm_sec=22, tm_wday=1, tm_yday=234, tm_isdst=0)},\n",
       " {'dc_source': 'http://newyork.craigslist.org/brk/stp/6239961021.html',\n",
       "  'dc_type': 'text',\n",
       "  'id': 'http://newyork.craigslist.org/brk/stp/6239961021.html',\n",
       "  'language': 'en-us',\n",
       "  'link': 'http://newyork.craigslist.org/brk/stp/6239961021.html',\n",
       "  'links': [{'href': 'http://newyork.craigslist.org/brk/stp/6239961021.html',\n",
       "    'rel': 'alternate',\n",
       "    'type': 'text/html'}],\n",
       "  'published': '2017-08-21T20:44:02-04:00',\n",
       "  'published_parsed': time.struct_time(tm_year=2017, tm_mon=8, tm_mday=22, tm_hour=0, tm_min=44, tm_sec=2, tm_wday=1, tm_yday=234, tm_isdst=0),\n",
       "  'rights': 'copyright 2017 craiglist',\n",
       "  'rights_detail': {'base': 'https://newyork.craigslist.org/search/stp?format=rss',\n",
       "   'language': None,\n",
       "   'type': 'text/plain',\n",
       "   'value': 'copyright 2017 craiglist'},\n",
       "  'summary': \"hey ladies. I'm on here looking for other ladies who want to be email buddies. We can talk about anything/give advise. We can talk about how good,bad our day was. guy problems. Whatever. No topic is off limits. we don't even have to use our real name ...\",\n",
       "  'summary_detail': {'base': 'https://newyork.craigslist.org/search/stp?format=rss',\n",
       "   'language': None,\n",
       "   'type': 'text/html',\n",
       "   'value': \"hey ladies. I'm on here looking for other ladies who want to be email buddies. We can talk about anything/give advise. We can talk about how good,bad our day was. guy problems. Whatever. No topic is off limits. we don't even have to use our real name ...\"},\n",
       "  'title': \"Email buddies let's talk - w4w (brooklyn)\",\n",
       "  'title_detail': {'base': 'https://newyork.craigslist.org/search/stp?format=rss',\n",
       "   'language': None,\n",
       "   'type': 'text/plain',\n",
       "   'value': \"Email buddies let's talk - w4w (brooklyn)\"},\n",
       "  'updated': '2017-08-21T20:44:02-04:00',\n",
       "  'updated_parsed': time.struct_time(tm_year=2017, tm_mon=8, tm_mday=22, tm_hour=0, tm_min=44, tm_sec=2, tm_wday=1, tm_yday=234, tm_isdst=0)},\n",
       " {'dc_source': 'http://newyork.craigslist.org/mnh/stp/6274382642.html',\n",
       "  'dc_type': 'text',\n",
       "  'id': 'http://newyork.craigslist.org/mnh/stp/6274382642.html',\n",
       "  'language': 'en-us',\n",
       "  'link': 'http://newyork.craigslist.org/mnh/stp/6274382642.html',\n",
       "  'links': [{'href': 'http://newyork.craigslist.org/mnh/stp/6274382642.html',\n",
       "    'rel': 'alternate',\n",
       "    'type': 'text/html'}],\n",
       "  'published': '2017-08-21T20:38:37-04:00',\n",
       "  'published_parsed': time.struct_time(tm_year=2017, tm_mon=8, tm_mday=22, tm_hour=0, tm_min=38, tm_sec=37, tm_wday=1, tm_yday=234, tm_isdst=0),\n",
       "  'rights': 'copyright 2017 craiglist',\n",
       "  'rights_detail': {'base': 'https://newyork.craigslist.org/search/stp?format=rss',\n",
       "   'language': None,\n",
       "   'type': 'text/plain',\n",
       "   'value': 'copyright 2017 craiglist'},\n",
       "  'summary': 'Dance salsa on2 with me if you\\'re a beginner or intermediate female. I dance socially almost every week. \\nI\\'m an intermediate on2 salsa dancer with about 4 years of salsa experience. I\\'m 6\\'5\", athletic build and in excellent shape. Your height doesn\\' ...',\n",
       "  'summary_detail': {'base': 'https://newyork.craigslist.org/search/stp?format=rss',\n",
       "   'language': None,\n",
       "   'type': 'text/html',\n",
       "   'value': 'Dance salsa on2 with me if you\\'re a beginner or intermediate female. I dance socially almost every week. \\nI\\'m an intermediate on2 salsa dancer with about 4 years of salsa experience. I\\'m 6\\'5\", athletic build and in excellent shape. Your height doesn\\' ...'},\n",
       "  'title': 'Salsa Dance Partner (@ clubs) - m4w (Manhattan or Brooklyn)',\n",
       "  'title_detail': {'base': 'https://newyork.craigslist.org/search/stp?format=rss',\n",
       "   'language': None,\n",
       "   'type': 'text/plain',\n",
       "   'value': 'Salsa Dance Partner (@ clubs) - m4w (Manhattan or Brooklyn)'},\n",
       "  'updated': '2017-08-21T20:38:37-04:00',\n",
       "  'updated_parsed': time.struct_time(tm_year=2017, tm_mon=8, tm_mday=22, tm_hour=0, tm_min=38, tm_sec=37, tm_wday=1, tm_yday=234, tm_isdst=0)},\n",
       " {'dc_source': 'http://newyork.craigslist.org/mnh/stp/6270309944.html',\n",
       "  'dc_type': 'text',\n",
       "  'id': 'http://newyork.craigslist.org/mnh/stp/6270309944.html',\n",
       "  'language': 'en-us',\n",
       "  'link': 'http://newyork.craigslist.org/mnh/stp/6270309944.html',\n",
       "  'links': [{'href': 'http://newyork.craigslist.org/mnh/stp/6270309944.html',\n",
       "    'rel': 'alternate',\n",
       "    'type': 'text/html'}],\n",
       "  'published': '2017-08-21T20:32:09-04:00',\n",
       "  'published_parsed': time.struct_time(tm_year=2017, tm_mon=8, tm_mday=22, tm_hour=0, tm_min=32, tm_sec=9, tm_wday=1, tm_yday=234, tm_isdst=0),\n",
       "  'rights': 'copyright 2017 craiglist',\n",
       "  'rights_detail': {'base': 'https://newyork.craigslist.org/search/stp?format=rss',\n",
       "   'language': None,\n",
       "   'type': 'text/plain',\n",
       "   'value': 'copyright 2017 craiglist'},\n",
       "  'summary': \"I've been a big fan of all-inclusive resorts since my sister was married at one. I absolutely love the large pools, beautiful beaches, swim up bars and luxurious hotel grounds. While I usually do these trips with family sometimes, I'm looking for a t ...\",\n",
       "  'summary_detail': {'base': 'https://newyork.craigslist.org/search/stp?format=rss',\n",
       "   'language': None,\n",
       "   'type': 'text/html',\n",
       "   'value': \"I've been a big fan of all-inclusive resorts since my sister was married at one. I absolutely love the large pools, beautiful beaches, swim up bars and luxurious hotel grounds. While I usually do these trips with family sometimes, I'm looking for a t ...\"},\n",
       "  'title': 'Looking for a travel partner: all-inclusive Cancun or Mexico resorts - m4w',\n",
       "  'title_detail': {'base': 'https://newyork.craigslist.org/search/stp?format=rss',\n",
       "   'language': None,\n",
       "   'type': 'text/plain',\n",
       "   'value': 'Looking for a travel partner: all-inclusive Cancun or Mexico resorts - m4w'},\n",
       "  'updated': '2017-08-21T20:32:09-04:00',\n",
       "  'updated_parsed': time.struct_time(tm_year=2017, tm_mon=8, tm_mday=22, tm_hour=0, tm_min=32, tm_sec=9, tm_wday=1, tm_yday=234, tm_isdst=0)},\n",
       " {'dc_source': 'http://newyork.craigslist.org/mnh/stp/6261773900.html',\n",
       "  'dc_type': 'text',\n",
       "  'id': 'http://newyork.craigslist.org/mnh/stp/6261773900.html',\n",
       "  'language': 'en-us',\n",
       "  'link': 'http://newyork.craigslist.org/mnh/stp/6261773900.html',\n",
       "  'links': [{'href': 'http://newyork.craigslist.org/mnh/stp/6261773900.html',\n",
       "    'rel': 'alternate',\n",
       "    'type': 'text/html'}],\n",
       "  'published': '2017-08-21T20:31:59-04:00',\n",
       "  'published_parsed': time.struct_time(tm_year=2017, tm_mon=8, tm_mday=22, tm_hour=0, tm_min=31, tm_sec=59, tm_wday=1, tm_yday=234, tm_isdst=0),\n",
       "  'rights': 'copyright 2017 craiglist',\n",
       "  'rights_detail': {'base': 'https://newyork.craigslist.org/search/stp?format=rss',\n",
       "   'language': None,\n",
       "   'type': 'text/plain',\n",
       "   'value': 'copyright 2017 craiglist'},\n",
       "  'summary': \"Looking for good company to relax on the green after work on a picnic blanket and people watch while sipping some tasty pinot grigio or cabernet sauvignon. It's an awesome way to enjoy the summer and one of my favorite things to do with good company. ...\",\n",
       "  'summary_detail': {'base': 'https://newyork.craigslist.org/search/stp?format=rss',\n",
       "   'language': None,\n",
       "   'type': 'text/html',\n",
       "   'value': \"Looking for good company to relax on the green after work on a picnic blanket and people watch while sipping some tasty pinot grigio or cabernet sauvignon. It's an awesome way to enjoy the summer and one of my favorite things to do with good company. ...\"},\n",
       "  'title': 'Wine in Central Park - m4w (New York)',\n",
       "  'title_detail': {'base': 'https://newyork.craigslist.org/search/stp?format=rss',\n",
       "   'language': None,\n",
       "   'type': 'text/plain',\n",
       "   'value': 'Wine in Central Park - m4w (New York)'},\n",
       "  'updated': '2017-08-21T20:31:59-04:00',\n",
       "  'updated_parsed': time.struct_time(tm_year=2017, tm_mon=8, tm_mday=22, tm_hour=0, tm_min=31, tm_sec=59, tm_wday=1, tm_yday=234, tm_isdst=0)},\n",
       " {'dc_source': 'http://newyork.craigslist.org/fct/stp/6245679237.html',\n",
       "  'dc_type': 'text',\n",
       "  'id': 'http://newyork.craigslist.org/fct/stp/6245679237.html',\n",
       "  'language': 'en-us',\n",
       "  'link': 'http://newyork.craigslist.org/fct/stp/6245679237.html',\n",
       "  'links': [{'href': 'http://newyork.craigslist.org/fct/stp/6245679237.html',\n",
       "    'rel': 'alternate',\n",
       "    'type': 'text/html'}],\n",
       "  'published': '2017-08-21T20:31:13-04:00',\n",
       "  'published_parsed': time.struct_time(tm_year=2017, tm_mon=8, tm_mday=22, tm_hour=0, tm_min=31, tm_sec=13, tm_wday=1, tm_yday=234, tm_isdst=0),\n",
       "  'rights': 'copyright 2017 craiglist',\n",
       "  'rights_detail': {'base': 'https://newyork.craigslist.org/search/stp?format=rss',\n",
       "   'language': None,\n",
       "   'type': 'text/plain',\n",
       "   'value': 'copyright 2017 craiglist'},\n",
       "  'summary': \"No beauty can be fully appreciated in solitude. \\nI could be wrong, but that's the conclusion I've drawn in recent months. I have many wonderful people in my life but so few with any serious interest in culture and the arts. \\nIs there anyone out there ...\",\n",
       "  'summary_detail': {'base': 'https://newyork.craigslist.org/search/stp?format=rss',\n",
       "   'language': None,\n",
       "   'type': 'text/html',\n",
       "   'value': \"No beauty can be fully appreciated in solitude. \\nI could be wrong, but that's the conclusion I've drawn in recent months. I have many wonderful people in my life but so few with any serious interest in culture and the arts. \\nIs there anyone out there ...\"},\n",
       "  'title': 'Westport Arts Center / Playhouse - m4w (Westport)',\n",
       "  'title_detail': {'base': 'https://newyork.craigslist.org/search/stp?format=rss',\n",
       "   'language': None,\n",
       "   'type': 'text/plain',\n",
       "   'value': 'Westport Arts Center / Playhouse - m4w (Westport)'},\n",
       "  'updated': '2017-08-21T20:31:13-04:00',\n",
       "  'updated_parsed': time.struct_time(tm_year=2017, tm_mon=8, tm_mday=22, tm_hour=0, tm_min=31, tm_sec=13, tm_wday=1, tm_yday=234, tm_isdst=0)},\n",
       " {'dc_source': 'http://newyork.craigslist.org/mnh/stp/6274366279.html',\n",
       "  'dc_type': 'text',\n",
       "  'id': 'http://newyork.craigslist.org/mnh/stp/6274366279.html',\n",
       "  'language': 'en-us',\n",
       "  'link': 'http://newyork.craigslist.org/mnh/stp/6274366279.html',\n",
       "  'links': [{'href': 'http://newyork.craigslist.org/mnh/stp/6274366279.html',\n",
       "    'rel': 'alternate',\n",
       "    'type': 'text/html'}],\n",
       "  'published': '2017-08-21T20:24:06-04:00',\n",
       "  'published_parsed': time.struct_time(tm_year=2017, tm_mon=8, tm_mday=22, tm_hour=0, tm_min=24, tm_sec=6, tm_wday=1, tm_yday=234, tm_isdst=0),\n",
       "  'rights': 'copyright 2017 craiglist',\n",
       "  'rights_detail': {'base': 'https://newyork.craigslist.org/search/stp?format=rss',\n",
       "   'language': None,\n",
       "   'type': 'text/plain',\n",
       "   'value': 'copyright 2017 craiglist'},\n",
       "  'summary': \"Hey there. Thanks for reading. Suddenly throughout the day I feel really lonely. Which is weird because I'm surrounded by people. Know what I mean?\",\n",
       "  'summary_detail': {'base': 'https://newyork.craigslist.org/search/stp?format=rss',\n",
       "   'language': None,\n",
       "   'type': 'text/html',\n",
       "   'value': \"Hey there. Thanks for reading. Suddenly throughout the day I feel really lonely. Which is weird because I'm surrounded by people. Know what I mean?\"},\n",
       "  'title': 'Just need to talk - m4w',\n",
       "  'title_detail': {'base': 'https://newyork.craigslist.org/search/stp?format=rss',\n",
       "   'language': None,\n",
       "   'type': 'text/plain',\n",
       "   'value': 'Just need to talk - m4w'},\n",
       "  'updated': '2017-08-21T20:24:06-04:00',\n",
       "  'updated_parsed': time.struct_time(tm_year=2017, tm_mon=8, tm_mday=22, tm_hour=0, tm_min=24, tm_sec=6, tm_wday=1, tm_yday=234, tm_isdst=0)},\n",
       " {'dc_source': 'http://newyork.craigslist.org/wch/stp/6274363937.html',\n",
       "  'dc_type': 'text',\n",
       "  'enc_enclosure': {'resource': 'https://images.craigslist.org/01717_lq1UvauRFJs_300x300.jpg',\n",
       "   'type': 'image/jpeg'},\n",
       "  'id': 'http://newyork.craigslist.org/wch/stp/6274363937.html',\n",
       "  'language': 'en-us',\n",
       "  'link': 'http://newyork.craigslist.org/wch/stp/6274363937.html',\n",
       "  'links': [{'href': 'http://newyork.craigslist.org/wch/stp/6274363937.html',\n",
       "    'rel': 'alternate',\n",
       "    'type': 'text/html'}],\n",
       "  'published': '2017-08-21T20:22:06-04:00',\n",
       "  'published_parsed': time.struct_time(tm_year=2017, tm_mon=8, tm_mday=22, tm_hour=0, tm_min=22, tm_sec=6, tm_wday=1, tm_yday=234, tm_isdst=0),\n",
       "  'rights': 'copyright 2017 craiglist',\n",
       "  'rights_detail': {'base': 'https://newyork.craigslist.org/search/stp?format=rss',\n",
       "   'language': None,\n",
       "   'type': 'text/plain',\n",
       "   'value': 'copyright 2017 craiglist'},\n",
       "  'summary': 'Thinking of hitting the city center movie after 2nd job. Thinking of seeing that hit man movie...around 9:30pm...if i go anyone wanna join.',\n",
       "  'summary_detail': {'base': 'https://newyork.craigslist.org/search/stp?format=rss',\n",
       "   'language': None,\n",
       "   'type': 'text/html',\n",
       "   'value': 'Thinking of hitting the city center movie after 2nd job. Thinking of seeing that hit man movie...around 9:30pm...if i go anyone wanna join.'},\n",
       "  'title': 'Movie night - w4t (White plains)',\n",
       "  'title_detail': {'base': 'https://newyork.craigslist.org/search/stp?format=rss',\n",
       "   'language': None,\n",
       "   'type': 'text/plain',\n",
       "   'value': 'Movie night - w4t (White plains)'},\n",
       "  'updated': '2017-08-21T20:22:06-04:00',\n",
       "  'updated_parsed': time.struct_time(tm_year=2017, tm_mon=8, tm_mday=22, tm_hour=0, tm_min=22, tm_sec=6, tm_wday=1, tm_yday=234, tm_isdst=0)},\n",
       " {'dc_source': 'http://newyork.craigslist.org/mnh/stp/6240320923.html',\n",
       "  'dc_type': 'text',\n",
       "  'id': 'http://newyork.craigslist.org/mnh/stp/6240320923.html',\n",
       "  'language': 'en-us',\n",
       "  'link': 'http://newyork.craigslist.org/mnh/stp/6240320923.html',\n",
       "  'links': [{'href': 'http://newyork.craigslist.org/mnh/stp/6240320923.html',\n",
       "    'rel': 'alternate',\n",
       "    'type': 'text/html'}],\n",
       "  'published': '2017-08-21T20:19:57-04:00',\n",
       "  'published_parsed': time.struct_time(tm_year=2017, tm_mon=8, tm_mday=22, tm_hour=0, tm_min=19, tm_sec=57, tm_wday=1, tm_yday=234, tm_isdst=0),\n",
       "  'rights': 'copyright 2017 craiglist',\n",
       "  'rights_detail': {'base': 'https://newyork.craigslist.org/search/stp?format=rss',\n",
       "   'language': None,\n",
       "   'type': 'text/plain',\n",
       "   'value': 'copyright 2017 craiglist'},\n",
       "  'summary': 'The holiday season is always a good time to enjoy the bar experience more. Fun dive bars in the East Village, some bar hopping and exploring..always fun in my book. Drop me a line if interested!',\n",
       "  'summary_detail': {'base': 'https://newyork.craigslist.org/search/stp?format=rss',\n",
       "   'language': None,\n",
       "   'type': 'text/html',\n",
       "   'value': 'The holiday season is always a good time to enjoy the bar experience more. Fun dive bars in the East Village, some bar hopping and exploring..always fun in my book. Drop me a line if interested!'},\n",
       "  'title': 'Bar hopping in the East Village - m4w (New York)',\n",
       "  'title_detail': {'base': 'https://newyork.craigslist.org/search/stp?format=rss',\n",
       "   'language': None,\n",
       "   'type': 'text/plain',\n",
       "   'value': 'Bar hopping in the East Village - m4w (New York)'},\n",
       "  'updated': '2017-08-21T20:19:57-04:00',\n",
       "  'updated_parsed': time.struct_time(tm_year=2017, tm_mon=8, tm_mday=22, tm_hour=0, tm_min=19, tm_sec=57, tm_wday=1, tm_yday=234, tm_isdst=0)},\n",
       " {'dc_source': 'http://newyork.craigslist.org/mnh/stp/6240299468.html',\n",
       "  'dc_type': 'text',\n",
       "  'id': 'http://newyork.craigslist.org/mnh/stp/6240299468.html',\n",
       "  'language': 'en-us',\n",
       "  'link': 'http://newyork.craigslist.org/mnh/stp/6240299468.html',\n",
       "  'links': [{'href': 'http://newyork.craigslist.org/mnh/stp/6240299468.html',\n",
       "    'rel': 'alternate',\n",
       "    'type': 'text/html'}],\n",
       "  'published': '2017-08-21T20:19:47-04:00',\n",
       "  'published_parsed': time.struct_time(tm_year=2017, tm_mon=8, tm_mday=22, tm_hour=0, tm_min=19, tm_sec=47, tm_wday=1, tm_yday=234, tm_isdst=0),\n",
       "  'rights': 'copyright 2017 craiglist',\n",
       "  'rights_detail': {'base': 'https://newyork.craigslist.org/search/stp?format=rss',\n",
       "   'language': None,\n",
       "   'type': 'text/plain',\n",
       "   'value': 'copyright 2017 craiglist'},\n",
       "  'summary': \"This is a nice fun stretch of trendy bars by the water, it has a mild South Beach feel to it. Makes you feel like you're in Florida or another state while still being in NY. Did not know this getaway existed until recently. \\nNice to grab drinks by th ...\",\n",
       "  'summary_detail': {'base': 'https://newyork.craigslist.org/search/stp?format=rss',\n",
       "   'language': None,\n",
       "   'type': 'text/html',\n",
       "   'value': \"This is a nice fun stretch of trendy bars by the water, it has a mild South Beach feel to it. Makes you feel like you're in Florida or another state while still being in NY. Did not know this getaway existed until recently. \\nNice to grab drinks by th ...\"},\n",
       "  'title': 'Drinks at ocean side bars in the summer (Nautical Mile in LI) - m4w (freeport)',\n",
       "  'title_detail': {'base': 'https://newyork.craigslist.org/search/stp?format=rss',\n",
       "   'language': None,\n",
       "   'type': 'text/plain',\n",
       "   'value': 'Drinks at ocean side bars in the summer (Nautical Mile in LI) - m4w (freeport)'},\n",
       "  'updated': '2017-08-21T20:19:47-04:00',\n",
       "  'updated_parsed': time.struct_time(tm_year=2017, tm_mon=8, tm_mday=22, tm_hour=0, tm_min=19, tm_sec=47, tm_wday=1, tm_yday=234, tm_isdst=0)},\n",
       " {'dc_source': 'http://newyork.craigslist.org/mnh/stp/6267903446.html',\n",
       "  'dc_type': 'text',\n",
       "  'enc_enclosure': {'resource': 'https://images.craigslist.org/00V0V_8VFIMIDiNju_300x300.jpg',\n",
       "   'type': 'image/jpeg'},\n",
       "  'id': 'http://newyork.craigslist.org/mnh/stp/6267903446.html',\n",
       "  'language': 'en-us',\n",
       "  'link': 'http://newyork.craigslist.org/mnh/stp/6267903446.html',\n",
       "  'links': [{'href': 'http://newyork.craigslist.org/mnh/stp/6267903446.html',\n",
       "    'rel': 'alternate',\n",
       "    'type': 'text/html'}],\n",
       "  'published': '2017-08-21T20:14:16-04:00',\n",
       "  'published_parsed': time.struct_time(tm_year=2017, tm_mon=8, tm_mday=22, tm_hour=0, tm_min=14, tm_sec=16, tm_wday=1, tm_yday=234, tm_isdst=0),\n",
       "  'rights': 'copyright 2017 craiglist',\n",
       "  'rights_detail': {'base': 'https://newyork.craigslist.org/search/stp?format=rss',\n",
       "   'language': None,\n",
       "   'type': 'text/plain',\n",
       "   'value': 'copyright 2017 craiglist'},\n",
       "  'summary': \"Looking for Commitment - Let's Get Married!!! \\nDon't Spend Another Day as a Single Woman! \\nLet's see what we can do about that! \\nI'm NOT looking for a one night'er or a fling, but rather a meaningful relationship. \\nBased on Openness, Trust and Honest ...\",\n",
       "  'summary_detail': {'base': 'https://newyork.craigslist.org/search/stp?format=rss',\n",
       "   'language': None,\n",
       "   'type': 'text/html',\n",
       "   'value': \"Looking for Commitment - Let's Get Married!!! \\nDon't Spend Another Day as a Single Woman! \\nLet's see what we can do about that! \\nI'm NOT looking for a one night'er or a fling, but rather a meaningful relationship. \\nBased on Openness, Trust and Honest ...\"},\n",
       "  'title': \"Looking for Commitment - Let's Get Married!!! - m4w (New York ❤️🙏💍)\",\n",
       "  'title_detail': {'base': 'https://newyork.craigslist.org/search/stp?format=rss',\n",
       "   'language': None,\n",
       "   'type': 'text/plain',\n",
       "   'value': \"Looking for Commitment - Let's Get Married!!! - m4w (New York ❤️🙏💍)\"},\n",
       "  'updated': '2017-08-21T20:14:16-04:00',\n",
       "  'updated_parsed': time.struct_time(tm_year=2017, tm_mon=8, tm_mday=22, tm_hour=0, tm_min=14, tm_sec=16, tm_wday=1, tm_yday=234, tm_isdst=0)},\n",
       " {'dc_source': 'http://newyork.craigslist.org/mnh/stp/6231753303.html',\n",
       "  'dc_type': 'text',\n",
       "  'enc_enclosure': {'resource': 'https://images.craigslist.org/00707_iMt2Op68Q3N_300x300.jpg',\n",
       "   'type': 'image/jpeg'},\n",
       "  'id': 'http://newyork.craigslist.org/mnh/stp/6231753303.html',\n",
       "  'language': 'en-us',\n",
       "  'link': 'http://newyork.craigslist.org/mnh/stp/6231753303.html',\n",
       "  'links': [{'href': 'http://newyork.craigslist.org/mnh/stp/6231753303.html',\n",
       "    'rel': 'alternate',\n",
       "    'type': 'text/html'}],\n",
       "  'published': '2017-08-21T20:13:29-04:00',\n",
       "  'published_parsed': time.struct_time(tm_year=2017, tm_mon=8, tm_mday=22, tm_hour=0, tm_min=13, tm_sec=29, tm_wday=1, tm_yday=234, tm_isdst=0),\n",
       "  'rights': 'copyright 2017 craiglist',\n",
       "  'rights_detail': {'base': 'https://newyork.craigslist.org/search/stp?format=rss',\n",
       "   'language': None,\n",
       "   'type': 'text/plain',\n",
       "   'value': 'copyright 2017 craiglist'},\n",
       "  'summary': \"Thanks for reading my ad, I really appreciate it! I'm a 39 year old White male who's looking for a girlfriend who can maybe someday be my wife. \\nIt seems most people want to live with one another these days without actually getting married. Well let' ...\",\n",
       "  'summary_detail': {'base': 'https://newyork.craigslist.org/search/stp?format=rss',\n",
       "   'language': None,\n",
       "   'type': 'text/html',\n",
       "   'value': \"Thanks for reading my ad, I really appreciate it! I'm a 39 year old White male who's looking for a girlfriend who can maybe someday be my wife. \\nIt seems most people want to live with one another these days without actually getting married. Well let' ...\"},\n",
       "  'title': 'Lacking Commitment - Seeking to Make Babies with You!!! - m4w - m4w (New York)',\n",
       "  'title_detail': {'base': 'https://newyork.craigslist.org/search/stp?format=rss',\n",
       "   'language': None,\n",
       "   'type': 'text/plain',\n",
       "   'value': 'Lacking Commitment - Seeking to Make Babies with You!!! - m4w - m4w (New York)'},\n",
       "  'updated': '2017-08-21T20:13:29-04:00',\n",
       "  'updated_parsed': time.struct_time(tm_year=2017, tm_mon=8, tm_mday=22, tm_hour=0, tm_min=13, tm_sec=29, tm_wday=1, tm_yday=234, tm_isdst=0)},\n",
       " {'dc_source': 'http://newyork.craigslist.org/mnh/stp/6271641894.html',\n",
       "  'dc_type': 'text',\n",
       "  'enc_enclosure': {'resource': 'https://images.craigslist.org/00w0w_d8rmCacm7kE_300x300.jpg',\n",
       "   'type': 'image/jpeg'},\n",
       "  'id': 'http://newyork.craigslist.org/mnh/stp/6271641894.html',\n",
       "  'language': 'en-us',\n",
       "  'link': 'http://newyork.craigslist.org/mnh/stp/6271641894.html',\n",
       "  'links': [{'href': 'http://newyork.craigslist.org/mnh/stp/6271641894.html',\n",
       "    'rel': 'alternate',\n",
       "    'type': 'text/html'}],\n",
       "  'published': '2017-08-21T20:13:17-04:00',\n",
       "  'published_parsed': time.struct_time(tm_year=2017, tm_mon=8, tm_mday=22, tm_hour=0, tm_min=13, tm_sec=17, tm_wday=1, tm_yday=234, tm_isdst=0),\n",
       "  'rights': 'copyright 2017 craiglist',\n",
       "  'rights_detail': {'base': 'https://newyork.craigslist.org/search/stp?format=rss',\n",
       "   'language': None,\n",
       "   'type': 'text/plain',\n",
       "   'value': 'copyright 2017 craiglist'},\n",
       "  'summary': \"Looking for Commitment - Let's Get Married!!! \\nDon't Spend Another Day as a Single Woman! \\nLet's see what we can do about that! \\nI'm NOT looking for a one night'er or a fling, but rather a meaningful relationship. \\nBased on Openness, Trust and Honest ...\",\n",
       "  'summary_detail': {'base': 'https://newyork.craigslist.org/search/stp?format=rss',\n",
       "   'language': None,\n",
       "   'type': 'text/html',\n",
       "   'value': \"Looking for Commitment - Let's Get Married!!! \\nDon't Spend Another Day as a Single Woman! \\nLet's see what we can do about that! \\nI'm NOT looking for a one night'er or a fling, but rather a meaningful relationship. \\nBased on Openness, Trust and Honest ...\"},\n",
       "  'title': \"Looking for Commitment - Let's Get Married!!! - m4w (Midtown)\",\n",
       "  'title_detail': {'base': 'https://newyork.craigslist.org/search/stp?format=rss',\n",
       "   'language': None,\n",
       "   'type': 'text/plain',\n",
       "   'value': \"Looking for Commitment - Let's Get Married!!! - m4w (Midtown)\"},\n",
       "  'updated': '2017-08-21T20:13:17-04:00',\n",
       "  'updated_parsed': time.struct_time(tm_year=2017, tm_mon=8, tm_mday=22, tm_hour=0, tm_min=13, tm_sec=17, tm_wday=1, tm_yday=234, tm_isdst=0)},\n",
       " {'dc_source': 'http://newyork.craigslist.org/mnh/stp/6253180571.html',\n",
       "  'dc_type': 'text',\n",
       "  'enc_enclosure': {'resource': 'https://images.craigslist.org/00w0w_d8rmCacm7kE_300x300.jpg',\n",
       "   'type': 'image/jpeg'},\n",
       "  'id': 'http://newyork.craigslist.org/mnh/stp/6253180571.html',\n",
       "  'language': 'en-us',\n",
       "  'link': 'http://newyork.craigslist.org/mnh/stp/6253180571.html',\n",
       "  'links': [{'href': 'http://newyork.craigslist.org/mnh/stp/6253180571.html',\n",
       "    'rel': 'alternate',\n",
       "    'type': 'text/html'}],\n",
       "  'published': '2017-08-21T20:12:51-04:00',\n",
       "  'published_parsed': time.struct_time(tm_year=2017, tm_mon=8, tm_mday=22, tm_hour=0, tm_min=12, tm_sec=51, tm_wday=1, tm_yday=234, tm_isdst=0),\n",
       "  'rights': 'copyright 2017 craiglist',\n",
       "  'rights_detail': {'base': 'https://newyork.craigslist.org/search/stp?format=rss',\n",
       "   'language': None,\n",
       "   'type': 'text/plain',\n",
       "   'value': 'copyright 2017 craiglist'},\n",
       "  'summary': \"Looking for Commitment - Let's Get Married!!! \\nDon't Spend Another Day as a Single Woman! \\nLet's see what we can do about that! \\nI'm NOT looking for a one night'er or a fling, but rather a meaningful relationship. \\nBased on Openness, Trust and Honest ...\",\n",
       "  'summary_detail': {'base': 'https://newyork.craigslist.org/search/stp?format=rss',\n",
       "   'language': None,\n",
       "   'type': 'text/html',\n",
       "   'value': \"Looking for Commitment - Let's Get Married!!! \\nDon't Spend Another Day as a Single Woman! \\nLet's see what we can do about that! \\nI'm NOT looking for a one night'er or a fling, but rather a meaningful relationship. \\nBased on Openness, Trust and Honest ...\"},\n",
       "  'title': \"Looking for Commitment - Let's Get Married!!! - m4w (Midtown)\",\n",
       "  'title_detail': {'base': 'https://newyork.craigslist.org/search/stp?format=rss',\n",
       "   'language': None,\n",
       "   'type': 'text/plain',\n",
       "   'value': \"Looking for Commitment - Let's Get Married!!! - m4w (Midtown)\"},\n",
       "  'updated': '2017-08-21T20:12:51-04:00',\n",
       "  'updated_parsed': time.struct_time(tm_year=2017, tm_mon=8, tm_mday=22, tm_hour=0, tm_min=12, tm_sec=51, tm_wday=1, tm_yday=234, tm_isdst=0)},\n",
       " {'dc_source': 'http://newyork.craigslist.org/mnh/stp/6272963733.html',\n",
       "  'dc_type': 'text',\n",
       "  'id': 'http://newyork.craigslist.org/mnh/stp/6272963733.html',\n",
       "  'language': 'en-us',\n",
       "  'link': 'http://newyork.craigslist.org/mnh/stp/6272963733.html',\n",
       "  'links': [{'href': 'http://newyork.craigslist.org/mnh/stp/6272963733.html',\n",
       "    'rel': 'alternate',\n",
       "    'type': 'text/html'}],\n",
       "  'published': '2017-08-21T20:06:59-04:00',\n",
       "  'published_parsed': time.struct_time(tm_year=2017, tm_mon=8, tm_mday=22, tm_hour=0, tm_min=6, tm_sec=59, tm_wday=1, tm_yday=234, tm_isdst=0),\n",
       "  'rights': 'copyright 2017 craiglist',\n",
       "  'rights_detail': {'base': 'https://newyork.craigslist.org/search/stp?format=rss',\n",
       "   'language': None,\n",
       "   'type': 'text/plain',\n",
       "   'value': 'copyright 2017 craiglist'},\n",
       "  'summary': \"Not sure why I'm posting this here or what I even expect to find. Just someone to make a connection with I guess. I am a married white male, straight, but have recently come to terms with the fact that I have some unresolved Daddy issues. I realize t ...\",\n",
       "  'summary_detail': {'base': 'https://newyork.craigslist.org/search/stp?format=rss',\n",
       "   'language': None,\n",
       "   'type': 'text/html',\n",
       "   'value': \"Not sure why I'm posting this here or what I even expect to find. Just someone to make a connection with I guess. I am a married white male, straight, but have recently come to terms with the fact that I have some unresolved Daddy issues. I realize t ...\"},\n",
       "  'title': 'MWM Has Daddy Issues - m4m (NYC)',\n",
       "  'title_detail': {'base': 'https://newyork.craigslist.org/search/stp?format=rss',\n",
       "   'language': None,\n",
       "   'type': 'text/plain',\n",
       "   'value': 'MWM Has Daddy Issues - m4m (NYC)'},\n",
       "  'updated': '2017-08-21T20:06:59-04:00',\n",
       "  'updated_parsed': time.struct_time(tm_year=2017, tm_mon=8, tm_mday=22, tm_hour=0, tm_min=6, tm_sec=59, tm_wday=1, tm_yday=234, tm_isdst=0)},\n",
       " {'dc_source': 'http://newyork.craigslist.org/mnh/stp/6256092286.html',\n",
       "  'dc_type': 'text',\n",
       "  'id': 'http://newyork.craigslist.org/mnh/stp/6256092286.html',\n",
       "  'language': 'en-us',\n",
       "  'link': 'http://newyork.craigslist.org/mnh/stp/6256092286.html',\n",
       "  'links': [{'href': 'http://newyork.craigslist.org/mnh/stp/6256092286.html',\n",
       "    'rel': 'alternate',\n",
       "    'type': 'text/html'}],\n",
       "  'published': '2017-08-21T20:05:11-04:00',\n",
       "  'published_parsed': time.struct_time(tm_year=2017, tm_mon=8, tm_mday=22, tm_hour=0, tm_min=5, tm_sec=11, tm_wday=1, tm_yday=234, tm_isdst=0),\n",
       "  'rights': 'copyright 2017 craiglist',\n",
       "  'rights_detail': {'base': 'https://newyork.craigslist.org/search/stp?format=rss',\n",
       "   'language': None,\n",
       "   'type': 'text/plain',\n",
       "   'value': 'copyright 2017 craiglist'},\n",
       "  'summary': \"white male 40's no kids seeking nice asian caucasian latina female friend with cute feet from age late 20's to mid 40's to go out from time to time to movies dinners lunch be my treat plus income pic 4 pic.\",\n",
       "  'summary_detail': {'base': 'https://newyork.craigslist.org/search/stp?format=rss',\n",
       "   'language': None,\n",
       "   'type': 'text/html',\n",
       "   'value': \"white male 40's no kids seeking nice asian caucasian latina female friend with cute feet from age late 20's to mid 40's to go out from time to time to movies dinners lunch be my treat plus income pic 4 pic.\"},\n",
       "  'title': 'plus size woman to pamper - m4w (Manhattan)',\n",
       "  'title_detail': {'base': 'https://newyork.craigslist.org/search/stp?format=rss',\n",
       "   'language': None,\n",
       "   'type': 'text/plain',\n",
       "   'value': 'plus size woman to pamper - m4w (Manhattan)'},\n",
       "  'updated': '2017-08-21T20:05:11-04:00',\n",
       "  'updated_parsed': time.struct_time(tm_year=2017, tm_mon=8, tm_mday=22, tm_hour=0, tm_min=5, tm_sec=11, tm_wday=1, tm_yday=234, tm_isdst=0)},\n",
       " {'dc_source': 'http://newyork.craigslist.org/brx/stp/6274339975.html',\n",
       "  'dc_type': 'text',\n",
       "  'enc_enclosure': {'resource': 'https://images.craigslist.org/00X0X_cURTUhouDMw_300x300.jpg',\n",
       "   'type': 'image/jpeg'},\n",
       "  'id': 'http://newyork.craigslist.org/brx/stp/6274339975.html',\n",
       "  'language': 'en-us',\n",
       "  'link': 'http://newyork.craigslist.org/brx/stp/6274339975.html',\n",
       "  'links': [{'href': 'http://newyork.craigslist.org/brx/stp/6274339975.html',\n",
       "    'rel': 'alternate',\n",
       "    'type': 'text/html'}],\n",
       "  'published': '2017-08-21T20:02:00-04:00',\n",
       "  'published_parsed': time.struct_time(tm_year=2017, tm_mon=8, tm_mday=22, tm_hour=0, tm_min=2, tm_sec=0, tm_wday=1, tm_yday=234, tm_isdst=0),\n",
       "  'rights': 'copyright 2017 craiglist',\n",
       "  'rights_detail': {'base': 'https://newyork.craigslist.org/search/stp?format=rss',\n",
       "   'language': None,\n",
       "   'type': 'text/plain',\n",
       "   'value': 'copyright 2017 craiglist'},\n",
       "  'summary': \"So if your reading my ad, well thank you. Let's keep this as short as possible. I'm here seeking a down to earth female. You can be bi, les, curious, transgender, straight, whatever I don't care. Just looking for a good roll person. A person who's pr ...\",\n",
       "  'summary_detail': {'base': 'https://newyork.craigslist.org/search/stp?format=rss',\n",
       "   'language': None,\n",
       "   'type': 'text/html',\n",
       "   'value': \"So if your reading my ad, well thank you. Let's keep this as short as possible. I'm here seeking a down to earth female. You can be bi, les, curious, transgender, straight, whatever I don't care. Just looking for a good roll person. A person who's pr ...\"},\n",
       "  'title': '*Good Friend* - w4w (Bronx)',\n",
       "  'title_detail': {'base': 'https://newyork.craigslist.org/search/stp?format=rss',\n",
       "   'language': None,\n",
       "   'type': 'text/plain',\n",
       "   'value': '*Good Friend* - w4w (Bronx)'},\n",
       "  'updated': '2017-08-21T20:02:00-04:00',\n",
       "  'updated_parsed': time.struct_time(tm_year=2017, tm_mon=8, tm_mday=22, tm_hour=0, tm_min=2, tm_sec=0, tm_wday=1, tm_yday=234, tm_isdst=0)},\n",
       " {'dc_source': 'http://newyork.craigslist.org/mnh/stp/6274293101.html',\n",
       "  'dc_type': 'text',\n",
       "  'enc_enclosure': {'resource': 'https://images.craigslist.org/00202_6bdbbVuVLF6_300x300.jpg',\n",
       "   'type': 'image/jpeg'},\n",
       "  'id': 'http://newyork.craigslist.org/mnh/stp/6274293101.html',\n",
       "  'language': 'en-us',\n",
       "  'link': 'http://newyork.craigslist.org/mnh/stp/6274293101.html',\n",
       "  'links': [{'href': 'http://newyork.craigslist.org/mnh/stp/6274293101.html',\n",
       "    'rel': 'alternate',\n",
       "    'type': 'text/html'}],\n",
       "  'published': '2017-08-21T20:01:42-04:00',\n",
       "  'published_parsed': time.struct_time(tm_year=2017, tm_mon=8, tm_mday=22, tm_hour=0, tm_min=1, tm_sec=42, tm_wday=1, tm_yday=234, tm_isdst=0),\n",
       "  'rights': 'copyright 2017 craiglist',\n",
       "  'rights_detail': {'base': 'https://newyork.craigslist.org/search/stp?format=rss',\n",
       "   'language': None,\n",
       "   'type': 'text/plain',\n",
       "   'value': 'copyright 2017 craiglist'},\n",
       "  'summary': \"At some point, you reach an age where you can't possibly, even if you tried, give any less of a fuck. I've reached that age.. \\nI'm done with worrying about what others think, adhering to stupid-ass rules prescribed by stupid ass-people, and I realize ...\",\n",
       "  'summary_detail': {'base': 'https://newyork.craigslist.org/search/stp?format=rss',\n",
       "   'language': None,\n",
       "   'type': 'text/html',\n",
       "   'value': \"At some point, you reach an age where you can't possibly, even if you tried, give any less of a fuck. I've reached that age.. \\nI'm done with worrying about what others think, adhering to stupid-ass rules prescribed by stupid ass-people, and I realize ...\"},\n",
       "  'title': 'I Have No More Fucks To Give... How about you? - m4w',\n",
       "  'title_detail': {'base': 'https://newyork.craigslist.org/search/stp?format=rss',\n",
       "   'language': None,\n",
       "   'type': 'text/plain',\n",
       "   'value': 'I Have No More Fucks To Give... How about you? - m4w'},\n",
       "  'updated': '2017-08-21T20:01:42-04:00',\n",
       "  'updated_parsed': time.struct_time(tm_year=2017, tm_mon=8, tm_mday=22, tm_hour=0, tm_min=1, tm_sec=42, tm_wday=1, tm_yday=234, tm_isdst=0)},\n",
       " {'dc_source': 'http://newyork.craigslist.org/que/stp/6269889087.html',\n",
       "  'dc_type': 'text',\n",
       "  'enc_enclosure': {'resource': 'https://images.craigslist.org/00303_lY4vmhdqQu7_300x300.jpg',\n",
       "   'type': 'image/jpeg'},\n",
       "  'id': 'http://newyork.craigslist.org/que/stp/6269889087.html',\n",
       "  'language': 'en-us',\n",
       "  'link': 'http://newyork.craigslist.org/que/stp/6269889087.html',\n",
       "  'links': [{'href': 'http://newyork.craigslist.org/que/stp/6269889087.html',\n",
       "    'rel': 'alternate',\n",
       "    'type': 'text/html'}],\n",
       "  'published': '2017-08-21T19:59:36-04:00',\n",
       "  'published_parsed': time.struct_time(tm_year=2017, tm_mon=8, tm_mday=21, tm_hour=23, tm_min=59, tm_sec=36, tm_wday=0, tm_yday=233, tm_isdst=0),\n",
       "  'rights': 'copyright 2017 craiglist',\n",
       "  'rights_detail': {'base': 'https://newyork.craigslist.org/search/stp?format=rss',\n",
       "   'language': None,\n",
       "   'type': 'text/plain',\n",
       "   'value': 'copyright 2017 craiglist'},\n",
       "  'summary': \"My name is Miguel and I'm moving to NYC Sept. 18th from Indiana. I'd like to meet some friends to hangout with and get to know and explore the city with. I love live music, libraries, museum, food, movies and a lot of different things that are advent ...\",\n",
       "  'summary_detail': {'base': 'https://newyork.craigslist.org/search/stp?format=rss',\n",
       "   'language': None,\n",
       "   'type': 'text/html',\n",
       "   'value': \"My name is Miguel and I'm moving to NYC Sept. 18th from Indiana. I'd like to meet some friends to hangout with and get to know and explore the city with. I love live music, libraries, museum, food, movies and a lot of different things that are advent ...\"},\n",
       "  'title': 'Moving to NYC soon need friends. - m4w (Queens, NY)',\n",
       "  'title_detail': {'base': 'https://newyork.craigslist.org/search/stp?format=rss',\n",
       "   'language': None,\n",
       "   'type': 'text/plain',\n",
       "   'value': 'Moving to NYC soon need friends. - m4w (Queens, NY)'},\n",
       "  'updated': '2017-08-21T19:59:36-04:00',\n",
       "  'updated_parsed': time.struct_time(tm_year=2017, tm_mon=8, tm_mday=21, tm_hour=23, tm_min=59, tm_sec=36, tm_wday=0, tm_yday=233, tm_isdst=0)},\n",
       " {'dc_source': 'http://newyork.craigslist.org/brx/stp/6269891167.html',\n",
       "  'dc_type': 'text',\n",
       "  'enc_enclosure': {'resource': 'https://images.craigslist.org/00303_lY4vmhdqQu7_300x300.jpg',\n",
       "   'type': 'image/jpeg'},\n",
       "  'id': 'http://newyork.craigslist.org/brx/stp/6269891167.html',\n",
       "  'language': 'en-us',\n",
       "  'link': 'http://newyork.craigslist.org/brx/stp/6269891167.html',\n",
       "  'links': [{'href': 'http://newyork.craigslist.org/brx/stp/6269891167.html',\n",
       "    'rel': 'alternate',\n",
       "    'type': 'text/html'}],\n",
       "  'published': '2017-08-21T19:59:32-04:00',\n",
       "  'published_parsed': time.struct_time(tm_year=2017, tm_mon=8, tm_mday=21, tm_hour=23, tm_min=59, tm_sec=32, tm_wday=0, tm_yday=233, tm_isdst=0),\n",
       "  'rights': 'copyright 2017 craiglist',\n",
       "  'rights_detail': {'base': 'https://newyork.craigslist.org/search/stp?format=rss',\n",
       "   'language': None,\n",
       "   'type': 'text/plain',\n",
       "   'value': 'copyright 2017 craiglist'},\n",
       "  'summary': \"My name is Miguel and I'm moving to NYC Sept. 18th from Indiana. I'd like to meet some friends to hangout with and get to know and explore the city with. I love live music, libraries, museum, food, movies and a lot of different things that are advent ...\",\n",
       "  'summary_detail': {'base': 'https://newyork.craigslist.org/search/stp?format=rss',\n",
       "   'language': None,\n",
       "   'type': 'text/html',\n",
       "   'value': \"My name is Miguel and I'm moving to NYC Sept. 18th from Indiana. I'd like to meet some friends to hangout with and get to know and explore the city with. I love live music, libraries, museum, food, movies and a lot of different things that are advent ...\"},\n",
       "  'title': 'Moving to NYC soon need friends. - m4w (Bronx, NY)',\n",
       "  'title_detail': {'base': 'https://newyork.craigslist.org/search/stp?format=rss',\n",
       "   'language': None,\n",
       "   'type': 'text/plain',\n",
       "   'value': 'Moving to NYC soon need friends. - m4w (Bronx, NY)'},\n",
       "  'updated': '2017-08-21T19:59:32-04:00',\n",
       "  'updated_parsed': time.struct_time(tm_year=2017, tm_mon=8, tm_mday=21, tm_hour=23, tm_min=59, tm_sec=32, tm_wday=0, tm_yday=233, tm_isdst=0)},\n",
       " {'dc_source': 'http://newyork.craigslist.org/stn/stp/6269893127.html',\n",
       "  'dc_type': 'text',\n",
       "  'enc_enclosure': {'resource': 'https://images.craigslist.org/00303_lY4vmhdqQu7_300x300.jpg',\n",
       "   'type': 'image/jpeg'},\n",
       "  'id': 'http://newyork.craigslist.org/stn/stp/6269893127.html',\n",
       "  'language': 'en-us',\n",
       "  'link': 'http://newyork.craigslist.org/stn/stp/6269893127.html',\n",
       "  'links': [{'href': 'http://newyork.craigslist.org/stn/stp/6269893127.html',\n",
       "    'rel': 'alternate',\n",
       "    'type': 'text/html'}],\n",
       "  'published': '2017-08-21T19:59:27-04:00',\n",
       "  'published_parsed': time.struct_time(tm_year=2017, tm_mon=8, tm_mday=21, tm_hour=23, tm_min=59, tm_sec=27, tm_wday=0, tm_yday=233, tm_isdst=0),\n",
       "  'rights': 'copyright 2017 craiglist',\n",
       "  'rights_detail': {'base': 'https://newyork.craigslist.org/search/stp?format=rss',\n",
       "   'language': None,\n",
       "   'type': 'text/plain',\n",
       "   'value': 'copyright 2017 craiglist'},\n",
       "  'summary': \"My name is Miguel and I'm moving to NYC Sept. 18th from Indiana. I'd like to meet some friends to hangout with and get to know and explore the city with. I love live music, libraries, museum, food, movies and a lot of different things that are advent ...\",\n",
       "  'summary_detail': {'base': 'https://newyork.craigslist.org/search/stp?format=rss',\n",
       "   'language': None,\n",
       "   'type': 'text/html',\n",
       "   'value': \"My name is Miguel and I'm moving to NYC Sept. 18th from Indiana. I'd like to meet some friends to hangout with and get to know and explore the city with. I love live music, libraries, museum, food, movies and a lot of different things that are advent ...\"},\n",
       "  'title': 'Moving to NYC soon need friends. - m4w (Staten Island, NY)',\n",
       "  'title_detail': {'base': 'https://newyork.craigslist.org/search/stp?format=rss',\n",
       "   'language': None,\n",
       "   'type': 'text/plain',\n",
       "   'value': 'Moving to NYC soon need friends. - m4w (Staten Island, NY)'},\n",
       "  'updated': '2017-08-21T19:59:27-04:00',\n",
       "  'updated_parsed': time.struct_time(tm_year=2017, tm_mon=8, tm_mday=21, tm_hour=23, tm_min=59, tm_sec=27, tm_wday=0, tm_yday=233, tm_isdst=0)},\n",
       " {'dc_source': 'http://newyork.craigslist.org/jsy/stp/6269895141.html',\n",
       "  'dc_type': 'text',\n",
       "  'enc_enclosure': {'resource': 'https://images.craigslist.org/00303_lY4vmhdqQu7_300x300.jpg',\n",
       "   'type': 'image/jpeg'},\n",
       "  'id': 'http://newyork.craigslist.org/jsy/stp/6269895141.html',\n",
       "  'language': 'en-us',\n",
       "  'link': 'http://newyork.craigslist.org/jsy/stp/6269895141.html',\n",
       "  'links': [{'href': 'http://newyork.craigslist.org/jsy/stp/6269895141.html',\n",
       "    'rel': 'alternate',\n",
       "    'type': 'text/html'}],\n",
       "  'published': '2017-08-21T19:59:23-04:00',\n",
       "  'published_parsed': time.struct_time(tm_year=2017, tm_mon=8, tm_mday=21, tm_hour=23, tm_min=59, tm_sec=23, tm_wday=0, tm_yday=233, tm_isdst=0),\n",
       "  'rights': 'copyright 2017 craiglist',\n",
       "  'rights_detail': {'base': 'https://newyork.craigslist.org/search/stp?format=rss',\n",
       "   'language': None,\n",
       "   'type': 'text/plain',\n",
       "   'value': 'copyright 2017 craiglist'},\n",
       "  'summary': \"My name is Miguel and I'm moving to NYC Sept. 18th from Indiana. I'd like to meet some friends to hangout with and get to know and explore the city with. I love live music, libraries, museum, food, movies and a lot of different things that are advent ...\",\n",
       "  'summary_detail': {'base': 'https://newyork.craigslist.org/search/stp?format=rss',\n",
       "   'language': None,\n",
       "   'type': 'text/html',\n",
       "   'value': \"My name is Miguel and I'm moving to NYC Sept. 18th from Indiana. I'd like to meet some friends to hangout with and get to know and explore the city with. I love live music, libraries, museum, food, movies and a lot of different things that are advent ...\"},\n",
       "  'title': 'Moving to NYC soon need friends. - m4w (Avenel, NJ)',\n",
       "  'title_detail': {'base': 'https://newyork.craigslist.org/search/stp?format=rss',\n",
       "   'language': None,\n",
       "   'type': 'text/plain',\n",
       "   'value': 'Moving to NYC soon need friends. - m4w (Avenel, NJ)'},\n",
       "  'updated': '2017-08-21T19:59:23-04:00',\n",
       "  'updated_parsed': time.struct_time(tm_year=2017, tm_mon=8, tm_mday=21, tm_hour=23, tm_min=59, tm_sec=23, tm_wday=0, tm_yday=233, tm_isdst=0)},\n",
       " {'dc_source': 'http://newyork.craigslist.org/lgi/stp/6269897372.html',\n",
       "  'dc_type': 'text',\n",
       "  'enc_enclosure': {'resource': 'https://images.craigslist.org/00303_lY4vmhdqQu7_300x300.jpg',\n",
       "   'type': 'image/jpeg'},\n",
       "  'id': 'http://newyork.craigslist.org/lgi/stp/6269897372.html',\n",
       "  'language': 'en-us',\n",
       "  'link': 'http://newyork.craigslist.org/lgi/stp/6269897372.html',\n",
       "  'links': [{'href': 'http://newyork.craigslist.org/lgi/stp/6269897372.html',\n",
       "    'rel': 'alternate',\n",
       "    'type': 'text/html'}],\n",
       "  'published': '2017-08-21T19:59:18-04:00',\n",
       "  'published_parsed': time.struct_time(tm_year=2017, tm_mon=8, tm_mday=21, tm_hour=23, tm_min=59, tm_sec=18, tm_wday=0, tm_yday=233, tm_isdst=0),\n",
       "  'rights': 'copyright 2017 craiglist',\n",
       "  'rights_detail': {'base': 'https://newyork.craigslist.org/search/stp?format=rss',\n",
       "   'language': None,\n",
       "   'type': 'text/plain',\n",
       "   'value': 'copyright 2017 craiglist'},\n",
       "  'summary': \"My name is Miguel and I'm moving to NYC Sept. 18th from Indiana. I'd like to meet some friends to hangout with and get to know and explore the city with. I love live music, libraries, museum, food, movies and a lot of different things that are advent ...\",\n",
       "  'summary_detail': {'base': 'https://newyork.craigslist.org/search/stp?format=rss',\n",
       "   'language': None,\n",
       "   'type': 'text/html',\n",
       "   'value': \"My name is Miguel and I'm moving to NYC Sept. 18th from Indiana. I'd like to meet some friends to hangout with and get to know and explore the city with. I love live music, libraries, museum, food, movies and a lot of different things that are advent ...\"},\n",
       "  'title': 'Moving to NYC soon need friends. - m4w (Long Island, NY)',\n",
       "  'title_detail': {'base': 'https://newyork.craigslist.org/search/stp?format=rss',\n",
       "   'language': None,\n",
       "   'type': 'text/plain',\n",
       "   'value': 'Moving to NYC soon need friends. - m4w (Long Island, NY)'},\n",
       "  'updated': '2017-08-21T19:59:18-04:00',\n",
       "  'updated_parsed': time.struct_time(tm_year=2017, tm_mon=8, tm_mday=21, tm_hour=23, tm_min=59, tm_sec=18, tm_wday=0, tm_yday=233, tm_isdst=0)}]"
      ]
     },
     "execution_count": 3,
     "metadata": {},
     "output_type": "execute_result"
    }
   ],
   "source": [
    "ny['entries']"
   ]
  },
  {
   "cell_type": "code",
   "execution_count": 4,
   "metadata": {},
   "outputs": [
    {
     "data": {
      "text/plain": [
       "25"
      ]
     },
     "execution_count": 4,
     "metadata": {},
     "output_type": "execute_result"
    }
   ],
   "source": [
    "len(ny['entries'])"
   ]
  },
  {
   "cell_type": "code",
   "execution_count": 68,
   "metadata": {},
   "outputs": [
    {
     "data": {
      "text/plain": [
       "<module 'bayes' from 'D:\\\\CPU_Manny\\\\workspace\\\\DeepLearning\\\\MachineLearningInAction\\\\Ch04\\\\bayes.py'>"
      ]
     },
     "execution_count": 68,
     "metadata": {},
     "output_type": "execute_result"
    }
   ],
   "source": [
    "reload(bayes)"
   ]
  },
  {
   "cell_type": "code",
   "execution_count": 60,
   "metadata": {
    "collapsed": true
   },
   "outputs": [],
   "source": [
    "ny = feedparser.parse('http://newyork.craigslist.org/stp/index.rss')\n",
    "sf = feedparser.parse('http://sfbay.craigslist.org/stp/index.rss')"
   ]
  },
  {
   "cell_type": "code",
   "execution_count": 61,
   "metadata": {},
   "outputs": [
    {
     "name": "stdout",
     "output_type": "stream",
     "text": [
      "the error rate is:  0.5\n"
     ]
    }
   ],
   "source": [
    "vocabList,psf,pny=bayes.localWords(ny,sf)"
   ]
  },
  {
   "cell_type": "code",
   "execution_count": 62,
   "metadata": {},
   "outputs": [
    {
     "name": "stdout",
     "output_type": "stream",
     "text": [
      "the error rate is:  0.8\n"
     ]
    }
   ],
   "source": [
    "vocabList,psf,pny=bayes.localWords(ny,sf)"
   ]
  },
  {
   "cell_type": "code",
   "execution_count": 63,
   "metadata": {},
   "outputs": [
    {
     "data": {
      "text/plain": [
       "[\"i've been a big fan of all-inclusive resorts since my sister was married at one. i absolutely love the large pools, beautiful beaches, swim up bars and luxurious hotel grounds. while i usually do these trips with family sometimes, i'm looking for a t ...\",\n",
       " 'in life we are all alone. we are born alone and we will die alone. this life is sad and lonely. this life is full of pain.',\n",
       " 'just looking for some fun , can be nsa or ltr it depends on the age gap and how well we hit it off. \\nkind , funny, sensitive and in great shape, so you should be fit, d&amp;d free, if you have ever thought about what the older guy would be like?...th ...',\n",
       " 'just looking to see if anyone out there would just like to chill. wine or beers...maybe 420. movie, chat, easy. thirty three here. blonde blue...five eleven. decent looking fellow. send a pic for mine.',\n",
       " \"looking for good company to relax on the green after work on a picnic blanket and people watch while sipping some tasty pinot grigio or cabernet sauvignon. it's an awesome way to enjoy the summer and one of my favorite things to do with good company. ...\",\n",
       " \"no beauty can be fully appreciated in solitude. \\ni could be wrong, but that's the conclusion i've drawn in recent months. i have many wonderful people in my life but so few with any serious interest in culture and the arts. \\nis there anyone out there ...\",\n",
       " \"picture the scene..we're 2 strangers who meet at the beach or at a beach resort. a young couple relaxing in a beach hut on an exotic island summer vacation. roommates who come home from a bar one night and get closer than they had been before.. \\nalth ...\",\n",
       " \"pretty simple. just looking to chill &amp; laugh. that's it. always love meeting new people. anyway if you're cool and open minded. hit me up. if you're curious what i look like. thats fine. because i'm cute with a killer smile.\",\n",
       " 'sorry if this was misclassified - have 60 pills ( 2 months) of generic truvada ordered from overseas that i used for prep - its emtricitabine/tenofovir 200mg/300mg same stuff as truvada but needless to say its much cheaper, the generics made in india ...',\n",
       " \"staying in walnut creek for the week, looking to blaze with a buddy later at my hotel, smoke and chill. you bring the 420 &#128512; \\nlatino here, 5'2, slim/toned, clean and play safe.\",\n",
       " 'sub male seeking dominant assertive woman - m4w (sf) \\ni am a experienced submissive swm in san francisco seeking a dominant attractive woman in excellent shape, intelligent, educated, to make me her slave. i can be disciplined and punished by you, gr ...',\n",
       " 'the holiday season is always a good time to enjoy the bar experience more. fun dive bars in the east village, some bar hopping and exploring..always fun in my book. drop me a line if interested!',\n",
       " \"there is no time like the present to enjoy our lives to the fullest...and travel is probably the only thing we can buy that can make us richer, more insightful and energized. let's travel far enough to find ourselves! seeking in my age category (60 p ...\",\n",
       " 'thinking of hitting the city center movie after 2nd job. thinking of seeing that hit man movie...around 9:30pm...if i go anyone wanna join.',\n",
       " \"this is definitely not for everybody so if it's not your thing, please kindly move on without flagging. thank you! \\never wish you could have both a cool friend and amazing sex with one person? i have a bunch of friends that i can't have sex with and  ...\",\n",
       " 'tuesday nights just go so much more interesting with $2.22 tuesdays. roll into bowlmor and get early week specials on bowling, tacos, drinks, and arcade play every tuesday after 8 p.m. \\nwould you like to go? please send me an e-mail and i will send y ...',\n",
       " \"well, as the title says i'm looking for a bestie. all my friends are guys,but it gets boring being around them. i'm african american 39. down to earth,funny. small bbw if it matters. but weight shouldn't matter when it comes to being friends. i'm jus ...\",\n",
       " \"white male 40's no kids seeking nice chubby or slim asiam female from age mid 30's to late 40's to go out from time to time to go to movies dinners lunch be my treat pic 4 pic.\",\n",
       " 'would like to meet a nice lady on here interested in walking on a regular basis. we can enjoy the beautiful weather, have enjoyable conversation, and motivate each other to stay healthy. your age/marital status irrelevant since this is strictly plato ...']"
      ]
     },
     "execution_count": 63,
     "metadata": {},
     "output_type": "execute_result"
    }
   ],
   "source": [
    "vocabList"
   ]
  },
  {
   "cell_type": "code",
   "execution_count": 64,
   "metadata": {},
   "outputs": [
    {
     "data": {
      "text/plain": [
       "[-1.791759469228055,\n",
       " -1.791759469228055,\n",
       " -1.791759469228055,\n",
       " -1.791759469228055,\n",
       " -1.791759469228055,\n",
       " -1.791759469228055,\n",
       " -1.791759469228055,\n",
       " -1.791759469228055,\n",
       " -1.791759469228055,\n",
       " -1.0986122886681098,\n",
       " -1.0986122886681098,\n",
       " -1.791759469228055,\n",
       " -1.791759469228055,\n",
       " -1.791759469228055,\n",
       " -1.0986122886681098,\n",
       " -1.791759469228055,\n",
       " -1.791759469228055,\n",
       " -1.791759469228055,\n",
       " -1.0986122886681098]"
      ]
     },
     "execution_count": 64,
     "metadata": {},
     "output_type": "execute_result"
    }
   ],
   "source": [
    "psf"
   ]
  },
  {
   "cell_type": "code",
   "execution_count": 65,
   "metadata": {
    "scrolled": true
   },
   "outputs": [
    {
     "data": {
      "text/plain": [
       "[-1.7047480922384253,\n",
       " -2.3978952727983707,\n",
       " -1.7047480922384253,\n",
       " -2.3978952727983707,\n",
       " -2.3978952727983707,\n",
       " -2.3978952727983707,\n",
       " -1.7047480922384253,\n",
       " -1.7047480922384253,\n",
       " -1.7047480922384253,\n",
       " -2.3978952727983707,\n",
       " -2.3978952727983707,\n",
       " -1.7047480922384253,\n",
       " -1.7047480922384253,\n",
       " -1.7047480922384253,\n",
       " -2.3978952727983707,\n",
       " -1.7047480922384253,\n",
       " -2.3978952727983707,\n",
       " -2.3978952727983707,\n",
       " -2.3978952727983707]"
      ]
     },
     "execution_count": 65,
     "metadata": {},
     "output_type": "execute_result"
    }
   ],
   "source": [
    "pny"
   ]
  },
  {
   "cell_type": "code",
   "execution_count": 69,
   "metadata": {},
   "outputs": [
    {
     "name": "stdout",
     "output_type": "stream",
     "text": [
      "the error rate is:  0.5\n",
      "just looking to see if anyone out there would just like to chill. wine or beers...maybe 420. movie, chat, easy. thirty three here. blonde blue...five eleven. decent looking fellow. send a pic for mine.\n",
      "staying in walnut creek for the week, looking to blaze with a buddy later at my hotel, smoke and chill. you bring the 420 &#128512; \n",
      "latino here, 5'2, slim/toned, clean and play safe.\n",
      "sub male seeking dominant assertive woman - m4w (sf) \n",
      "i am a experienced submissive swm in san francisco seeking a dominant attractive woman in excellent shape, intelligent, educated, to make me her slave. i can be disciplined and punished by you, gr ...\n",
      "would like to meet a nice lady on here interested in walking on a regular basis. we can enjoy the beautiful weather, have enjoyable conversation, and motivate each other to stay healthy. your age/marital status irrelevant since this is strictly plato ...\n",
      "i've been a big fan of all-inclusive resorts since my sister was married at one. i absolutely love the large pools, beautiful beaches, swim up bars and luxurious hotel grounds. while i usually do these trips with family sometimes, i'm looking for a t ...\n",
      "in life we are all alone. we are born alone and we will die alone. this life is sad and lonely. this life is full of pain.\n",
      "just looking for some fun , can be nsa or ltr it depends on the age gap and how well we hit it off. \n",
      "kind , funny, sensitive and in great shape, so you should be fit, d&amp;d free, if you have ever thought about what the older guy would be like?...th ...\n",
      "looking for good company to relax on the green after work on a picnic blanket and people watch while sipping some tasty pinot grigio or cabernet sauvignon. it's an awesome way to enjoy the summer and one of my favorite things to do with good company. ...\n",
      "no beauty can be fully appreciated in solitude. \n",
      "i could be wrong, but that's the conclusion i've drawn in recent months. i have many wonderful people in my life but so few with any serious interest in culture and the arts. \n",
      "is there anyone out there ...\n",
      "picture the scene..we're 2 strangers who meet at the beach or at a beach resort. a young couple relaxing in a beach hut on an exotic island summer vacation. roommates who come home from a bar one night and get closer than they had been before.. \n",
      "alth ...\n",
      "pretty simple. just looking to chill &amp; laugh. that's it. always love meeting new people. anyway if you're cool and open minded. hit me up. if you're curious what i look like. thats fine. because i'm cute with a killer smile.\n",
      "sorry if this was misclassified - have 60 pills ( 2 months) of generic truvada ordered from overseas that i used for prep - its emtricitabine/tenofovir 200mg/300mg same stuff as truvada but needless to say its much cheaper, the generics made in india ...\n",
      "the holiday season is always a good time to enjoy the bar experience more. fun dive bars in the east village, some bar hopping and exploring..always fun in my book. drop me a line if interested!\n",
      "there is no time like the present to enjoy our lives to the fullest...and travel is probably the only thing we can buy that can make us richer, more insightful and energized. let's travel far enough to find ourselves! seeking in my age category (60 p ...\n",
      "thinking of hitting the city center movie after 2nd job. thinking of seeing that hit man movie...around 9:30pm...if i go anyone wanna join.\n",
      "this is definitely not for everybody so if it's not your thing, please kindly move on without flagging. thank you! \n",
      "ever wish you could have both a cool friend and amazing sex with one person? i have a bunch of friends that i can't have sex with and  ...\n",
      "tuesday nights just go so much more interesting with $2.22 tuesdays. roll into bowlmor and get early week specials on bowling, tacos, drinks, and arcade play every tuesday after 8 p.m. \n",
      "would you like to go? please send me an e-mail and i will send y ...\n",
      "well, as the title says i'm looking for a bestie. all my friends are guys,but it gets boring being around them. i'm african american 39. down to earth,funny. small bbw if it matters. but weight shouldn't matter when it comes to being friends. i'm jus ...\n",
      "white male 40's no kids seeking nice chubby or slim asiam female from age mid 30's to late 40's to go out from time to time to go to movies dinners lunch be my treat pic 4 pic.\n",
      "i've been a big fan of all-inclusive resorts since my sister was married at one. i absolutely love the large pools, beautiful beaches, swim up bars and luxurious hotel grounds. while i usually do these trips with family sometimes, i'm looking for a t ...\n",
      "in life we are all alone. we are born alone and we will die alone. this life is sad and lonely. this life is full of pain.\n",
      "just looking for some fun , can be nsa or ltr it depends on the age gap and how well we hit it off. \n",
      "kind , funny, sensitive and in great shape, so you should be fit, d&amp;d free, if you have ever thought about what the older guy would be like?...th ...\n",
      "no beauty can be fully appreciated in solitude. \n",
      "i could be wrong, but that's the conclusion i've drawn in recent months. i have many wonderful people in my life but so few with any serious interest in culture and the arts. \n",
      "is there anyone out there ...\n",
      "picture the scene..we're 2 strangers who meet at the beach or at a beach resort. a young couple relaxing in a beach hut on an exotic island summer vacation. roommates who come home from a bar one night and get closer than they had been before.. \n",
      "alth ...\n",
      "pretty simple. just looking to chill &amp; laugh. that's it. always love meeting new people. anyway if you're cool and open minded. hit me up. if you're curious what i look like. thats fine. because i'm cute with a killer smile.\n",
      "the holiday season is always a good time to enjoy the bar experience more. fun dive bars in the east village, some bar hopping and exploring..always fun in my book. drop me a line if interested!\n",
      "there is no time like the present to enjoy our lives to the fullest...and travel is probably the only thing we can buy that can make us richer, more insightful and energized. let's travel far enough to find ourselves! seeking in my age category (60 p ...\n",
      "tuesday nights just go so much more interesting with $2.22 tuesdays. roll into bowlmor and get early week specials on bowling, tacos, drinks, and arcade play every tuesday after 8 p.m. \n",
      "would you like to go? please send me an e-mail and i will send y ...\n",
      "well, as the title says i'm looking for a bestie. all my friends are guys,but it gets boring being around them. i'm african american 39. down to earth,funny. small bbw if it matters. but weight shouldn't matter when it comes to being friends. i'm jus ...\n",
      "just looking to see if anyone out there would just like to chill. wine or beers...maybe 420. movie, chat, easy. thirty three here. blonde blue...five eleven. decent looking fellow. send a pic for mine.\n",
      "looking for good company to relax on the green after work on a picnic blanket and people watch while sipping some tasty pinot grigio or cabernet sauvignon. it's an awesome way to enjoy the summer and one of my favorite things to do with good company. ...\n",
      "sorry if this was misclassified - have 60 pills ( 2 months) of generic truvada ordered from overseas that i used for prep - its emtricitabine/tenofovir 200mg/300mg same stuff as truvada but needless to say its much cheaper, the generics made in india ...\n",
      "staying in walnut creek for the week, looking to blaze with a buddy later at my hotel, smoke and chill. you bring the 420 &#128512; \n",
      "latino here, 5'2, slim/toned, clean and play safe.\n",
      "sub male seeking dominant assertive woman - m4w (sf) \n",
      "i am a experienced submissive swm in san francisco seeking a dominant attractive woman in excellent shape, intelligent, educated, to make me her slave. i can be disciplined and punished by you, gr ...\n",
      "thinking of hitting the city center movie after 2nd job. thinking of seeing that hit man movie...around 9:30pm...if i go anyone wanna join.\n",
      "this is definitely not for everybody so if it's not your thing, please kindly move on without flagging. thank you! \n",
      "ever wish you could have both a cool friend and amazing sex with one person? i have a bunch of friends that i can't have sex with and  ...\n",
      "white male 40's no kids seeking nice chubby or slim asiam female from age mid 30's to late 40's to go out from time to time to go to movies dinners lunch be my treat pic 4 pic.\n",
      "would like to meet a nice lady on here interested in walking on a regular basis. we can enjoy the beautiful weather, have enjoyable conversation, and motivate each other to stay healthy. your age/marital status irrelevant since this is strictly plato ...\n"
     ]
    }
   ],
   "source": [
    "bayes.getTopWords(ny,sf)"
   ]
  },
  {
   "cell_type": "code",
   "execution_count": 75,
   "metadata": {
    "collapsed": true
   },
   "outputs": [],
   "source": [
    "a = feedparser.parse('https://www.zhihu.com/question/19580096')"
   ]
  },
  {
   "cell_type": "code",
   "execution_count": 76,
   "metadata": {},
   "outputs": [
    {
     "data": {
      "text/plain": [
       "{'bozo': 1,\n",
       " 'bozo_exception': xml.sax._exceptions.SAXParseException('syntax error'),\n",
       " 'encoding': 'utf-8',\n",
       " 'entries': [],\n",
       " 'feed': {},\n",
       " 'headers': {'Cache-Control': 'private,no-store,max-age=0,no-cache,must-revalidate,post-check=0,pre-check=0',\n",
       "  'Connection': 'close',\n",
       "  'Content-Encoding': 'gzip',\n",
       "  'Content-Security-Policy': \"default-src * blob:;img-src * data: blob:;frame-src 'self' *.zhihu.com *.zhihu.dev getpocket.com note.youdao.com safari-extension://com.evernote.safari.clipper-Q79WDW8YH9 weixin: zhihujs: v.qq.com v.youku.com www.bilibili.com;script-src 'self' *.zhihu.com *.google-analytics.com zhstatic.zhihu.com res.wx.qq.com 'unsafe-eval' unpkg.zhimg.com blob:;style-src 'self' *.zhihu.com *.zhihu.dev 'unsafe-inline';connect-src * wss:\",\n",
       "  'Content-Type': 'text/html; charset=utf-8',\n",
       "  'Date': 'Tue, 22 Aug 2017 03:20:59 GMT',\n",
       "  'Expires': 'Fri, 02 Jan 2000 00:00:00 GMT',\n",
       "  'Pragma': 'no-cache',\n",
       "  'Server': 'ZWS',\n",
       "  'Set-Cookie': 'aliyungf_tc=AQAAAL5Gyk4e9wEAUnmptCBRfdZ/k8TN; Path=/; HttpOnly',\n",
       "  'Transfer-Encoding': 'chunked',\n",
       "  'Vary': 'Accept-Encoding',\n",
       "  'X-Backend-Server': 'heifetz.heifetz.2baa2cda---10.2.43.2:31028[10.2.43.2:31028]',\n",
       "  'X-Frame-Options': 'DENY',\n",
       "  'X-Req-ID': 'CD12FBC599BA31B',\n",
       "  'X-Req-SSL': 'proto=TLSv1.2,sni=,cipher=ECDHE-RSA-AES256-GCM-SHA384'},\n",
       " 'href': 'https://www.zhihu.com/question/19580096',\n",
       " 'namespaces': {},\n",
       " 'status': 200,\n",
       " 'version': ''}"
      ]
     },
     "execution_count": 76,
     "metadata": {},
     "output_type": "execute_result"
    }
   ],
   "source": [
    "a"
   ]
  },
  {
   "cell_type": "code",
   "execution_count": null,
   "metadata": {
    "collapsed": true
   },
   "outputs": [],
   "source": []
  }
 ],
 "metadata": {
  "kernelspec": {
   "display_name": "Python 3",
   "language": "python",
   "name": "python3"
  },
  "language_info": {
   "codemirror_mode": {
    "name": "ipython",
    "version": 3
   },
   "file_extension": ".py",
   "mimetype": "text/x-python",
   "name": "python",
   "nbconvert_exporter": "python",
   "pygments_lexer": "ipython3",
   "version": "3.6.1"
  }
 },
 "nbformat": 4,
 "nbformat_minor": 2
}
