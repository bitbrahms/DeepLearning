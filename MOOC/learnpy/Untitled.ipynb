{
 "cells": [
  {
   "cell_type": "code",
   "execution_count": 1,
   "metadata": {
    "collapsed": true
   },
   "outputs": [],
   "source": [
    "names = ['a', 'b','a']\n",
    "namesset=set(names)\n"
   ]
  },
  {
   "cell_type": "code",
   "execution_count": 2,
   "metadata": {},
   "outputs": [
    {
     "data": {
      "text/plain": [
       "{'a', 'b'}"
      ]
     },
     "execution_count": 2,
     "metadata": {},
     "output_type": "execute_result"
    }
   ],
   "source": [
    "namesset"
   ]
  },
  {
   "cell_type": "code",
   "execution_count": 7,
   "metadata": {},
   "outputs": [
    {
     "name": "stdout",
     "output_type": "stream",
     "text": [
      "Help on method_descriptor:\n",
      "\n",
      "remove(...)\n",
      "    Remove an element from a set; it must be a member.\n",
      "    \n",
      "    If the element is not a member, raise a KeyError.\n",
      "\n"
     ]
    }
   ],
   "source": [
    "help(set.remove)\n"
   ]
  },
  {
   "cell_type": "code",
   "execution_count": 8,
   "metadata": {},
   "outputs": [
    {
     "name": "stdout",
     "output_type": "stream",
     "text": [
      "Help on method_descriptor:\n",
      "\n",
      "discard(...)\n",
      "    Remove an element from a set if it is a member.\n",
      "    \n",
      "    If the element is not a member, do nothing.\n",
      "\n"
     ]
    }
   ],
   "source": [
    "help(set.discard)"
   ]
  },
  {
   "cell_type": "code",
   "execution_count": 9,
   "metadata": {
    "collapsed": true
   },
   "outputs": [],
   "source": [
    "import numpy as np"
   ]
  },
  {
   "cell_type": "code",
   "execution_count": 10,
   "metadata": {},
   "outputs": [
    {
     "data": {
      "text/plain": [
       "array([1, 2])"
      ]
     },
     "execution_count": 10,
     "metadata": {},
     "output_type": "execute_result"
    }
   ],
   "source": [
    "np.array([1,2])"
   ]
  },
  {
   "cell_type": "code",
   "execution_count": 12,
   "metadata": {},
   "outputs": [
    {
     "data": {
      "text/plain": [
       "[1,\n",
       " 3,\n",
       " 5,\n",
       " 7,\n",
       " 9,\n",
       " 11,\n",
       " 13,\n",
       " 15,\n",
       " 17,\n",
       " 19,\n",
       " 21,\n",
       " 23,\n",
       " 25,\n",
       " 27,\n",
       " 29,\n",
       " 31,\n",
       " 33,\n",
       " 35,\n",
       " 37,\n",
       " 39,\n",
       " 41,\n",
       " 43,\n",
       " 45,\n",
       " 47]"
      ]
     },
     "execution_count": 12,
     "metadata": {},
     "output_type": "execute_result"
    }
   ],
   "source": [
    "list(range(1,49,2))"
   ]
  },
  {
   "cell_type": "code",
   "execution_count": 17,
   "metadata": {},
   "outputs": [
    {
     "data": {
      "text/plain": [
       "array([ 1,  3,  5,  7,  9, 11, 13, 15, 17, 19, 21, 23, 25, 27, 29, 31, 33,\n",
       "       35, 37, 39, 41, 43, 45, 47, 50])"
      ]
     },
     "execution_count": 17,
     "metadata": {},
     "output_type": "execute_result"
    }
   ],
   "source": [
    "np.linspace(1,50,25,dtype=int)"
   ]
  },
  {
   "cell_type": "code",
   "execution_count": 18,
   "metadata": {},
   "outputs": [
    {
     "data": {
      "text/plain": [
       "30"
      ]
     },
     "execution_count": 18,
     "metadata": {},
     "output_type": "execute_result"
    }
   ],
   "source": [
    "a = np.arange(1, 5)\n",
    "np.power(a,2).sum()"
   ]
  },
  {
   "cell_type": "code",
   "execution_count": 19,
   "metadata": {},
   "outputs": [
    {
     "data": {
      "text/plain": [
       "array([1, 3, 5, 7])"
      ]
     },
     "execution_count": 19,
     "metadata": {},
     "output_type": "execute_result"
    }
   ],
   "source": [
    "np.add(a,np.arange(4))"
   ]
  },
  {
   "cell_type": "code",
   "execution_count": 1,
   "metadata": {
    "collapsed": true
   },
   "outputs": [],
   "source": [
    "import requests"
   ]
  },
  {
   "cell_type": "code",
   "execution_count": 15,
   "metadata": {
    "collapsed": true
   },
   "outputs": [],
   "source": [
    "r = requests.get(' https://api.douban.com/v2/book/27131703')"
   ]
  },
  {
   "cell_type": "code",
   "execution_count": 17,
   "metadata": {},
   "outputs": [],
   "source": [
    "r=r.json()"
   ]
  },
  {
   "cell_type": "code",
   "execution_count": 19,
   "metadata": {},
   "outputs": [
    {
     "name": "stdout",
     "output_type": "stream",
     "text": [
      "{'rating': {'max': 10, 'numRaters': 181, 'average': '7.0', 'min': 0}, 'subtitle': '未来社会的9大生存原则', 'author': ['[美] 伊藤穰一', '[美] 杰夫·豪'], 'pubdate': '2017-9-1', 'tags': [{'count': 111, 'name': '思维', 'title': '思维'}, {'count': 78, 'name': '互联网', 'title': '互联网'}, {'count': 73, 'name': '趋势', 'title': '趋势'}, {'count': 59, 'name': '罗辑思维', 'title': '罗辑思维'}, {'count': 47, 'name': '新经济', 'title': '新经济'}, {'count': 35, 'name': '颠覆', 'title': '颠覆'}, {'count': 34, 'name': '*北京·中信出版社*', 'title': '*北京·中信出版社*'}, {'count': 32, 'name': '管理', 'title': '管理'}], 'origin_title': '', 'image': 'https://img1.doubanio.com/mpic/s29539567.jpg', 'binding': '精装', 'translator': ['张培', '吴建英', '周卓斌'], 'catalog': '序言\\n第一章 涌现优于权威\\n第二章 拉力优于推力\\n第三章 指南针优于地图\\n第四章 风险优于安全\\n第五章 违抗优于服从\\n第七章 多样性优于能力\\n第八章 韧性优于力量\\n第九章 系统优于个体\\n总结 致谢 注释', 'ebook_url': 'https://read.douban.com/ebook/40660459/', 'pages': '344', 'images': {'small': 'https://img1.doubanio.com/spic/s29539567.jpg', 'large': 'https://img1.doubanio.com/lpic/s29539567.jpg', 'medium': 'https://img1.doubanio.com/mpic/s29539567.jpg'}, 'alt': 'https://book.douban.com/subject/27131703/', 'id': '27131703', 'publisher': '中信出版集团', 'isbn10': '7508680235', 'isbn13': '9787508680231', 'title': '爆裂', 'url': 'https://api.douban.com/v2/book/27131703', 'alt_title': '', 'author_intro': '伊藤穰一，麻省理工学院媒体实验室主任，也是社会活动家，企业家。索尼公司、奈特基金会、约翰·D.和凯瑟琳·T.麦克阿瑟基金会、纽约时报公司、摩斯拉基金会的董事。31岁跻身《时代周刊》1997年度“网络精英”榜单。2001年被世界经济论坛评为“未来全球领袖”。2008年，《商业周刊》将其称为“网络25位最具影响力人物” 之一。2011年获牛津大学互联网研究所“终身成就奖”。杰夫·豪，美国东北大学助理教授，媒体创新项目协调人。他长期担任《连线》杂志特约编辑。2006年，他在写给该杂志的一篇文章中首次提出了“众包”这一概念。', 'summary': '越是在发生重大改变的时刻，越是会出现两极分化，赢家、输家有时只在一念间。未来已经装上了全新的操作系统。这是一个重大升级，对我们而言，随之而来的则是陡峭的学习曲线。在指数时代，替换旧逻辑，我们的思维亟需与世界对接，推翻过去已经成为大众所接受的常识，学会差异化思考才能屹立不倒，不被卷入历史的洪流。\\n在《爆裂》一书中，伊藤穰一和杰夫·豪将这一逻辑提炼为９大原则，帮助人们驾驭这一动荡时刻，应对当下的挑战。它们分别是：涌现优于权威、拉力优于推力、指南针优于地图、风险优于安全、违抗优于服从、实践优于理论、多样性优于能力、韧性优于力量以及系统优于个体。\\n麻省理工学院媒体实验室聚集了全世界的创造性人才，被誉为实现寓言的地方。《爆裂》一书则包含了非凡的案例研究和来自麻省理工学院媒体实验室等机构的前沿研究和哲学理念，它将帮助你适应这个难以预测的世界，并获得成功。\\n1、麻省理工学院媒体实验室主任伊藤穰用时四年撰写的第一部作品，将帮助你突破知识边界，颠覆传统认知，拿到应对未来的工具箱，任何不想被时代洪流卷入的个人、组织都值得阅读；2、李开复（创新工场董事长、首席执行官）、吴军（著名自然语言处理和搜索专家，硅谷风险投资人）、万维钢（物理学家、科学作者）、里德·霍夫曼（领英联合创始人）、沃尔特·艾萨克森（《史蒂夫·乔布斯传》作者）隆重推荐；3、两位作者极富远见，敏锐观察到人们思维和这个快速发挥在那的世界脱节，精辟地总结了适应未来新系统的绝佳指南，并辅以丰富的故事、分析，还有实用的建议，帮助理解。', 'ebook_price': '39.00', 'price': '65.00元'}\n"
     ]
    }
   ],
   "source": [
    "print(r)"
   ]
  },
  {
   "cell_type": "code",
   "execution_count": 48,
   "metadata": {
    "collapsed": true
   },
   "outputs": [],
   "source": [
    "url = 'https://api.douban.com/v2/movie/subject/1291546'"
   ]
  },
  {
   "cell_type": "code",
   "execution_count": 49,
   "metadata": {
    "collapsed": true
   },
   "outputs": [],
   "source": [
    "r = requests.get(url)"
   ]
  },
  {
   "cell_type": "code",
   "execution_count": 51,
   "metadata": {},
   "outputs": [
    {
     "data": {
      "text/plain": [
       "{'aka': ['再见，我的妾', 'Farewell My Concubine'],\n",
       " 'alt': 'https://movie.douban.com/subject/1291546/',\n",
       " 'casts': [{'alt': 'https://movie.douban.com/celebrity/1003494/',\n",
       "   'avatars': {'large': 'https://img1.doubanio.com/img/celebrity/large/67.jpg',\n",
       "    'medium': 'https://img1.doubanio.com/img/celebrity/medium/67.jpg',\n",
       "    'small': 'https://img1.doubanio.com/img/celebrity/small/67.jpg'},\n",
       "   'id': '1003494',\n",
       "   'name': '张国荣'},\n",
       "  {'alt': 'https://movie.douban.com/celebrity/1050265/',\n",
       "   'avatars': {'large': 'https://img3.doubanio.com/img/celebrity/large/46345.jpg',\n",
       "    'medium': 'https://img3.doubanio.com/img/celebrity/medium/46345.jpg',\n",
       "    'small': 'https://img3.doubanio.com/img/celebrity/small/46345.jpg'},\n",
       "   'id': '1050265',\n",
       "   'name': '张丰毅'},\n",
       "  {'alt': 'https://movie.douban.com/celebrity/1035641/',\n",
       "   'avatars': {'large': 'https://img1.doubanio.com/img/celebrity/large/1399268395.47.jpg',\n",
       "    'medium': 'https://img1.doubanio.com/img/celebrity/medium/1399268395.47.jpg',\n",
       "    'small': 'https://img1.doubanio.com/img/celebrity/small/1399268395.47.jpg'},\n",
       "   'id': '1035641',\n",
       "   'name': '巩俐'},\n",
       "  {'alt': 'https://movie.douban.com/celebrity/1000905/',\n",
       "   'avatars': {'large': 'https://img3.doubanio.com/img/celebrity/large/46.jpg',\n",
       "    'medium': 'https://img3.doubanio.com/img/celebrity/medium/46.jpg',\n",
       "    'small': 'https://img3.doubanio.com/img/celebrity/small/46.jpg'},\n",
       "   'id': '1000905',\n",
       "   'name': '葛优'}],\n",
       " 'collect_count': 816520,\n",
       " 'comments_count': 171539,\n",
       " 'countries': ['中国大陆', '香港'],\n",
       " 'current_season': None,\n",
       " 'directors': [{'alt': 'https://movie.douban.com/celebrity/1023040/',\n",
       "   'avatars': {'large': 'https://img3.doubanio.com/img/celebrity/large/750.jpg',\n",
       "    'medium': 'https://img3.doubanio.com/img/celebrity/medium/750.jpg',\n",
       "    'small': 'https://img3.doubanio.com/img/celebrity/small/750.jpg'},\n",
       "   'id': '1023040',\n",
       "   'name': '陈凯歌'}],\n",
       " 'do_count': None,\n",
       " 'douban_site': '',\n",
       " 'episodes_count': None,\n",
       " 'genres': ['剧情', '爱情', '同性'],\n",
       " 'id': '1291546',\n",
       " 'images': {'large': 'https://img3.doubanio.com/view/movie_poster_cover/lpst/public/p1910813120.jpg',\n",
       "  'medium': 'https://img3.doubanio.com/view/movie_poster_cover/spst/public/p1910813120.jpg',\n",
       "  'small': 'https://img3.doubanio.com/view/movie_poster_cover/ipst/public/p1910813120.jpg'},\n",
       " 'mobile_url': 'https://movie.douban.com/subject/1291546/mobile',\n",
       " 'original_title': '霸王别姬',\n",
       " 'rating': {'average': 9.5, 'max': 10, 'min': 0, 'stars': '50'},\n",
       " 'ratings_count': 646468,\n",
       " 'reviews_count': 4778,\n",
       " 'schedule_url': '',\n",
       " 'seasons_count': None,\n",
       " 'share_url': 'https://m.douban.com/movie/subject/1291546',\n",
       " 'subtype': 'movie',\n",
       " 'summary': '段小楼（张丰毅）与程蝶衣（张国荣）是一对打小一起长大的师兄弟，两人一个演生，一个饰旦，一向配合天衣无缝，尤其一出《霸王别姬》，更是誉满京城，为此，两人约定合演一辈子《霸王别姬》。但两人对戏剧与人生关系的理解有本质不同，段小楼深知戏非人生，程蝶衣则是人戏不分。\\n段小楼在认为该成家立业之时迎娶了名妓菊仙（巩俐），致使程蝶衣认定菊仙是可耻的第三者，使段小楼做了叛徒，自此，三人围绕一出《霸王别姬》生出的爱恨情仇战开始随着时代风云的变迁不断升级，终酿成悲剧。©豆瓣',\n",
       " 'title': '霸王别姬',\n",
       " 'wish_count': 74874,\n",
       " 'year': '1993'}"
      ]
     },
     "execution_count": 51,
     "metadata": {},
     "output_type": "execute_result"
    }
   ],
   "source": [
    "r.json()"
   ]
  },
  {
   "cell_type": "code",
   "execution_count": 52,
   "metadata": {
    "collapsed": true
   },
   "outputs": [],
   "source": [
    "import nltk"
   ]
  },
  {
   "cell_type": "code",
   "execution_count": 53,
   "metadata": {},
   "outputs": [
    {
     "name": "stdout",
     "output_type": "stream",
     "text": [
      "showing info https://raw.githubusercontent.com/nltk/nltk_data/gh-pages/index.xml\n"
     ]
    },
    {
     "data": {
      "text/plain": [
       "True"
      ]
     },
     "execution_count": 53,
     "metadata": {},
     "output_type": "execute_result"
    }
   ],
   "source": [
    "nltk.download()"
   ]
  },
  {
   "cell_type": "code",
   "execution_count": 54,
   "metadata": {
    "collapsed": true
   },
   "outputs": [],
   "source": [
    "from nltk.corpus import gutenberg"
   ]
  },
  {
   "cell_type": "code",
   "execution_count": 55,
   "metadata": {
    "collapsed": true
   },
   "outputs": [],
   "source": [
    "import nltk"
   ]
  },
  {
   "cell_type": "code",
   "execution_count": 56,
   "metadata": {},
   "outputs": [
    {
     "name": "stdout",
     "output_type": "stream",
     "text": [
      "['austen-emma.txt', 'austen-persuasion.txt', 'austen-sense.txt', 'bible-kjv.txt', 'blake-poems.txt', 'bryant-stories.txt', 'burgess-busterbrown.txt', 'carroll-alice.txt', 'chesterton-ball.txt', 'chesterton-brown.txt', 'chesterton-thursday.txt', 'edgeworth-parents.txt', 'melville-moby_dick.txt', 'milton-paradise.txt', 'shakespeare-caesar.txt', 'shakespeare-hamlet.txt', 'shakespeare-macbeth.txt', 'whitman-leaves.txt']\n"
     ]
    }
   ],
   "source": [
    "print(gutenbergbergbergbergbergbergbergbergbergberg.fileids())"
   ]
  },
  {
   "cell_type": "code",
   "execution_count": 58,
   "metadata": {},
   "outputs": [
    {
     "name": "stdout",
     "output_type": "stream",
     "text": [
      "       0                        1       2\n",
      "0    MMM                       3M  203.56\n",
      "1    AXP         American Express   86.14\n",
      "2   AAPL                    Apple  164.05\n",
      "3     BA                   Boeing  240.33\n",
      "4    CAT              Caterpillar  118.28\n",
      "5    CVX                  Chevron  108.76\n",
      "6   CSCO                    Cisco   32.30\n",
      "7     KO                Coca-Cola   45.78\n",
      "8    DIS                   Disney  101.50\n",
      "9    XOM              Exxon Mobil   76.57\n",
      "10    GE         General Electric   25.14\n",
      "11    GS            Goldman Sachs  225.88\n",
      "12    HD               Home Depot  150.78\n",
      "13   IBM                      IBM  144.08\n",
      "14  INTC                    Intel   35.09\n",
      "15   JNJ        Johnson & Johnson  131.03\n",
      "16   JPM           JPMorgan Chase   91.70\n",
      "17   MCD               McDonald's  159.81\n",
      "18   MRK                    Merck   63.83\n",
      "19  MSFT                Microsoft   73.94\n",
      "20   NKE                     Nike   53.36\n",
      "21   PFE                   Pfizer   33.96\n",
      "22    PG         Procter & Gamble   92.53\n",
      "23   TRV  Travelers Companies Inc  119.90\n",
      "24   UTX      United Technologies  117.92\n",
      "25   UNH             UnitedHealth  199.75\n",
      "26    VZ                  Verizon   47.92\n",
      "27     V                     Visa  103.90\n",
      "28   WMT                 Wal-Mart   78.37\n"
     ]
    }
   ],
   "source": [
    "# -*- coding: utf-8 -*-\n",
    "\"\"\"\n",
    "Get djidf\n",
    " \n",
    "@author: Dazhuang\n",
    "\"\"\"\n",
    " \n",
    "import requests\n",
    "import re\n",
    "import pandas as pd\n",
    " \n",
    "def retrieve_dji_list():\n",
    "    r = requests.get('http://money.cnn.com/data/dow30/')\n",
    "    search_pattern = re.compile('class=\"wsod_symbol\">(.*?)<\\/a>.*?<span.*?\">(.*?)<\\/span>.*?\\n.*?class=\"wsod_stream\">(.*?)<\\/span>')\n",
    "    dji_list_in_text = re.findall(search_pattern, r.text)\n",
    "    dji_list = []\n",
    "    for item in dji_list_in_text:\n",
    "        dji_list.append([item[0], item[1], float(item[2])])\n",
    "    return dji_list\n",
    " \n",
    "dji_list = retrieve_dji_list()\n",
    "djidf = pd.DataFrame(dji_list)\n",
    "print(djidf)"
   ]
  },
  {
   "cell_type": "code",
   "execution_count": null,
   "metadata": {
    "collapsed": true
   },
   "outputs": [],
   "source": []
  }
 ],
 "metadata": {
  "kernelspec": {
   "display_name": "Python 3",
   "language": "python",
   "name": "python3"
  },
  "language_info": {
   "codemirror_mode": {
    "name": "ipython",
    "version": 3
   },
   "file_extension": ".py",
   "mimetype": "text/x-python",
   "name": "python",
   "nbconvert_exporter": "python",
   "pygments_lexer": "ipython3",
   "version": "3.6.1"
  }
 },
 "nbformat": 4,
 "nbformat_minor": 2
}
