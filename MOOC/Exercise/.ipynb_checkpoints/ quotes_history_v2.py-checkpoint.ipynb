{
 "cells": [
  {
   "cell_type": "code",
   "execution_count": null,
   "metadata": {
    "collapsed": true
   },
   "outputs": [],
   "source": [
    "# -*- coding: utf-8 -*-\n",
    "\"\"\"\n",
    "Get quotesdf\n",
    " \n",
    "@author: Manny\n",
    "\"\"\"\n",
    " \n",
    "import requests\n",
    "import re\n",
    "import json\n",
    "import pandas as pd\n",
    " \n",
    "def retrieve_quotes_historical(stock_code):\n",
    "    quotes = []\n",
    "    url = 'https://finance.yahoo.com/quote/%s/history?p=%s' % (stock_code, stock_code)\n",
    "    r = requests.get(url)\n",
    "    m = re.findall('\"HistoricalPriceStore\":{\"prices\":(.*?),\"isPending\"', r.text)\n",
    "    if m:\n",
    "        quotes = json.loads(m[0])\n",
    "        quotes = quotes[::-1]\n",
    "    return  [item for item in quotes if not 'type' in item]\n",
    " \n",
    "quotes = retrieve_quotes_historical('AXP')\n",
    "quotesdf = pd.DataFrame(quotes)\n",
    "# quotesdf = quotesdf_ori.drop(['unadjclose'], axis = 1)  原先的网站数据有unadjclose列，目前已删除\n",
    "print(quotesdf)"
   ]
  },
  {
   "cell_type": "code",
   "execution_count": null,
   "metadata": {
    "collapsed": true
   },
   "outputs": [],
   "source": []
  }
 ],
 "metadata": {
  "kernelspec": {
   "display_name": "Python 3",
   "language": "python",
   "name": "python3"
  }
 },
 "nbformat": 4,
 "nbformat_minor": 2
}
