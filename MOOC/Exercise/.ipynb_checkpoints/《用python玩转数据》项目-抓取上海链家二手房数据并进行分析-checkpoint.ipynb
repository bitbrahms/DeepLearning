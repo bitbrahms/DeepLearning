{
 "cells": [
  {
   "cell_type": "markdown",
   "metadata": {},
   "source": [
    "# 一、程序功能"
   ]
  },
  {
   "cell_type": "markdown",
   "metadata": {},
   "source": [
    "爬取上海链家二手房数据，并进行分析"
   ]
  },
  {
   "cell_type": "markdown",
   "metadata": {},
   "source": [
    "# 二、数据来源"
   ]
  },
  {
   "cell_type": "markdown",
   "metadata": {},
   "source": [
    "数据集下载：http://sh.lianjia.com/ershoufang/"
   ]
  },
  {
   "cell_type": "markdown",
   "metadata": {},
   "source": [
    "数据含义：爬取的csv文件，每一行代表每一条房源的具体数据，每一列是房源相关的信息，包括：总价，面积，户型等。"
   ]
  },
  {
   "cell_type": "markdown",
   "metadata": {},
   "source": [
    "# 三、 分析和代码"
   ]
  },
  {
   "cell_type": "markdown",
   "metadata": {},
   "source": [
    "分析：爬取上海链家二手房数据，并进行数据分析，包括："
   ]
  },
  {
   "cell_type": "markdown",
   "metadata": {},
   "source": [
    "1、根据户型(一室一厅，二室一厅等)绘制户型柱状图；"
   ]
  },
  {
   "cell_type": "markdown",
   "metadata": {},
   "source": [
    "2、根据房屋面积绘制柱状图；"
   ]
  },
  {
   "cell_type": "markdown",
   "metadata": {},
   "source": [
    "3、根据房屋所在行政区，利用饼状图绘制房屋分布饼状图；"
   ]
  },
  {
   "cell_type": "markdown",
   "metadata": {},
   "source": [
    "4、根据房价，面积信息进行房源聚类分析。"
   ]
  },
  {
   "cell_type": "markdown",
   "metadata": {},
   "source": [
    "程序："
   ]
  },
  {
   "cell_type": "code",
   "execution_count": 7,
   "metadata": {},
   "outputs": [
    {
     "ename": "AssertionError",
     "evalue": "26 columns passed, passed data had 27 columns",
     "output_type": "error",
     "traceback": [
      "\u001b[1;31m---------------------------------------------------------------------------\u001b[0m",
      "\u001b[1;31mAssertionError\u001b[0m                            Traceback (most recent call last)",
      "\u001b[1;32m<ipython-input-7-4b2124d04bb4>\u001b[0m in \u001b[0;36m<module>\u001b[1;34m()\u001b[0m\n\u001b[0;32m     57\u001b[0m         \u001b[0mtime\u001b[0m\u001b[1;33m.\u001b[0m\u001b[0msleep\u001b[0m\u001b[1;33m(\u001b[0m\u001b[1;36m0.5\u001b[0m\u001b[1;33m)\u001b[0m\u001b[1;33m\u001b[0m\u001b[0m\n\u001b[0;32m     58\u001b[0m \u001b[0mcolumns\u001b[0m\u001b[1;33m=\u001b[0m\u001b[1;33m[\u001b[0m\u001b[1;34m'行政区'\u001b[0m\u001b[1;33m,\u001b[0m\u001b[1;34m'price'\u001b[0m\u001b[1;33m,\u001b[0m\u001b[1;34m'最低首付'\u001b[0m\u001b[1;33m,\u001b[0m\u001b[1;34m'参考月供'\u001b[0m\u001b[1;33m,\u001b[0m\u001b[1;34m'环线信息'\u001b[0m\u001b[1;33m,\u001b[0m\u001b[1;34m'小区名称'\u001b[0m\u001b[1;33m,\u001b[0m\u001b[1;34m'房源编号'\u001b[0m\u001b[1;33m,\u001b[0m\u001b[1;34m'房屋户型'\u001b[0m\u001b[1;33m,\u001b[0m    \u001b[1;34m'配备电梯'\u001b[0m\u001b[1;33m,\u001b[0m\u001b[1;34m'areas'\u001b[0m\u001b[1;33m,\u001b[0m\u001b[1;34m'供暖方式'\u001b[0m\u001b[1;33m,\u001b[0m\u001b[1;34m'所在楼层'\u001b[0m\u001b[1;33m,\u001b[0m\u001b[1;34m'装修情况'\u001b[0m\u001b[1;33m,\u001b[0m\u001b[1;34m'房屋朝向'\u001b[0m\u001b[1;33m,\u001b[0m\u001b[1;34m'上次交易'\u001b[0m\u001b[1;33m,\u001b[0m\u001b[1;34m'房本年限'\u001b[0m\u001b[1;33m,\u001b[0m\u001b[1;34m'售房原因'\u001b[0m\u001b[1;33m,\u001b[0m\u001b[1;34m'房屋类型'\u001b[0m\u001b[1;33m,\u001b[0m    \u001b[1;34m'挂牌均价'\u001b[0m\u001b[1;33m,\u001b[0m\u001b[1;34m'建筑年代'\u001b[0m\u001b[1;33m,\u001b[0m\u001b[1;34m'物业类型'\u001b[0m\u001b[1;33m,\u001b[0m\u001b[1;34m'楼栋总数'\u001b[0m\u001b[1;33m,\u001b[0m\u001b[1;34m'房屋总数'\u001b[0m\u001b[1;33m,\u001b[0m\u001b[1;34m'物业公司'\u001b[0m\u001b[1;33m,\u001b[0m\u001b[1;34m'开发商'\u001b[0m\u001b[1;33m,\u001b[0m\u001b[1;34m'挂牌房源'\u001b[0m\u001b[1;33m]\u001b[0m\u001b[1;33m\u001b[0m\u001b[0m\n\u001b[1;32m---> 59\u001b[1;33m \u001b[0mdf\u001b[0m\u001b[1;33m=\u001b[0m\u001b[0mpd\u001b[0m\u001b[1;33m.\u001b[0m\u001b[0mDataFrame\u001b[0m\u001b[1;33m(\u001b[0m\u001b[0minfo_total\u001b[0m\u001b[1;33m,\u001b[0m\u001b[0mcolumns\u001b[0m\u001b[1;33m=\u001b[0m\u001b[0mcolumns\u001b[0m\u001b[1;33m)\u001b[0m\u001b[1;33m\u001b[0m\u001b[0m\n\u001b[0m\u001b[0;32m     60\u001b[0m \u001b[1;31m#数据清洗\u001b[0m\u001b[1;33m\u001b[0m\u001b[1;33m\u001b[0m\u001b[0m\n\u001b[0;32m     61\u001b[0m \u001b[1;31m#删除空行\u001b[0m\u001b[1;33m\u001b[0m\u001b[1;33m\u001b[0m\u001b[0m\n",
      "\u001b[1;32m~\\workspace\\Anaconda3\\lib\\site-packages\\pandas\\core\\frame.py\u001b[0m in \u001b[0;36m__init__\u001b[1;34m(self, data, index, columns, dtype, copy)\u001b[0m\n\u001b[0;32m    312\u001b[0m                     \u001b[1;32mif\u001b[0m \u001b[0mis_named_tuple\u001b[0m\u001b[1;33m(\u001b[0m\u001b[0mdata\u001b[0m\u001b[1;33m[\u001b[0m\u001b[1;36m0\u001b[0m\u001b[1;33m]\u001b[0m\u001b[1;33m)\u001b[0m \u001b[1;32mand\u001b[0m \u001b[0mcolumns\u001b[0m \u001b[1;32mis\u001b[0m \u001b[1;32mNone\u001b[0m\u001b[1;33m:\u001b[0m\u001b[1;33m\u001b[0m\u001b[0m\n\u001b[0;32m    313\u001b[0m                         \u001b[0mcolumns\u001b[0m \u001b[1;33m=\u001b[0m \u001b[0mdata\u001b[0m\u001b[1;33m[\u001b[0m\u001b[1;36m0\u001b[0m\u001b[1;33m]\u001b[0m\u001b[1;33m.\u001b[0m\u001b[0m_fields\u001b[0m\u001b[1;33m\u001b[0m\u001b[0m\n\u001b[1;32m--> 314\u001b[1;33m                     \u001b[0marrays\u001b[0m\u001b[1;33m,\u001b[0m \u001b[0mcolumns\u001b[0m \u001b[1;33m=\u001b[0m \u001b[0m_to_arrays\u001b[0m\u001b[1;33m(\u001b[0m\u001b[0mdata\u001b[0m\u001b[1;33m,\u001b[0m \u001b[0mcolumns\u001b[0m\u001b[1;33m,\u001b[0m \u001b[0mdtype\u001b[0m\u001b[1;33m=\u001b[0m\u001b[0mdtype\u001b[0m\u001b[1;33m)\u001b[0m\u001b[1;33m\u001b[0m\u001b[0m\n\u001b[0m\u001b[0;32m    315\u001b[0m                     \u001b[0mcolumns\u001b[0m \u001b[1;33m=\u001b[0m \u001b[0m_ensure_index\u001b[0m\u001b[1;33m(\u001b[0m\u001b[0mcolumns\u001b[0m\u001b[1;33m)\u001b[0m\u001b[1;33m\u001b[0m\u001b[0m\n\u001b[0;32m    316\u001b[0m \u001b[1;33m\u001b[0m\u001b[0m\n",
      "\u001b[1;32m~\\workspace\\Anaconda3\\lib\\site-packages\\pandas\\core\\frame.py\u001b[0m in \u001b[0;36m_to_arrays\u001b[1;34m(data, columns, coerce_float, dtype)\u001b[0m\n\u001b[0;32m   5713\u001b[0m     \u001b[1;32mif\u001b[0m \u001b[0misinstance\u001b[0m\u001b[1;33m(\u001b[0m\u001b[0mdata\u001b[0m\u001b[1;33m[\u001b[0m\u001b[1;36m0\u001b[0m\u001b[1;33m]\u001b[0m\u001b[1;33m,\u001b[0m \u001b[1;33m(\u001b[0m\u001b[0mlist\u001b[0m\u001b[1;33m,\u001b[0m \u001b[0mtuple\u001b[0m\u001b[1;33m)\u001b[0m\u001b[1;33m)\u001b[0m\u001b[1;33m:\u001b[0m\u001b[1;33m\u001b[0m\u001b[0m\n\u001b[0;32m   5714\u001b[0m         return _list_to_arrays(data, columns, coerce_float=coerce_float,\n\u001b[1;32m-> 5715\u001b[1;33m                                dtype=dtype)\n\u001b[0m\u001b[0;32m   5716\u001b[0m     \u001b[1;32melif\u001b[0m \u001b[0misinstance\u001b[0m\u001b[1;33m(\u001b[0m\u001b[0mdata\u001b[0m\u001b[1;33m[\u001b[0m\u001b[1;36m0\u001b[0m\u001b[1;33m]\u001b[0m\u001b[1;33m,\u001b[0m \u001b[0mcollections\u001b[0m\u001b[1;33m.\u001b[0m\u001b[0mMapping\u001b[0m\u001b[1;33m)\u001b[0m\u001b[1;33m:\u001b[0m\u001b[1;33m\u001b[0m\u001b[0m\n\u001b[0;32m   5717\u001b[0m         return _list_of_dict_to_arrays(data, columns,\n",
      "\u001b[1;32m~\\workspace\\Anaconda3\\lib\\site-packages\\pandas\\core\\frame.py\u001b[0m in \u001b[0;36m_list_to_arrays\u001b[1;34m(data, columns, coerce_float, dtype)\u001b[0m\n\u001b[0;32m   5792\u001b[0m         \u001b[0mcontent\u001b[0m \u001b[1;33m=\u001b[0m \u001b[0mlist\u001b[0m\u001b[1;33m(\u001b[0m\u001b[0mlib\u001b[0m\u001b[1;33m.\u001b[0m\u001b[0mto_object_array\u001b[0m\u001b[1;33m(\u001b[0m\u001b[0mdata\u001b[0m\u001b[1;33m)\u001b[0m\u001b[1;33m.\u001b[0m\u001b[0mT\u001b[0m\u001b[1;33m)\u001b[0m\u001b[1;33m\u001b[0m\u001b[0m\n\u001b[0;32m   5793\u001b[0m     return _convert_object_array(content, columns, dtype=dtype,\n\u001b[1;32m-> 5794\u001b[1;33m                                  coerce_float=coerce_float)\n\u001b[0m\u001b[0;32m   5795\u001b[0m \u001b[1;33m\u001b[0m\u001b[0m\n\u001b[0;32m   5796\u001b[0m \u001b[1;33m\u001b[0m\u001b[0m\n",
      "\u001b[1;32m~\\workspace\\Anaconda3\\lib\\site-packages\\pandas\\core\\frame.py\u001b[0m in \u001b[0;36m_convert_object_array\u001b[1;34m(content, columns, coerce_float, dtype)\u001b[0m\n\u001b[0;32m   5851\u001b[0m             \u001b[1;31m# caller's responsibility to check for this...\u001b[0m\u001b[1;33m\u001b[0m\u001b[1;33m\u001b[0m\u001b[0m\n\u001b[0;32m   5852\u001b[0m             raise AssertionError('%d columns passed, passed data had %s '\n\u001b[1;32m-> 5853\u001b[1;33m                                  'columns' % (len(columns), len(content)))\n\u001b[0m\u001b[0;32m   5854\u001b[0m \u001b[1;33m\u001b[0m\u001b[0m\n\u001b[0;32m   5855\u001b[0m     \u001b[1;31m# provide soft conversion of object dtypes\u001b[0m\u001b[1;33m\u001b[0m\u001b[1;33m\u001b[0m\u001b[0m\n",
      "\u001b[1;31mAssertionError\u001b[0m: 26 columns passed, passed data had 27 columns"
     ]
    }
   ],
   "source": [
    "# -*- coding: utf-8 -*-\n",
    "\"\"\"\n",
    "Created on Mon Nov 20 22:42:45 2017\n",
    "\n",
    "@author: manny\n",
    "\n",
    "爬取上海链家二手房信息，并进行数据分析，程序主要包括如下内容：\n",
    "#1爬取数据\n",
    "#2#户型绘制柱状图\n",
    "#3面积绘制柱状图\n",
    "#4房屋分布饼状图\n",
    "#5 房源聚类分析\n",
    "\"\"\"\n",
    "\n",
    "import requests\n",
    "from bs4 import BeautifulSoup\n",
    "import numpy as np\n",
    "import pandas as pd\n",
    "import matplotlib.pyplot as plt\n",
    "import time\n",
    "import re\n",
    "from sklearn.cluster import KMeans\n",
    "\n",
    "######数据获取################################\n",
    "#############################################\n",
    "#设置headers信息\n",
    "headers = {'User-Agent':'Mozilla/5.0 (Windows NT 6.1) \\\n",
    "AppleWebKit/537.11 (KHTML, like Gecko) Chrome/23.0.1271.64 Safari/537.11'}\n",
    "#主域名\n",
    "domain='http://sh.lianjia.com'\n",
    "#存放信息的列表\n",
    "info_total=[]\n",
    "#爬取总页数\n",
    "for i in range(1,100):\n",
    "    #爬取拼接域名\n",
    "    res=requests.get('http://sh.lianjia.com/ershoufang/d'+str(i),headers=headers)\n",
    "    #使用lxml筛选器\n",
    "    soup = BeautifulSoup(res.text,'lxml')\n",
    "    #网站每页呈现30条数据，循环爬取\n",
    "    for j in range(0,30):\n",
    "        url1=soup.select('.prop-title a')[j]['href']\n",
    "        #构造子域名\n",
    "        url=domain+url1\n",
    "        pi=[]\n",
    "        a=[soup.select('.info-col a')[1+3*j].get_text()]\n",
    "        res_sub=requests.get(url,headers=headers)\n",
    "        soup_sub=BeautifulSoup(res_sub.text,'lxml')\n",
    "        d=re.findall(re.compile('span class=\"price-num\">(.*?)</span>'),res_sub.text)\n",
    "        pi=pi+a+d\n",
    "        #print(pi)\n",
    "        c=soup_sub.find_all(lambda tag: tag.name=='span' and tag.get('class')==['item-cell'])\n",
    "        for b in c:\n",
    "            pi.append(b.get_text(strip=True))\n",
    "        if len(pi) > 26:\n",
    "            for i in range(0,3):\n",
    "                pi.pop(18)\n",
    "        info_total.append(pi)\n",
    "        time.sleep(5)\n",
    "columns=['行政区','price','最低首付','参考月供','环线信息','小区名称','房源编号','房屋户型',\\\n",
    "    '配备电梯','areas','供暖方式','所在楼层','装修情况','房屋朝向','上次交易','房本年限','售房原因','房屋类型',\\\n",
    "    '挂牌均价','建筑年代','物业类型','楼栋总数','房屋总数','物业公司','开发商','挂牌房源']\n",
    "df=pd.DataFrame(info_total,columns=columns)\n",
    "#数据清洗\n",
    "#删除空行\n",
    "df=df.dropna(axis=0)\n",
    "#删除无效数据\n",
    "ex_list1=list(df.areas)\n",
    "ex_list=[]\n",
    "for i in ex_list1:\n",
    "    if(i != \"暂无数据\"):\n",
    "        ex_list.append(i)\n",
    "df=df[df.areas.isin(ex_list)]\n",
    "#原始数据保存\n",
    "df.to_csv('data_sh.csv',encoding='utf-8-sig')\n",
    "\n",
    "\n",
    "######数据分析################################\n",
    "###############################################\n",
    "#1#户型绘制柱状图\n",
    "df=pd.read_csv('data_sh.csv')\n",
    "#按房源户型类别进行汇总\n",
    "huxing=df.groupby('房屋户型')['房屋户型'].agg(len)\n",
    "#房源户型分布绘图\n",
    "plt.rc('font', family='STXihei', size=15)\n",
    "huxing.plot(kind='barh', color='#052B6C', alpha=0.8,\n",
    "            align='center', edgecolor='white')\n",
    "plt.grid(color='#95a5a6', linestyle='--', linewidth=1, axis='y', alpha=0.4)\n",
    "plt.xlabel('数量')\n",
    "plt.ylabel('户型')\n",
    "plt.title('房型数量分布')\n",
    "plt.legend(['数量'], loc='upper right')\n",
    "plt.show()\n",
    "\n",
    "\n",
    "#2面积绘制柱状图\n",
    "#对房源面积进行二次分列\n",
    "#mianji_num_split = pd.DataFrame(df.areas.split('平'),index=df.index,columns=['area','平方米'])\n",
    "mianji_num_split = pd.DataFrame((x.split('平') for x in df.areas),index=df.index,columns=['area','平方米'])\n",
    "#将分列后的房源面积拼接回原数据表\n",
    "df = pd.merge(df,mianji_num_split,right_index=True,left_index=True)\n",
    "df['area'] = df['area'].map(str.strip)\n",
    "# 更改mianji_num字段格式为float\n",
    "df['area'] = df['area'].astype(float)\n",
    "# 查看所有房源面积的范围值\n",
    "# print(house['mianji_num'].min(),house['mianji_num'].max())\n",
    "# 对房源面积进行分组\n",
    "bins = [0, 50, 100, 150, 200, 250, 300, 350]\n",
    "group_mianji = ['0-50', '50-100', '100-150','150-200', '200-250', '250-300', '300-350']\n",
    "df['group_mianji'] = pd.cut(df['area'], bins, labels=group_mianji)\n",
    "# 按房源面积分组对房源数量进行汇总\n",
    "group_mianji = df.groupby('group_mianji')['group_mianji'].agg(len)\n",
    "#绘制房源面积分布图\n",
    "plt.rc('font', family='STXihei', size=15)\n",
    "group_mianji.plot(kind='barh', color='#052B6C', alpha=0.8,align='center', edgecolor='white')\n",
    "plt.xlabel('数量')\n",
    "plt.ylabel('面积范围')\n",
    "plt.title('房屋面积分布')\n",
    "plt.legend(['数目'], loc='upper right')\n",
    "plt.grid(color='#95a5a6', linestyle='--', linewidth=1, axis='y', alpha=0.4)\n",
    "plt.show()\n",
    "\n",
    "#3房屋分布饼状图\n",
    "#按行政区进行划分\n",
    "quyu=df.groupby('行政区')['行政区'].agg(len)\n",
    "quyu.plot(kind='pie',autopct='%2.0f%%',labeldistance=1.1)\n",
    "plt.show()\n",
    "\n",
    "\n",
    "#4 房源聚类分析\n",
    "# 使用房源总价，面积和关注度三个字段进行聚类\n",
    "house_type = np.array(df[['price', 'area']])\n",
    "# 设置质心数量为3\n",
    "clf = KMeans(n_clusters=3)\n",
    "# 计算聚类结果\n",
    "clf = clf.fit(house_type)\n",
    "# 查看分类结果的中心坐标\n",
    "center = pd.DataFrame(clf.cluster_centers_, columns=['房价', '面积'])\n",
    "# 在原数据表中标注所属类别\n",
    "df['label'] = clf.labels_\n",
    "print(df.label)\n",
    "\n",
    "\n",
    "###保存数据\n",
    "df.to_csv('data_sh_final.csv',encoding='utf-8-sig')"
   ]
  },
  {
   "cell_type": "code",
   "execution_count": null,
   "metadata": {
    "collapsed": true
   },
   "outputs": [],
   "source": []
  }
 ],
 "metadata": {
  "kernelspec": {
   "display_name": "Python 3",
   "language": "python",
   "name": "python3"
  },
  "language_info": {
   "codemirror_mode": {
    "name": "ipython",
    "version": 3
   },
   "file_extension": ".py",
   "mimetype": "text/x-python",
   "name": "python",
   "nbconvert_exporter": "python",
   "pygments_lexer": "ipython3",
   "version": "3.6.1"
  }
 },
 "nbformat": 4,
 "nbformat_minor": 2
}
