{
 "cells": [
  {
   "cell_type": "code",
   "execution_count": null,
   "metadata": {
    "collapsed": true
   },
   "outputs": [],
   "source": [
    "# -*- coding: utf-8 -*-\n",
    "\"\"\"\n",
    "Get djidf\n",
    " \n",
    "@author: Dazhuang\n",
    "\"\"\"\n",
    " \n",
    "import requests\n",
    "import re\n",
    "import pandas as pd\n",
    " \n",
    "def retrieve_dji_list():\n",
    "    r = requests.get('http://money.cnn.com/data/dow30/')\n",
    "    search_pattern = re.compile('class=\"wsod_symbol\">(.*?)<\\/a>.*?<span.*?\">(.*?)<\\/span>.*?\\n.*?class=\"wsod_stream\">(.*?)<\\/span>')\n",
    "    dji_list_in_text = re.findall(search_pattern, r.text)\n",
    "    dji_list = []\n",
    "    for item in dji_list_in_text:\n",
    "        dji_list.append([item[0], item[1], float(item[2])])\n",
    "    return dji_list\n",
    " \n",
    "dji_list = retrieve_dji_list()\n",
    "djidf = pd.DataFrame(dji_list)\n",
    "cols = ['code', 'name', 'lasttrade']\n",
    "djidf.columns = cols\n",
    "print(djidf)"
   ]
  },
  {
   "cell_type": "code",
   "execution_count": null,
   "metadata": {
    "collapsed": true
   },
   "outputs": [],
   "source": []
  }
 ],
 "metadata": {
  "kernelspec": {
   "display_name": "Python 3",
   "language": "python",
   "name": "python3"
  },
  "language_info": {
   "codemirror_mode": {
    "name": "ipython",
    "version": 3
   },
   "file_extension": ".py",
   "mimetype": "text/x-python",
   "name": "python",
   "nbconvert_exporter": "python",
   "pygments_lexer": "ipython3",
   "version": "3.6.2"
  }
 },
 "nbformat": 4,
 "nbformat_minor": 2
}
