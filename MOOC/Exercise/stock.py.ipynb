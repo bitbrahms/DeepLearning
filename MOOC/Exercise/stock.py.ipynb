{
 "cells": [
  {
   "cell_type": "code",
   "execution_count": 2,
   "metadata": {},
   "outputs": [
    {
     "name": "stdout",
     "output_type": "stream",
     "text": [
      "[('MMM', '3M', '203.56'), ('AXP', 'American Express', '86.14'), ('AAPL', 'Apple', '164.05'), ('BA', 'Boeing', '240.33'), ('CAT', 'Caterpillar', '118.28'), ('CVX', 'Chevron', '108.76'), ('CSCO', 'Cisco', '32.30'), ('KO', 'Coca-Cola', '45.78'), ('DIS', 'Disney', '101.50'), ('XOM', 'Exxon Mobil', '76.57'), ('GE', 'General Electric', '25.14'), ('GS', 'Goldman Sachs', '225.88'), ('HD', 'Home Depot', '150.78'), ('IBM', 'IBM', '144.08'), ('INTC', 'Intel', '35.09'), ('JNJ', 'Johnson & Johnson', '131.03'), ('JPM', 'JPMorgan Chase', '91.70'), ('MCD', \"McDonald's\", '159.81'), ('MRK', 'Merck', '63.83'), ('MSFT', 'Microsoft', '73.94'), ('NKE', 'Nike', '53.36'), ('PFE', 'Pfizer', '33.96'), ('PG', 'Procter & Gamble', '92.53'), ('TRV', 'Travelers Companies Inc', '119.90'), ('UTX', 'United Technologies', '117.92'), ('UNH', 'UnitedHealth', '199.75'), ('VZ', 'Verizon', '47.92'), ('V', 'Visa', '103.90'), ('WMT', 'Wal-Mart', '78.37')]\n",
      "    code                     name  lasttrade\n",
      "0    MMM                       3M     203.56\n",
      "1    AXP         American Express      86.14\n",
      "2   AAPL                    Apple     164.05\n",
      "3     BA                   Boeing     240.33\n",
      "4    CAT              Caterpillar     118.28\n",
      "5    CVX                  Chevron     108.76\n",
      "6   CSCO                    Cisco      32.30\n",
      "7     KO                Coca-Cola      45.78\n",
      "8    DIS                   Disney     101.50\n",
      "9    XOM              Exxon Mobil      76.57\n",
      "10    GE         General Electric      25.14\n",
      "11    GS            Goldman Sachs     225.88\n",
      "12    HD               Home Depot     150.78\n",
      "13   IBM                      IBM     144.08\n",
      "14  INTC                    Intel      35.09\n",
      "15   JNJ        Johnson & Johnson     131.03\n",
      "16   JPM           JPMorgan Chase      91.70\n",
      "17   MCD               McDonald's     159.81\n",
      "18   MRK                    Merck      63.83\n",
      "19  MSFT                Microsoft      73.94\n",
      "20   NKE                     Nike      53.36\n",
      "21   PFE                   Pfizer      33.96\n",
      "22    PG         Procter & Gamble      92.53\n",
      "23   TRV  Travelers Companies Inc     119.90\n",
      "24   UTX      United Technologies     117.92\n",
      "25   UNH             UnitedHealth     199.75\n",
      "26    VZ                  Verizon      47.92\n",
      "27     V                     Visa     103.90\n",
      "28   WMT                 Wal-Mart      78.37\n"
     ]
    }
   ],
   "source": [
    "# -*- coding: utf-8 -*-\n",
    " \n",
    "import requests\n",
    "import re\n",
    "import pandas as pd\n",
    " \n",
    "def retrieve_dji_list():\n",
    "    r = requests.get('http://money.cnn.com/data/dow30/')\n",
    "    search_pattern = re.compile('class=\"wsod_symbol\">(.*?)<\\/a>.*?<span.*?\">(.*?)<\\/span>.*?\\n.*?class=\"wsod_stream\">(.*?)<\\/span>')\n",
    "    dji_list_in_text = re.findall(search_pattern, r.text)\n",
    "    print(dji_list_in_text)\n",
    "    dji_list = []\n",
    "    for item in dji_list_in_text:\n",
    "        dji_list.append([item[0], item[1], float(item[2])])\n",
    "    return dji_list\n",
    " \n",
    "dji_list = retrieve_dji_list()\n",
    "djidf = pd.DataFrame(dji_list)\n",
    "cols = ['code', 'name', 'lasttrade']\n",
    "djidf.columns = cols\n",
    "print(djidf)"
   ]
  },
  {
   "cell_type": "code",
   "execution_count": null,
   "metadata": {
    "collapsed": true
   },
   "outputs": [],
   "source": []
  }
 ],
 "metadata": {
  "kernelspec": {
   "display_name": "Python 3",
   "language": "python",
   "name": "python3"
  },
  "language_info": {
   "codemirror_mode": {
    "name": "ipython",
    "version": 3
   },
   "file_extension": ".py",
   "mimetype": "text/x-python",
   "name": "python",
   "nbconvert_exporter": "python",
   "pygments_lexer": "ipython3",
   "version": "3.6.2"
  }
 },
 "nbformat": 4,
 "nbformat_minor": 2
}
