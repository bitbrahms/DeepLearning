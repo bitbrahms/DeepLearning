{
 "cells": [
  {
   "cell_type": "markdown",
   "metadata": {},
   "source": [
    "# 第三章 概率与信息论"
   ]
  },
  {
   "cell_type": "markdown",
   "metadata": {},
   "source": [
    "不确定性有三种可能的来源："
   ]
  },
  {
   "cell_type": "markdown",
   "metadata": {},
   "source": [
    "**被建模系统内在的随机性**。例如，大多数量子力学的解释，都将亚原子粒子的\n",
    "动力学描述为概率的。我们还可以创建一些我们假设具有随机动态的理论情境，\n",
    "例如一个假想的纸牌游戏，在这个游戏中我们假设纸牌真正混洗成了随机顺序。"
   ]
  },
  {
   "cell_type": "markdown",
   "metadata": {},
   "source": [
    "**不完全观测**。即使是确定的系统，当我们不能观测到所有驱动系统行为的变量\n",
    "时，该系统也会呈现随机性。例如，在 Monty Hall 问题中，一个游戏节目的参\n",
    "赛者被要求在三个门之间选择并且赢得放置在选中门后的奖金。两扇门通向山\n",
    "羊，第三扇门通向一辆汽车。选手选择所导致的结果是确定的，但是站在选手\n",
    "的角度，结果是不确定的。"
   ]
  },
  {
   "cell_type": "markdown",
   "metadata": {},
   "source": [
    "**不完全建模**。当我们使用一些必须舍弃某些观测信息的模型时，舍弃的信息会\n",
    "导致模型的预测出现不确定性。例如，假设我们制作了一个机器人，它可以准\n",
    "确地观察周围每一个对象的位置。如果预测这些对象将来的位置时机器人采用\n",
    "的是离散化的空间，那么离散化使得机器人立即变得不能确定对象的精确位置："
   ]
  },
  {
   "cell_type": "markdown",
   "metadata": {},
   "source": [
    "直接与事件发生的频率相联系，被称为**频率派概率**（frequentist probability）；而后者，涉及到确定性水平，称为**贝叶斯概率**（Bayesian probability）。"
   ]
  },
  {
   "cell_type": "markdown",
   "metadata": {},
   "source": [
    "**贝叶斯规则**"
   ]
  },
  {
   "cell_type": "markdown",
   "metadata": {},
   "source": [
    "P(x|y)=$\\frac{P(x)P(y|x)}{p(y)}$"
   ]
  },
  {
   "cell_type": "markdown",
   "metadata": {},
   "source": []
  },
  {
   "cell_type": "markdown",
   "metadata": {},
   "source": []
  },
  {
   "cell_type": "markdown",
   "metadata": {},
   "source": []
  },
  {
   "cell_type": "markdown",
   "metadata": {},
   "source": []
  },
  {
   "cell_type": "markdown",
   "metadata": {},
   "source": []
  },
  {
   "cell_type": "markdown",
   "metadata": {},
   "source": []
  },
  {
   "cell_type": "markdown",
   "metadata": {},
   "source": []
  },
  {
   "cell_type": "markdown",
   "metadata": {},
   "source": []
  },
  {
   "cell_type": "markdown",
   "metadata": {},
   "source": []
  },
  {
   "cell_type": "markdown",
   "metadata": {},
   "source": []
  },
  {
   "cell_type": "markdown",
   "metadata": {},
   "source": []
  }
 ],
 "metadata": {
  "kernelspec": {
   "display_name": "Python 3",
   "language": "python",
   "name": "python3"
  },
  "language_info": {
   "codemirror_mode": {
    "name": "ipython",
    "version": 3
   },
   "file_extension": ".py",
   "mimetype": "text/x-python",
   "name": "python",
   "nbconvert_exporter": "python",
   "pygments_lexer": "ipython3",
   "version": "3.6.1"
  }
 },
 "nbformat": 4,
 "nbformat_minor": 2
}
