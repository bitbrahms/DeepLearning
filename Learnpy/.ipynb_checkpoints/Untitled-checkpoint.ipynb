{
 "cells": [
  {
   "cell_type": "code",
   "execution_count": 21,
   "metadata": {},
   "outputs": [
    {
     "name": "stdout",
     "output_type": "stream",
     "text": [
      "['d', 'e', 'h', 'l', 'o', 'r', 'w']\n",
      "['d', 'h', 'o', 'u', 'w', 'y']\n",
      "['e', 'n', 'o']\n",
      "['o', 'p', 's']\n",
      "['a', 'o']\n",
      "['a', 'b', 'e']\n",
      "Start the long test\n",
      "['a', 'b']\n",
      "The local tests are done.\n",
      "asdfasfsafsasf1111111111111111\n",
      "['a', 'd', 'f', 's']\n",
      "s\n"
     ]
    }
   ],
   "source": [
    "def checkio(text):\n",
    "    text = list(text.lower())\n",
    "    text_list = []\n",
    "    [text_list.append(i) for i in text if i>='a' and i<='z']\n",
    "    #[text.remove(i) for i in text if i in ',!.?\"']\n",
    "    text_dict = {}\n",
    "    for i in text_list:\n",
    "        if i not in text_dict:\n",
    "            text_dict[i] = 1\n",
    "        else:\n",
    "            text_dict[i] += 1\n",
    "    text_list = sorted(text_dict.keys())\n",
    "    print(text_list)\n",
    "    #return text_list[0][0]\n",
    "    num = 0\n",
    "    for i in text_list:\n",
    "        if text_dict[i] > num:\n",
    "            num = text_dict[i]\n",
    "            letter = i\n",
    "    return letter\n",
    "    \n",
    "if __name__ == '__main__':\n",
    "    #These \"asserts\" using only for self-checking and not necessary for auto-testing\n",
    "    assert checkio(\"Hello World!\") == \"l\", \"Hello test\"\n",
    "    assert checkio(\"How do you do?\") == \"o\", \"O is most wanted\"\n",
    "    assert checkio(\"One\") == \"e\", \"All letter only once.\"\n",
    "    assert checkio(\"Oops!\") == \"o\", \"Don't forget about lower case.\"\n",
    "    assert checkio(\"AAaooo!!!!\") == \"a\", \"Only letters.\"\n",
    "    assert checkio(\"abe\") == \"a\", \"The First.\"\n",
    "    print(\"Start the long test\")\n",
    "    assert checkio(\"a\" * 9000 + \"b\" * 1000) == \"a\", \"Long.\"\n",
    "    print(\"The local tests are done.\")\n",
    "    print(checkio(input()))"
   ]
  },
  {
   "cell_type": "code",
   "execution_count": 13,
   "metadata": {
    "collapsed": true
   },
   "outputs": [],
   "source": [
    "a= [('l', 3), ('o', 2), ('h', 1), ('e', 1), ('w', 1), ('r', 1), ('d', 1)]"
   ]
  },
  {
   "cell_type": "code",
   "execution_count": 14,
   "metadata": {},
   "outputs": [
    {
     "data": {
      "text/plain": [
       "list"
      ]
     },
     "execution_count": 14,
     "metadata": {},
     "output_type": "execute_result"
    }
   ],
   "source": [
    "type(a)"
   ]
  },
  {
   "cell_type": "code",
   "execution_count": 16,
   "metadata": {},
   "outputs": [
    {
     "data": {
      "text/plain": [
       "'l'"
      ]
     },
     "execution_count": 16,
     "metadata": {},
     "output_type": "execute_result"
    }
   ],
   "source": [
    "a[0][0]"
   ]
  },
  {
   "cell_type": "code",
   "execution_count": 22,
   "metadata": {
    "collapsed": true
   },
   "outputs": [],
   "source": [
    "a = 'asdfasfsafsasf1111111111111111'"
   ]
  },
  {
   "cell_type": "code",
   "execution_count": 23,
   "metadata": {
    "collapsed": true
   },
   "outputs": [],
   "source": [
    "a = list(a)"
   ]
  },
  {
   "cell_type": "code",
   "execution_count": 30,
   "metadata": {},
   "outputs": [
    {
     "data": {
      "text/plain": [
       "1"
      ]
     },
     "execution_count": 30,
     "metadata": {},
     "output_type": "execute_result"
    }
   ],
   "source": []
  },
  {
   "cell_type": "code",
   "execution_count": 32,
   "metadata": {},
   "outputs": [
    {
     "name": "stdout",
     "output_type": "stream",
     "text": [
      "It is all good. Let's check it now\n",
      "asfasfaf1213\n",
      "['a', 's', 'f', 'a', 's', 'f', 'a', 'f', '1', '1']\n"
     ]
    }
   ],
   "source": [
    "def checkio(data):\n",
    "    data = list(data)\n",
    "    data_list = []\n",
    "    for i in data:\n",
    "        if data.count(i) > 1:\n",
    "            data_list.append(i)    \n",
    "    return data_list\n",
    "\n",
    "#Some hints\n",
    "#You can use list.count(element) method for counting.\n",
    "#Create new list with non-unique elements\n",
    "#Loop over original list\n",
    "\n",
    "\n",
    "if __name__ == \"__main__\":\n",
    "    #These \"asserts\" using only for self-checking and not necessary for auto-testing\n",
    "    assert list(checkio([1, 2, 3, 1, 3])) == [1, 3, 1, 3], \"1st example\"\n",
    "    assert list(checkio([1, 2, 3, 4, 5])) == [], \"2nd example\"\n",
    "    assert list(checkio([5, 5, 5, 5, 5])) == [5, 5, 5, 5, 5], \"3rd example\"\n",
    "    assert list(checkio([10, 9, 10, 10, 9, 8])) == [10, 9, 10, 10, 9], \"4th example\"\n",
    "    print(\"It is all good. Let's check it now\")\n",
    "    print(checkio(input()))"
   ]
  },
  {
   "cell_type": "code",
   "execution_count": 33,
   "metadata": {
    "collapsed": true
   },
   "outputs": [],
   "source": [
    "a='123123123'"
   ]
  },
  {
   "cell_type": "code",
   "execution_count": 41,
   "metadata": {},
   "outputs": [
    {
     "ename": "AssertionError",
     "evalue": "1st example",
     "output_type": "error",
     "traceback": [
      "\u001b[1;31m---------------------------------------------------------------------------\u001b[0m",
      "\u001b[1;31mAssertionError\u001b[0m                            Traceback (most recent call last)",
      "\u001b[1;32m<ipython-input-41-1a56446e59e4>\u001b[0m in \u001b[0;36m<module>\u001b[1;34m()\u001b[0m\n\u001b[0;32m     15\u001b[0m \u001b[1;32mif\u001b[0m \u001b[0m__name__\u001b[0m \u001b[1;33m==\u001b[0m \u001b[1;34m'__main__'\u001b[0m\u001b[1;33m:\u001b[0m\u001b[1;33m\u001b[0m\u001b[0m\n\u001b[0;32m     16\u001b[0m     \u001b[1;31m#These \"asserts\" using only for self-checking and not necessary for auto-testing\u001b[0m\u001b[1;33m\u001b[0m\u001b[1;33m\u001b[0m\u001b[0m\n\u001b[1;32m---> 17\u001b[1;33m     \u001b[1;32massert\u001b[0m \u001b[0mcheckio\u001b[0m\u001b[1;33m(\u001b[0m\u001b[1;34m'a1213pokl'\u001b[0m\u001b[1;33m)\u001b[0m \u001b[1;33m==\u001b[0m \u001b[1;32mFalse\u001b[0m\u001b[1;33m,\u001b[0m \u001b[1;34m\"1st example\"\u001b[0m\u001b[1;33m\u001b[0m\u001b[0m\n\u001b[0m\u001b[0;32m     18\u001b[0m     \u001b[1;32massert\u001b[0m \u001b[0mcheckio\u001b[0m\u001b[1;33m(\u001b[0m\u001b[1;34m'bAse730onE4'\u001b[0m\u001b[1;33m)\u001b[0m \u001b[1;33m==\u001b[0m \u001b[1;32mTrue\u001b[0m\u001b[1;33m,\u001b[0m \u001b[1;34m\"2nd example\"\u001b[0m\u001b[1;33m\u001b[0m\u001b[0m\n\u001b[0;32m     19\u001b[0m     \u001b[1;32massert\u001b[0m \u001b[0mcheckio\u001b[0m\u001b[1;33m(\u001b[0m\u001b[1;34m'asasasasasasasaas'\u001b[0m\u001b[1;33m)\u001b[0m \u001b[1;33m==\u001b[0m \u001b[1;32mFalse\u001b[0m\u001b[1;33m,\u001b[0m \u001b[1;34m\"3rd example\"\u001b[0m\u001b[1;33m\u001b[0m\u001b[0m\n",
      "\u001b[1;31mAssertionError\u001b[0m: 1st example"
     ]
    }
   ],
   "source": [
    "def checkio(data):\n",
    "    import re\n",
    "    if len(data) < 10:\n",
    "        return True\n",
    "    else:\n",
    "        import re\n",
    "        if re.search('[a-z]',data) and re.search('[A-Z]',data) and re.search('[0-9]',data):\n",
    "            return True\n",
    "    return False\n",
    "\n",
    "#Some hints\n",
    "#Just check all conditions\n",
    "\n",
    "\n",
    "if __name__ == '__main__':\n",
    "    #These \"asserts\" using only for self-checking and not necessary for auto-testing\n",
    "    assert checkio('a1213pokl') == False, \"1st example\"\n",
    "    assert checkio('bAse730onE4') == True, \"2nd example\"\n",
    "    assert checkio('asasasasasasasaas') == False, \"3rd example\"\n",
    "    assert checkio('QWERTYqwerty') == False, \"4th example\"\n",
    "    assert checkio('123456123456') == False, \"5th example\"\n",
    "    assert checkio('QwErTy911poqqqq') == True, \"6th example\"\n",
    "    print(\"Coding complete? Click 'Check' to review your tests and earn cool rewards!\")"
   ]
  },
  {
   "cell_type": "code",
   "execution_count": 39,
   "metadata": {},
   "outputs": [],
   "source": [
    "import re\n",
    "if re.search('[a-z]','111'):\n",
    "    print(True)"
   ]
  },
  {
   "cell_type": "code",
   "execution_count": 61,
   "metadata": {},
   "outputs": [
    {
     "name": "stdout",
     "output_type": "stream",
     "text": [
      "Coding complete? Click 'Check' to review your tests and earn cool rewards!\n"
     ]
    }
   ],
   "source": [
    "def count_words(text, words):\n",
    "    text = text.lower()\n",
    "    import re\n",
    "    num = 0\n",
    "    for i in words:\n",
    "        if re.search(i.lower(), text):\n",
    "            num += 1\n",
    "    return num\n",
    "\n",
    "\n",
    "if __name__ == '__main__':\n",
    "    #These \"asserts\" using only for self-checking and not necessary for auto-testing\n",
    "    assert count_words(\"How aresjfhdskfhskd you?\", {\"how\", \"are\", \"you\", \"hello\"}) == 3, \"Example\"\n",
    "    assert count_words(\"Bananas, give me bananas!!!\", {\"banana\", \"bananas\"}) == 2, \"BANANAS!\"\n",
    "    assert count_words(\"Lorem ipsum dolor sit amet, consectetuer adipiscing elit.\",\n",
    "                       {\"sum\", \"hamlet\", \"infinity\", \"anything\"}) == 1, \"Weird text\"\n",
    "    print(\"Coding complete? Click 'Check' to review your tests and earn cool rewards!\")"
   ]
  },
  {
   "cell_type": "code",
   "execution_count": 45,
   "metadata": {
    "collapsed": true
   },
   "outputs": [],
   "source": [
    "import re"
   ]
  },
  {
   "cell_type": "code",
   "execution_count": 46,
   "metadata": {
    "collapsed": true
   },
   "outputs": [],
   "source": [
    "text =\"How aresjfhdskfhskd you\""
   ]
  },
  {
   "cell_type": "code",
   "execution_count": 59,
   "metadata": {},
   "outputs": [
    {
     "name": "stdout",
     "output_type": "stream",
     "text": [
      "how\n",
      "True\n",
      "you\n",
      "True\n",
      "are\n",
      "True\n"
     ]
    }
   ],
   "source": [
    "for i in {\"how\", \"are\", \"you\", \"hello\"}:\n",
    "    if re.search(i.lower(),text.lower()):\n",
    "        print(i)\n",
    "        print(True)"
   ]
  },
  {
   "cell_type": "code",
   "execution_count": 62,
   "metadata": {},
   "outputs": [
    {
     "data": {
      "text/plain": [
       "3"
      ]
     },
     "execution_count": 62,
     "metadata": {},
     "output_type": "execute_result"
    }
   ],
   "source": [
    "def checkio(game_result):\n",
    "    for i in range(3):\n",
    "        if game_result[i][0] == ame_result[i][1] == ame_result[i][2]:\n",
    "            return game_result[i][0]\n",
    "        elif game_result[0][i] == game_result[1][i] == game_result[2][i]:\n",
    "                return game_result[0][i]\n",
    "        elif game_result[]\n",
    "    return \"D\" or \"X\" or \"O\"\n",
    "\n",
    "if __name__ == '__main__':\n",
    "    #These \"asserts\" using only for self-checking and not necessary for auto-testing\n",
    "    assert checkio([\n",
    "        \"X.O\",\n",
    "        \"XX.\",\n",
    "        \"XOO\"]) == \"X\", \"Xs wins\"\n",
    "    assert checkio([\n",
    "        \"OO.\",\n",
    "        \"XOX\",\n",
    "        \"XOX\"]) == \"O\", \"Os wins\"\n",
    "    assert checkio([\n",
    "        \"OOX\",\n",
    "        \"XXO\",\n",
    "        \"OXX\"]) == \"D\", \"Draw\"\n",
    "    assert checkio([\n",
    "        \"O.X\",\n",
    "        \"XX.\",\n",
    "        \"XOO\"]) == \"X\", \"Xs wins again\"\n",
    "    print(\"Coding complete? Click 'Check' to review your tests and earn cool rewards!\")"
   ]
  },
  {
   "cell_type": "code",
   "execution_count": 65,
   "metadata": {},
   "outputs": [
    {
     "name": "stdout",
     "output_type": "stream",
     "text": [
      ".\n"
     ]
    }
   ],
   "source": [
    "a = [\"X.O\",\"XX.\",\"XOO\"]\n",
    "print(a[0][1])"
   ]
  },
  {
   "cell_type": "code",
   "execution_count": null,
   "metadata": {
    "collapsed": true
   },
   "outputs": [],
   "source": []
  }
 ],
 "metadata": {
  "kernelspec": {
   "display_name": "Python 3",
   "language": "python",
   "name": "python3"
  },
  "language_info": {
   "codemirror_mode": {
    "name": "ipython",
    "version": 3
   },
   "file_extension": ".py",
   "mimetype": "text/x-python",
   "name": "python",
   "nbconvert_exporter": "python",
   "pygments_lexer": "ipython3",
   "version": "3.6.2"
  }
 },
 "nbformat": 4,
 "nbformat_minor": 2
}
